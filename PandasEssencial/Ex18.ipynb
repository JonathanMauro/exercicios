{
 "cells": [
  {
   "cell_type": "markdown",
   "metadata": {},
   "source": [
    "Construa um objeto do tipo DataFrame com a estrutura abaixo. Utilize np.random.random() para gerar números aleatórios.\n",
    "\n",
    "\n",
    "Resultado esperado:\n",
    "\n",
    "https://prnt.sc/Cya9GpxCfnOz"
   ]
  },
  {
   "cell_type": "code",
   "execution_count": 1,
   "metadata": {},
   "outputs": [],
   "source": [
    "import numpy as np\n",
    "import pandas as pd\n"
   ]
  },
  {
   "cell_type": "code",
   "execution_count": 5,
   "metadata": {},
   "outputs": [
    {
     "data": {
      "text/html": [
       "<div>\n",
       "<style scoped>\n",
       "    .dataframe tbody tr th:only-of-type {\n",
       "        vertical-align: middle;\n",
       "    }\n",
       "\n",
       "    .dataframe tbody tr th {\n",
       "        vertical-align: top;\n",
       "    }\n",
       "\n",
       "    .dataframe thead th {\n",
       "        text-align: right;\n",
       "    }\n",
       "</style>\n",
       "<table border=\"1\" class=\"dataframe\">\n",
       "  <thead>\n",
       "    <tr style=\"text-align: right;\">\n",
       "      <th></th>\n",
       "      <th>A</th>\n",
       "      <th>B</th>\n",
       "      <th>C</th>\n",
       "      <th>D</th>\n",
       "      <th>E</th>\n",
       "    </tr>\n",
       "  </thead>\n",
       "  <tbody>\n",
       "    <tr>\n",
       "      <th>1</th>\n",
       "      <td>0.088797</td>\n",
       "      <td>0.788483</td>\n",
       "      <td>0.205628</td>\n",
       "      <td>0.398146</td>\n",
       "      <td>0.231978</td>\n",
       "    </tr>\n",
       "    <tr>\n",
       "      <th>2</th>\n",
       "      <td>0.681315</td>\n",
       "      <td>0.876238</td>\n",
       "      <td>0.169039</td>\n",
       "      <td>0.503386</td>\n",
       "      <td>0.279080</td>\n",
       "    </tr>\n",
       "    <tr>\n",
       "      <th>3</th>\n",
       "      <td>0.837561</td>\n",
       "      <td>0.013165</td>\n",
       "      <td>0.397923</td>\n",
       "      <td>0.345834</td>\n",
       "      <td>0.029616</td>\n",
       "    </tr>\n",
       "    <tr>\n",
       "      <th>4</th>\n",
       "      <td>0.864415</td>\n",
       "      <td>0.760584</td>\n",
       "      <td>0.749093</td>\n",
       "      <td>0.290443</td>\n",
       "      <td>0.757005</td>\n",
       "    </tr>\n",
       "    <tr>\n",
       "      <th>5</th>\n",
       "      <td>0.826350</td>\n",
       "      <td>0.843558</td>\n",
       "      <td>0.645549</td>\n",
       "      <td>0.083495</td>\n",
       "      <td>0.371294</td>\n",
       "    </tr>\n",
       "    <tr>\n",
       "      <th>6</th>\n",
       "      <td>0.034108</td>\n",
       "      <td>0.833339</td>\n",
       "      <td>0.532741</td>\n",
       "      <td>0.326669</td>\n",
       "      <td>0.955525</td>\n",
       "    </tr>\n",
       "    <tr>\n",
       "      <th>7</th>\n",
       "      <td>0.846917</td>\n",
       "      <td>0.892345</td>\n",
       "      <td>0.842883</td>\n",
       "      <td>0.494394</td>\n",
       "      <td>0.343655</td>\n",
       "    </tr>\n",
       "    <tr>\n",
       "      <th>8</th>\n",
       "      <td>0.119113</td>\n",
       "      <td>0.540230</td>\n",
       "      <td>0.291652</td>\n",
       "      <td>0.887848</td>\n",
       "      <td>0.892378</td>\n",
       "    </tr>\n",
       "    <tr>\n",
       "      <th>9</th>\n",
       "      <td>0.831790</td>\n",
       "      <td>0.587461</td>\n",
       "      <td>0.371763</td>\n",
       "      <td>0.255455</td>\n",
       "      <td>0.448071</td>\n",
       "    </tr>\n",
       "    <tr>\n",
       "      <th>10</th>\n",
       "      <td>0.557958</td>\n",
       "      <td>0.179489</td>\n",
       "      <td>0.519208</td>\n",
       "      <td>0.332822</td>\n",
       "      <td>0.502165</td>\n",
       "    </tr>\n",
       "  </tbody>\n",
       "</table>\n",
       "</div>"
      ],
      "text/plain": [
       "           A         B         C         D         E\n",
       "1   0.088797  0.788483  0.205628  0.398146  0.231978\n",
       "2   0.681315  0.876238  0.169039  0.503386  0.279080\n",
       "3   0.837561  0.013165  0.397923  0.345834  0.029616\n",
       "4   0.864415  0.760584  0.749093  0.290443  0.757005\n",
       "5   0.826350  0.843558  0.645549  0.083495  0.371294\n",
       "6   0.034108  0.833339  0.532741  0.326669  0.955525\n",
       "7   0.846917  0.892345  0.842883  0.494394  0.343655\n",
       "8   0.119113  0.540230  0.291652  0.887848  0.892378\n",
       "9   0.831790  0.587461  0.371763  0.255455  0.448071\n",
       "10  0.557958  0.179489  0.519208  0.332822  0.502165"
      ]
     },
     "execution_count": 5,
     "metadata": {},
     "output_type": "execute_result"
    }
   ],
   "source": [
    "df = pd.DataFrame(np.random.random(50).reshape((10,5)),\n",
    "                index = range(1,11),\n",
    "                columns = list('ABCDE'))\n",
    "df"
   ]
  }
 ],
 "metadata": {
  "kernelspec": {
   "display_name": "Python 3.10.5 64-bit",
   "language": "python",
   "name": "python3"
  },
  "language_info": {
   "codemirror_mode": {
    "name": "ipython",
    "version": 3
   },
   "file_extension": ".py",
   "mimetype": "text/x-python",
   "name": "python",
   "nbconvert_exporter": "python",
   "pygments_lexer": "ipython3",
   "version": "3.10.5"
  },
  "orig_nbformat": 4,
  "vscode": {
   "interpreter": {
    "hash": "9f0d103aebe82dfbb47ec724a2ca4fd3dcb0c9038207abb072b7913218171667"
   }
  }
 },
 "nbformat": 4,
 "nbformat_minor": 2
}
