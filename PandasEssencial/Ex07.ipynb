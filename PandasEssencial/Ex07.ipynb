{
 "cells": [
  {
   "cell_type": "markdown",
   "metadata": {},
   "source": [
    "Crie as Series abaixo.\n",
    "\n",
    "\n",
    "A)\n",
    "\n",
    "\n",
    "A     1\n",
    "\n",
    "B     3\n",
    "\n",
    "C     5\n",
    "\n",
    "D     7\n",
    "\n",
    "E     9\n",
    "\n",
    "F    11\n",
    "\n",
    "G    13\n",
    "\n",
    "H    15\n",
    "\n",
    "I    17\n",
    "\n",
    "J    19\n",
    "\n",
    "dtype: int64\n",
    "\n",
    "B)\n",
    "\n",
    "F     5\n",
    "\n",
    "G    10\n",
    "\n",
    "H    15\n",
    "\n",
    "I    20\n",
    "\n",
    "J    25\n",
    "\n",
    "K    30\n",
    "\n",
    "L    35\n",
    "\n",
    "M    40\n",
    "\n",
    "N    45\n",
    "\n",
    "dtype: int64"
   ]
  },
  {
   "cell_type": "code",
   "execution_count": 1,
   "metadata": {},
   "outputs": [],
   "source": [
    "import numpy as np\n",
    "import pandas as pd\n"
   ]
  },
  {
   "cell_type": "code",
   "execution_count": 2,
   "metadata": {},
   "outputs": [
    {
     "data": {
      "text/plain": [
       "A     1\n",
       "B     3\n",
       "C     5\n",
       "D     7\n",
       "E     9\n",
       "F    11\n",
       "G    13\n",
       "H    15\n",
       "I    17\n",
       "J    19\n",
       "dtype: int32"
      ]
     },
     "execution_count": 2,
     "metadata": {},
     "output_type": "execute_result"
    }
   ],
   "source": [
    "#A)\n",
    "a = pd.Series(data = np.arange(1, 20, 2), index = [chr(65+i) for i in range(10)])\n",
    " \n",
    "a"
   ]
  },
  {
   "cell_type": "code",
   "execution_count": 9,
   "metadata": {},
   "outputs": [
    {
     "data": {
      "text/plain": [
       "F     5\n",
       "G    10\n",
       "H    15\n",
       "I    20\n",
       "J    25\n",
       "K    30\n",
       "L    35\n",
       "M    40\n",
       "N    45\n",
       "dtype: int32"
      ]
     },
     "execution_count": 9,
     "metadata": {},
     "output_type": "execute_result"
    }
   ],
   "source": [
    "b = pd.Series(data = np.arange(5, 50, 5),index = [chr(70+i) for i in range(9)])\n",
    "b"
   ]
  }
 ],
 "metadata": {
  "kernelspec": {
   "display_name": "Python 3.10.5 64-bit",
   "language": "python",
   "name": "python3"
  },
  "language_info": {
   "codemirror_mode": {
    "name": "ipython",
    "version": 3
   },
   "file_extension": ".py",
   "mimetype": "text/x-python",
   "name": "python",
   "nbconvert_exporter": "python",
   "pygments_lexer": "ipython3",
   "version": "3.10.5"
  },
  "orig_nbformat": 4,
  "vscode": {
   "interpreter": {
    "hash": "9f0d103aebe82dfbb47ec724a2ca4fd3dcb0c9038207abb072b7913218171667"
   }
  }
 },
 "nbformat": 4,
 "nbformat_minor": 2
}
