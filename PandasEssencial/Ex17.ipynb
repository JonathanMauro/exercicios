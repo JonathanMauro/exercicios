{
 "cells": [
  {
   "cell_type": "markdown",
   "metadata": {},
   "source": [
    "Considerando o exercício anterior: (1) adicione uma nova coluna 'Receita Total' (RT) ao DataFrame, que corresponde ao produto entre o preço (p) e a quantidade (q), ou seja, RT = p x q; (2) adicione uma nova coluna 'Lucro Total' (LT), que corresponde a diferença entre a Receita Total e o Custo Total (CT), isto é, LT = RT - CT.\n",
    "\n",
    "\n",
    "Resultado esperado:\n",
    "\n",
    "https://prnt.sc/RB2vjvA_6YlO"
   ]
  },
  {
   "cell_type": "code",
   "execution_count": 1,
   "metadata": {},
   "outputs": [],
   "source": [
    "import pandas as pd"
   ]
  },
  {
   "cell_type": "code",
   "execution_count": 4,
   "metadata": {},
   "outputs": [
    {
     "data": {
      "text/html": [
       "<div>\n",
       "<style scoped>\n",
       "    .dataframe tbody tr th:only-of-type {\n",
       "        vertical-align: middle;\n",
       "    }\n",
       "\n",
       "    .dataframe tbody tr th {\n",
       "        vertical-align: top;\n",
       "    }\n",
       "\n",
       "    .dataframe thead th {\n",
       "        text-align: right;\n",
       "    }\n",
       "</style>\n",
       "<table border=\"1\" class=\"dataframe\">\n",
       "  <thead>\n",
       "    <tr style=\"text-align: right;\">\n",
       "      <th></th>\n",
       "      <th>Preço</th>\n",
       "      <th>Quantidade</th>\n",
       "      <th>Custo Total</th>\n",
       "      <th>Receita Total</th>\n",
       "      <th>Lucro Total</th>\n",
       "    </tr>\n",
       "  </thead>\n",
       "  <tbody>\n",
       "    <tr>\n",
       "      <th>Produto 1</th>\n",
       "      <td>20.3</td>\n",
       "      <td>10</td>\n",
       "      <td>100.00</td>\n",
       "      <td>203.0</td>\n",
       "      <td>103.00</td>\n",
       "    </tr>\n",
       "    <tr>\n",
       "      <th>Produto 2</th>\n",
       "      <td>31.2</td>\n",
       "      <td>33</td>\n",
       "      <td>568.70</td>\n",
       "      <td>1029.6</td>\n",
       "      <td>460.90</td>\n",
       "    </tr>\n",
       "    <tr>\n",
       "      <th>Produto 3</th>\n",
       "      <td>44.7</td>\n",
       "      <td>45</td>\n",
       "      <td>205.20</td>\n",
       "      <td>2011.5</td>\n",
       "      <td>1806.30</td>\n",
       "    </tr>\n",
       "    <tr>\n",
       "      <th>Produto 4</th>\n",
       "      <td>30.5</td>\n",
       "      <td>51</td>\n",
       "      <td>507.10</td>\n",
       "      <td>1555.5</td>\n",
       "      <td>1048.40</td>\n",
       "    </tr>\n",
       "    <tr>\n",
       "      <th>Produto 5</th>\n",
       "      <td>19.8</td>\n",
       "      <td>11</td>\n",
       "      <td>250.12</td>\n",
       "      <td>217.8</td>\n",
       "      <td>-32.32</td>\n",
       "    </tr>\n",
       "    <tr>\n",
       "      <th>Produto 6</th>\n",
       "      <td>11.2</td>\n",
       "      <td>8</td>\n",
       "      <td>55.30</td>\n",
       "      <td>89.6</td>\n",
       "      <td>34.30</td>\n",
       "    </tr>\n",
       "    <tr>\n",
       "      <th>Produto 7</th>\n",
       "      <td>15.7</td>\n",
       "      <td>91</td>\n",
       "      <td>1579.00</td>\n",
       "      <td>1428.7</td>\n",
       "      <td>-150.30</td>\n",
       "    </tr>\n",
       "    <tr>\n",
       "      <th>Produto 8</th>\n",
       "      <td>17.3</td>\n",
       "      <td>8</td>\n",
       "      <td>130.00</td>\n",
       "      <td>138.4</td>\n",
       "      <td>8.40</td>\n",
       "    </tr>\n",
       "  </tbody>\n",
       "</table>\n",
       "</div>"
      ],
      "text/plain": [
       "           Preço  Quantidade  Custo Total  Receita Total  Lucro Total\n",
       "Produto 1   20.3          10       100.00          203.0       103.00\n",
       "Produto 2   31.2          33       568.70         1029.6       460.90\n",
       "Produto 3   44.7          45       205.20         2011.5      1806.30\n",
       "Produto 4   30.5          51       507.10         1555.5      1048.40\n",
       "Produto 5   19.8          11       250.12          217.8       -32.32\n",
       "Produto 6   11.2           8        55.30           89.6        34.30\n",
       "Produto 7   15.7          91      1579.00         1428.7      -150.30\n",
       "Produto 8   17.3           8       130.00          138.4         8.40"
      ]
     },
     "execution_count": 4,
     "metadata": {},
     "output_type": "execute_result"
    }
   ],
   "source": [
    "index = ['Produto '+str(i) for i in range(1,9)]\n",
    "dados = {\n",
    "    'Preço': [20.3, 31.2, 44.7, 30.5, 19.8, 11.2, 15.7, 17.3],\n",
    "    'Quantidade': [10, 33, 45, 51, 11, 8, 91, 8],\n",
    "    'Custo Total': [100, 568.7, 205.2, 507.1, 250.12, 55.3, 1579, 130]}\n",
    "\n",
    "df = pd.DataFrame(dados, index)\n",
    "df['Receita Total'] = df['Preço']*df['Quantidade']\n",
    "df['Lucro Total'] = df['Receita Total']-df['Custo Total']\n",
    "df"
   ]
  }
 ],
 "metadata": {
  "kernelspec": {
   "display_name": "Python 3.10.5 64-bit",
   "language": "python",
   "name": "python3"
  },
  "language_info": {
   "codemirror_mode": {
    "name": "ipython",
    "version": 3
   },
   "file_extension": ".py",
   "mimetype": "text/x-python",
   "name": "python",
   "nbconvert_exporter": "python",
   "pygments_lexer": "ipython3",
   "version": "3.10.5"
  },
  "orig_nbformat": 4,
  "vscode": {
   "interpreter": {
    "hash": "9f0d103aebe82dfbb47ec724a2ca4fd3dcb0c9038207abb072b7913218171667"
   }
  }
 },
 "nbformat": 4,
 "nbformat_minor": 2
}
