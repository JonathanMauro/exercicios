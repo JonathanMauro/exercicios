{
 "cells": [
  {
   "cell_type": "markdown",
   "metadata": {},
   "source": [
    "a) A partir do dicionário abaixo, crie um objeto do tipo Series e armazene em uma variável. Em seguida, converta o objeto criado para uma lista. Por fim, crie um DataFrame com os dados disponíveis.\n",
    "\n",
    "\n",
    "\n",
    "\n",
    "dados={\n",
    "\n",
    "    'ABEV3':12.85,\n",
    "\n",
    "    'AZUL4':22.55,\n",
    "\n",
    "    'BTOW3':115.08,\n",
    "\n",
    "    'RENT3':49.03,\n",
    "\n",
    "    'JBSS3':24.41,\n",
    "\n",
    "    }\n",
    "\n",
    "\n",
    "\n",
    "b) Acrescente os novos valores a Series criada:\n",
    "\n",
    "\n",
    "\n",
    "\n",
    "RAIL3: 18.93\n",
    "\n",
    "SUZB3: 48.19\n",
    "\n",
    "MGLU3: 25.59\n"
   ]
  },
  {
   "cell_type": "code",
   "execution_count": 1,
   "metadata": {},
   "outputs": [],
   "source": [
    "import numpy as np\n",
    "import pandas as pd"
   ]
  },
  {
   "cell_type": "code",
   "execution_count": 2,
   "metadata": {},
   "outputs": [],
   "source": [
    "dados={\n",
    "    'ABEV3':12.85,\n",
    "    'AZUL4':22.55,\n",
    "    'BTOW3':115.08,\n",
    "    'RENT3':49.03,\n",
    "    'JBSS3':24.41,\n",
    "    }\n"
   ]
  },
  {
   "cell_type": "code",
   "execution_count": 5,
   "metadata": {},
   "outputs": [
    {
     "data": {
      "text/plain": [
       "ABEV3     12.85\n",
       "AZUL4     22.55\n",
       "BTOW3    115.08\n",
       "RENT3     49.03\n",
       "JBSS3     24.41\n",
       "dtype: float64"
      ]
     },
     "execution_count": 5,
     "metadata": {},
     "output_type": "execute_result"
    }
   ],
   "source": [
    "#A)\n",
    "serie1 = pd.Series(dados)\n",
    "serie1"
   ]
  },
  {
   "cell_type": "code",
   "execution_count": 7,
   "metadata": {},
   "outputs": [
    {
     "data": {
      "text/plain": [
       "[12.85, 22.55, 115.08, 49.03, 24.41]"
      ]
     },
     "execution_count": 7,
     "metadata": {},
     "output_type": "execute_result"
    }
   ],
   "source": [
    "serie1.to_list()"
   ]
  },
  {
   "cell_type": "code",
   "execution_count": 12,
   "metadata": {},
   "outputs": [
    {
     "data": {
      "text/html": [
       "<div>\n",
       "<style scoped>\n",
       "    .dataframe tbody tr th:only-of-type {\n",
       "        vertical-align: middle;\n",
       "    }\n",
       "\n",
       "    .dataframe tbody tr th {\n",
       "        vertical-align: top;\n",
       "    }\n",
       "\n",
       "    .dataframe thead th {\n",
       "        text-align: right;\n",
       "    }\n",
       "</style>\n",
       "<table border=\"1\" class=\"dataframe\">\n",
       "  <thead>\n",
       "    <tr style=\"text-align: right;\">\n",
       "      <th></th>\n",
       "      <th>Preços</th>\n",
       "    </tr>\n",
       "  </thead>\n",
       "  <tbody>\n",
       "    <tr>\n",
       "      <th>ABEV3</th>\n",
       "      <td>12.85</td>\n",
       "    </tr>\n",
       "    <tr>\n",
       "      <th>AZUL4</th>\n",
       "      <td>22.55</td>\n",
       "    </tr>\n",
       "    <tr>\n",
       "      <th>BTOW3</th>\n",
       "      <td>115.08</td>\n",
       "    </tr>\n",
       "    <tr>\n",
       "      <th>RENT3</th>\n",
       "      <td>49.03</td>\n",
       "    </tr>\n",
       "    <tr>\n",
       "      <th>JBSS3</th>\n",
       "      <td>24.41</td>\n",
       "    </tr>\n",
       "  </tbody>\n",
       "</table>\n",
       "</div>"
      ],
      "text/plain": [
       "       Preços\n",
       "ABEV3   12.85\n",
       "AZUL4   22.55\n",
       "BTOW3  115.08\n",
       "RENT3   49.03\n",
       "JBSS3   24.41"
      ]
     },
     "execution_count": 12,
     "metadata": {},
     "output_type": "execute_result"
    }
   ],
   "source": [
    "df = pd.DataFrame(serie1, columns = ['Preços'])\n",
    "df"
   ]
  },
  {
   "cell_type": "code",
   "execution_count": 14,
   "metadata": {},
   "outputs": [
    {
     "data": {
      "text/plain": [
       "ABEV3     12.85\n",
       "AZUL4     22.55\n",
       "BTOW3    115.08\n",
       "RENT3     49.03\n",
       "JBSS3     24.41\n",
       "RAIL3     18.93\n",
       "SUZB3     48.19\n",
       "MGLU3     25.59\n",
       "dtype: float64"
      ]
     },
     "execution_count": 14,
     "metadata": {},
     "output_type": "execute_result"
    }
   ],
   "source": [
    "#B)\n",
    "serie1['RAIL3'] = 18.93\n",
    "serie1['SUZB3'] = 48.19\n",
    "serie1['MGLU3'] = 25.59\n",
    "serie1"
   ]
  }
 ],
 "metadata": {
  "kernelspec": {
   "display_name": "Python 3.10.5 64-bit",
   "language": "python",
   "name": "python3"
  },
  "language_info": {
   "codemirror_mode": {
    "name": "ipython",
    "version": 3
   },
   "file_extension": ".py",
   "mimetype": "text/x-python",
   "name": "python",
   "nbconvert_exporter": "python",
   "pygments_lexer": "ipython3",
   "version": "3.10.5"
  },
  "orig_nbformat": 4,
  "vscode": {
   "interpreter": {
    "hash": "9f0d103aebe82dfbb47ec724a2ca4fd3dcb0c9038207abb072b7913218171667"
   }
  }
 },
 "nbformat": 4,
 "nbformat_minor": 2
}
