{
 "cells": [
  {
   "cell_type": "markdown",
   "metadata": {},
   "source": [
    "Com base no DataFrame abaixo,\n",
    "\n",
    "\n",
    "     \n",
    "https://prnt.sc/GpWpJl8CU4Mk\n",
    " \n",
    "\n",
    "\n",
    "Mostre na tela as seguintes informações:   \n",
    "\n",
    "\n",
    "a) números de linhas;\n",
    "\n",
    "\n",
    "b) número de colunas;\n",
    "\n",
    "\n",
    "c) shape;\n",
    "\n",
    "\n",
    "d) número total de elementos;\n",
    "\n",
    "\n",
    "e) Número de dimensões;\n",
    "\n",
    "\n",
    "f) informações do dataset com a função info();\n",
    "\n",
    "\n",
    "g) o dtype de cada coluna;\n",
    "\n",
    "\n",
    "h) estatísticas descritivas de cada coluna."
   ]
  },
  {
   "cell_type": "code",
   "execution_count": 1,
   "metadata": {},
   "outputs": [],
   "source": [
    "import pandas as pd\n",
    "import numpy as np\n",
    " \n"
   ]
  },
  {
   "cell_type": "code",
   "execution_count": 2,
   "metadata": {},
   "outputs": [],
   "source": [
    "dados = np.random.uniform(low = 0, high = 5, size = (100,5))\n",
    "df = pd.DataFrame(dados, \n",
    "                  index = range(1,dados.shape[0]+1), \n",
    "                  columns = list('ABCDE'))"
   ]
  },
  {
   "cell_type": "code",
   "execution_count": 6,
   "metadata": {},
   "outputs": [
    {
     "name": "stdout",
     "output_type": "stream",
     "text": [
      "Número de linhas: 100\n"
     ]
    }
   ],
   "source": [
    "#A)\n",
    "print(f'Número de linhas: {df.shape[0]}')"
   ]
  },
  {
   "cell_type": "code",
   "execution_count": 9,
   "metadata": {},
   "outputs": [
    {
     "name": "stdout",
     "output_type": "stream",
     "text": [
      "O número de colunas: 5\n"
     ]
    }
   ],
   "source": [
    "#B)\n",
    "print(f'O número de colunas: {df.shape[1]}')"
   ]
  },
  {
   "cell_type": "code",
   "execution_count": 10,
   "metadata": {},
   "outputs": [
    {
     "name": "stdout",
     "output_type": "stream",
     "text": [
      "Shape: (100, 5)\n"
     ]
    }
   ],
   "source": [
    "#C)\n",
    "print(f'Shape: {df.shape}')"
   ]
  },
  {
   "cell_type": "code",
   "execution_count": 12,
   "metadata": {},
   "outputs": [
    {
     "name": "stdout",
     "output_type": "stream",
     "text": [
      "Número total de elementos: 500\n"
     ]
    }
   ],
   "source": [
    "#D)\n",
    "print(f'Número total de elementos: {df.size}')\n"
   ]
  },
  {
   "cell_type": "code",
   "execution_count": 13,
   "metadata": {},
   "outputs": [
    {
     "name": "stdout",
     "output_type": "stream",
     "text": [
      "Número de dimensões: 2\n"
     ]
    }
   ],
   "source": [
    "#E)\n",
    "print(f'Número de dimensões: {df.ndim}')"
   ]
  },
  {
   "cell_type": "code",
   "execution_count": 14,
   "metadata": {},
   "outputs": [
    {
     "name": "stdout",
     "output_type": "stream",
     "text": [
      "----------------------------------------------------------------------------------------------------\n",
      "Informações do dataset:\n",
      "<class 'pandas.core.frame.DataFrame'>\n",
      "RangeIndex: 100 entries, 1 to 100\n",
      "Data columns (total 5 columns):\n",
      " #   Column  Non-Null Count  Dtype  \n",
      "---  ------  --------------  -----  \n",
      " 0   A       100 non-null    float64\n",
      " 1   B       100 non-null    float64\n",
      " 2   C       100 non-null    float64\n",
      " 3   D       100 non-null    float64\n",
      " 4   E       100 non-null    float64\n",
      "dtypes: float64(5)\n",
      "memory usage: 4.0 KB\n",
      "None\n",
      "----------------------------------------------------------------------------------------------------\n"
     ]
    }
   ],
   "source": [
    "#F)\n",
    "print('-'*100)\n",
    "print(f'Informações do dataset:')\n",
    "print(df.info())\n",
    "print('-'*100)"
   ]
  },
  {
   "cell_type": "code",
   "execution_count": 15,
   "metadata": {},
   "outputs": [
    {
     "name": "stdout",
     "output_type": "stream",
     "text": [
      "Dtype de cada coluna: \n",
      "A    float64\n",
      "B    float64\n",
      "C    float64\n",
      "D    float64\n",
      "E    float64\n",
      "dtype: object\n",
      "----------------------------------------------------------------------------------------------------\n"
     ]
    }
   ],
   "source": [
    "#G)\n",
    "print(f'Dtype de cada coluna: \\n{df.dtypes}')\n",
    "print('-'*100)"
   ]
  },
  {
   "cell_type": "code",
   "execution_count": 16,
   "metadata": {},
   "outputs": [
    {
     "name": "stdout",
     "output_type": "stream",
     "text": [
      "Estatísticas descritivas: \n",
      "                A           B           C           D           E\n",
      "count  100.000000  100.000000  100.000000  100.000000  100.000000\n",
      "mean     2.554139    2.356325    2.555554    2.693386    2.451734\n",
      "std      1.438224    1.538701    1.398780    1.349769    1.464070\n",
      "min      0.030911    0.003802    0.016940    0.061210    0.013737\n",
      "25%      1.225920    0.879800    1.589073    1.598951    1.074601\n",
      "50%      2.705453    2.211867    2.502315    2.779590    2.438004\n",
      "75%      3.773200    3.715515    3.657510    3.713038    3.843488\n",
      "max      4.989374    4.979719    4.914516    4.985747    4.835100\n"
     ]
    }
   ],
   "source": [
    "#H)\n",
    "print(f'Estatísticas descritivas: \\n{df.describe()}')"
   ]
  }
 ],
 "metadata": {
  "kernelspec": {
   "display_name": "Python 3.10.5 64-bit",
   "language": "python",
   "name": "python3"
  },
  "language_info": {
   "codemirror_mode": {
    "name": "ipython",
    "version": 3
   },
   "file_extension": ".py",
   "mimetype": "text/x-python",
   "name": "python",
   "nbconvert_exporter": "python",
   "pygments_lexer": "ipython3",
   "version": "3.10.5"
  },
  "orig_nbformat": 4,
  "vscode": {
   "interpreter": {
    "hash": "9f0d103aebe82dfbb47ec724a2ca4fd3dcb0c9038207abb072b7913218171667"
   }
  }
 },
 "nbformat": 4,
 "nbformat_minor": 2
}
