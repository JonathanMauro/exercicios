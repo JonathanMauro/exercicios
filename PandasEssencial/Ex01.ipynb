{
 "cells": [
  {
   "cell_type": "markdown",
   "metadata": {},
   "source": [
    "Uma Series (array unidimensional) da biblioteca Pandas pode ser criada utilizando-se o construtor:\n",
    "\n",
    "\n",
    "pd.Series( data, index, dtype, copy )\n",
    "\n",
    "\n",
    "Então, podemos criar objetos do tipo Series a partir de array, dicionários, escalares e iteráveis. Com base nessas informações responda as questões a seguir.\n",
    "\n",
    "\n",
    "\n",
    "\n",
    "a) A partir da lista abaixo crie um objeto do tipo Series.\n",
    "\n",
    "\n",
    "\n",
    "\n",
    "lista = ['a', 'b', 'c', 'd']\n",
    "\n",
    "\n",
    "\n",
    "Resultado esperado:\n",
    "\n",
    "\n",
    "\n",
    "\n",
    "\n",
    "0    a\n",
    "\n",
    "1    b\n",
    "\n",
    "2    c\n",
    "\n",
    "3    d\n",
    "\n",
    "dtype: object\n",
    "\n",
    "\n",
    "\n",
    "b) A partir da lista anterior obtenha:\n",
    "\n",
    "\n",
    "\n",
    "\n",
    "\n",
    "10    a\n",
    "\n",
    "11    b\n",
    "\n",
    "12    c\n",
    "\n",
    "13    d\n",
    "\n",
    "dtype: object\n",
    "\n",
    "\n",
    "\n",
    "Dica: mude o argumento index.\n",
    "\n",
    "\n",
    "\n",
    "\n",
    "c) Obtenha a Series abaixo:\n",
    "\n",
    "\n",
    "\n",
    "\n",
    "0    10\n",
    "\n",
    "1    10\n",
    "\n",
    "2    10\n",
    "\n",
    "3    10\n",
    "\n",
    "dtype: int64\n",
    "\n",
    "\n",
    "\n",
    "\n",
    "d) A partir do array,\n",
    "\n",
    "\n",
    "\n",
    "\n",
    "\n",
    "import numpy as np\n",
    "\n",
    "array = np.arange(10,20,2)\n",
    "\n",
    "\n",
    "\n",
    "Obtenha:\n",
    "\n",
    "\n",
    "\n",
    "\n",
    "\n",
    "1    10.0\n",
    "\n",
    "2    12.0\n",
    "\n",
    "3    14.0\n",
    "\n",
    "4    16.0\n",
    "\n",
    "5    18.0\n",
    "\n",
    "\n",
    "dtype: float64"
   ]
  },
  {
   "cell_type": "code",
   "execution_count": 1,
   "metadata": {},
   "outputs": [],
   "source": [
    "import numpy as np\n",
    "import pandas as pd"
   ]
  },
  {
   "cell_type": "code",
   "execution_count": 2,
   "metadata": {},
   "outputs": [
    {
     "data": {
      "text/plain": [
       "0    a\n",
       "1    b\n",
       "2    c\n",
       "3    d\n",
       "dtype: object"
      ]
     },
     "execution_count": 2,
     "metadata": {},
     "output_type": "execute_result"
    }
   ],
   "source": [
    "#A)\n",
    "lista = ['a', 'b', 'c', 'd']\n",
    "serie1 = pd.Series(lista)\n",
    "serie1"
   ]
  },
  {
   "cell_type": "code",
   "execution_count": 3,
   "metadata": {},
   "outputs": [
    {
     "data": {
      "text/plain": [
       "10    a\n",
       "11    b\n",
       "12    c\n",
       "13    d\n",
       "dtype: object"
      ]
     },
     "execution_count": 3,
     "metadata": {},
     "output_type": "execute_result"
    }
   ],
   "source": [
    "#B)\n",
    "data = ['10', '11', '12', '13']\n",
    "serie2 = pd.Series(lista,index=[10, 11, 12, 13])\n",
    "serie2 \n"
   ]
  },
  {
   "cell_type": "code",
   "execution_count": 4,
   "metadata": {},
   "outputs": [
    {
     "data": {
      "text/plain": [
       "0    10\n",
       "1    10\n",
       "2    10\n",
       "3    10\n",
       "dtype: int64"
      ]
     },
     "execution_count": 4,
     "metadata": {},
     "output_type": "execute_result"
    }
   ],
   "source": [
    "#c)\n",
    "serie3 = pd.Series(10,index=[0,1,2,3])\n",
    "serie3"
   ]
  },
  {
   "cell_type": "code",
   "execution_count": 5,
   "metadata": {},
   "outputs": [
    {
     "data": {
      "text/plain": [
       "1    10.0\n",
       "2    12.0\n",
       "3    14.0\n",
       "4    16.0\n",
       "5    18.0\n",
       "dtype: float64"
      ]
     },
     "execution_count": 5,
     "metadata": {},
     "output_type": "execute_result"
    }
   ],
   "source": [
    "#d) \n",
    "array = np.arange(10,20,2)\n",
    "serie4 = pd.Series(array, index=range(1,6), dtype=float)\n",
    "\n",
    "serie4"
   ]
  }
 ],
 "metadata": {
  "kernelspec": {
   "display_name": "Python 3.10.5 64-bit",
   "language": "python",
   "name": "python3"
  },
  "language_info": {
   "codemirror_mode": {
    "name": "ipython",
    "version": 3
   },
   "file_extension": ".py",
   "mimetype": "text/x-python",
   "name": "python",
   "nbconvert_exporter": "python",
   "pygments_lexer": "ipython3",
   "version": "3.10.5"
  },
  "orig_nbformat": 4,
  "vscode": {
   "interpreter": {
    "hash": "9f0d103aebe82dfbb47ec724a2ca4fd3dcb0c9038207abb072b7913218171667"
   }
  }
 },
 "nbformat": 4,
 "nbformat_minor": 2
}
