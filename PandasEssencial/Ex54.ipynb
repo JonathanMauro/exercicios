{
 "cells": [
  {
   "cell_type": "markdown",
   "metadata": {},
   "source": [
    "Para iterar nas linhas de um DataFrame podemos usar as seguintes funções:\n",
    "\n",
    "\n",
    "iteritems(): itera ao longo do par key,value (similar a um dicionário);\n",
    "\n",
    "\n",
    "iterrows(): itera ao longo das das linhas (par index,Series);\n",
    "\n",
    "\n",
    "itertuples(): itera ao longo das linhas como namedtuples.\n",
    "\n",
    "\n",
    "Construa o DataFrame abaixo.\n",
    "\n",
    "\n",
    "https://prnt.sc/ZI9Bj7C83DM3\n",
    "\n",
    "Construa um script para iterar sobre este, usando a função iteritems(). Resultado esperado:\n",
    "\n",
    "https://prnt.sc/HQZynMk3IzfP"
   ]
  },
  {
   "cell_type": "code",
   "execution_count": 1,
   "metadata": {},
   "outputs": [],
   "source": [
    "import pandas as pd\n",
    "import numpy as np"
   ]
  },
  {
   "cell_type": "code",
   "execution_count": 3,
   "metadata": {},
   "outputs": [
    {
     "data": {
      "text/html": [
       "<div>\n",
       "<style scoped>\n",
       "    .dataframe tbody tr th:only-of-type {\n",
       "        vertical-align: middle;\n",
       "    }\n",
       "\n",
       "    .dataframe tbody tr th {\n",
       "        vertical-align: top;\n",
       "    }\n",
       "\n",
       "    .dataframe thead th {\n",
       "        text-align: right;\n",
       "    }\n",
       "</style>\n",
       "<table border=\"1\" class=\"dataframe\">\n",
       "  <thead>\n",
       "    <tr style=\"text-align: right;\">\n",
       "      <th></th>\n",
       "      <th>A</th>\n",
       "      <th>B</th>\n",
       "      <th>C</th>\n",
       "    </tr>\n",
       "  </thead>\n",
       "  <tbody>\n",
       "    <tr>\n",
       "      <th>2020-12-31</th>\n",
       "      <td>0</td>\n",
       "      <td>1</td>\n",
       "      <td>2</td>\n",
       "    </tr>\n",
       "    <tr>\n",
       "      <th>2021-01-31</th>\n",
       "      <td>1</td>\n",
       "      <td>4</td>\n",
       "      <td>4</td>\n",
       "    </tr>\n",
       "    <tr>\n",
       "      <th>2021-02-28</th>\n",
       "      <td>2</td>\n",
       "      <td>9</td>\n",
       "      <td>6</td>\n",
       "    </tr>\n",
       "  </tbody>\n",
       "</table>\n",
       "</div>"
      ],
      "text/plain": [
       "            A  B  C\n",
       "2020-12-31  0  1  2\n",
       "2021-01-31  1  4  4\n",
       "2021-02-28  2  9  6"
      ]
     },
     "execution_count": 3,
     "metadata": {},
     "output_type": "execute_result"
    }
   ],
   "source": [
    "dados = {\n",
    "    'A' : [0, 1, 2],\n",
    "    'B' : [1, 4, 9],\n",
    "    'C' : [2, 4, 6]\n",
    "}\n",
    "index = pd.date_range(start = '2020-12-31', periods= 3, freq= '1M')\n",
    "df = pd.DataFrame(data = dados, index = index)\n",
    "df"
   ]
  },
  {
   "cell_type": "code",
   "execution_count": 5,
   "metadata": {},
   "outputs": [
    {
     "name": "stdout",
     "output_type": "stream",
     "text": [
      "A\n",
      "\tSoma dos valores: 3\n",
      "\tValor mínimo: 0\n",
      "\tValor máximo: 2\n",
      "\tMédia dos valores: 1.0\n",
      "\tDesvio padrão: 1.0\n",
      "\n",
      "B\n",
      "\tSoma dos valores: 14\n",
      "\tValor mínimo: 1\n",
      "\tValor máximo: 9\n",
      "\tMédia dos valores: 4.67\n",
      "\tDesvio padrão: 4.04\n",
      "\n",
      "C\n",
      "\tSoma dos valores: 12\n",
      "\tValor mínimo: 2\n",
      "\tValor máximo: 6\n",
      "\tMédia dos valores: 4.0\n",
      "\tDesvio padrão: 2.0\n",
      "\n"
     ]
    },
    {
     "name": "stderr",
     "output_type": "stream",
     "text": [
      "C:\\Users\\natha\\AppData\\Local\\Temp\\ipykernel_19776\\2127692197.py:1: FutureWarning: iteritems is deprecated and will be removed in a future version. Use .items instead.\n",
      "  for coluna,valores in df.iteritems():\n"
     ]
    }
   ],
   "source": [
    "for coluna,valores in df.iteritems():\n",
    "    print(coluna)\n",
    "    print(f'\\tSoma dos valores: {valores.sum()}')\n",
    "    print(f'\\tValor mínimo: {valores.min()}')\n",
    "    print(f'\\tValor máximo: {valores.max()}')\n",
    "    print(f'\\tMédia dos valores: {valores.mean().round(2)}')\n",
    "    print(f'\\tDesvio padrão: {valores.std().round(2)}')\n",
    "    print()"
   ]
  }
 ],
 "metadata": {
  "kernelspec": {
   "display_name": "Python 3.10.5 64-bit",
   "language": "python",
   "name": "python3"
  },
  "language_info": {
   "codemirror_mode": {
    "name": "ipython",
    "version": 3
   },
   "file_extension": ".py",
   "mimetype": "text/x-python",
   "name": "python",
   "nbconvert_exporter": "python",
   "pygments_lexer": "ipython3",
   "version": "3.10.5"
  },
  "orig_nbformat": 4,
  "vscode": {
   "interpreter": {
    "hash": "9f0d103aebe82dfbb47ec724a2ca4fd3dcb0c9038207abb072b7913218171667"
   }
  }
 },
 "nbformat": 4,
 "nbformat_minor": 2
}
