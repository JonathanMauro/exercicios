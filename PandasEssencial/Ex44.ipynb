{
 "cells": [
  {
   "cell_type": "markdown",
   "metadata": {},
   "source": [
    "Construa um DatetimeIndex para todos os dias do mês de setembro de 2021 (ano-mês-dia). Seguidamente construa uma Series com o date_range criado.\n",
    "\n",
    "https://prnt.sc/vTUpIemo7bxE"
   ]
  },
  {
   "cell_type": "code",
   "execution_count": 1,
   "metadata": {},
   "outputs": [],
   "source": [
    "import pandas as pd\n"
   ]
  },
  {
   "cell_type": "code",
   "execution_count": 3,
   "metadata": {},
   "outputs": [
    {
     "data": {
      "text/plain": [
       "DatetimeIndex(['2021-09-01', '2021-09-02', '2021-09-03', '2021-09-04',\n",
       "               '2021-09-05', '2021-09-06', '2021-09-07', '2021-09-08',\n",
       "               '2021-09-09', '2021-09-10', '2021-09-11', '2021-09-12',\n",
       "               '2021-09-13', '2021-09-14', '2021-09-15', '2021-09-16',\n",
       "               '2021-09-17', '2021-09-18', '2021-09-19', '2021-09-20',\n",
       "               '2021-09-21', '2021-09-22', '2021-09-23', '2021-09-24',\n",
       "               '2021-09-25', '2021-09-26', '2021-09-27', '2021-09-28',\n",
       "               '2021-09-29'],\n",
       "              dtype='datetime64[ns]', freq='D')"
      ]
     },
     "execution_count": 3,
     "metadata": {},
     "output_type": "execute_result"
    }
   ],
   "source": [
    "dias = pd.date_range(start= '2021-9-1', periods=29, freq='D')\n",
    "dias"
   ]
  },
  {
   "cell_type": "code",
   "execution_count": 4,
   "metadata": {},
   "outputs": [
    {
     "data": {
      "text/plain": [
       "0    2021-09-01\n",
       "1    2021-09-02\n",
       "2    2021-09-03\n",
       "3    2021-09-04\n",
       "4    2021-09-05\n",
       "5    2021-09-06\n",
       "6    2021-09-07\n",
       "7    2021-09-08\n",
       "8    2021-09-09\n",
       "9    2021-09-10\n",
       "10   2021-09-11\n",
       "11   2021-09-12\n",
       "12   2021-09-13\n",
       "13   2021-09-14\n",
       "14   2021-09-15\n",
       "15   2021-09-16\n",
       "16   2021-09-17\n",
       "17   2021-09-18\n",
       "18   2021-09-19\n",
       "19   2021-09-20\n",
       "20   2021-09-21\n",
       "21   2021-09-22\n",
       "22   2021-09-23\n",
       "23   2021-09-24\n",
       "24   2021-09-25\n",
       "25   2021-09-26\n",
       "26   2021-09-27\n",
       "27   2021-09-28\n",
       "28   2021-09-29\n",
       "dtype: datetime64[ns]"
      ]
     },
     "execution_count": 4,
     "metadata": {},
     "output_type": "execute_result"
    }
   ],
   "source": [
    "september2021 = pd.Series(dias)\n",
    "september2021"
   ]
  }
 ],
 "metadata": {
  "kernelspec": {
   "display_name": "Python 3.10.5 64-bit",
   "language": "python",
   "name": "python3"
  },
  "language_info": {
   "codemirror_mode": {
    "name": "ipython",
    "version": 3
   },
   "file_extension": ".py",
   "mimetype": "text/x-python",
   "name": "python",
   "nbconvert_exporter": "python",
   "pygments_lexer": "ipython3",
   "version": "3.10.5"
  },
  "orig_nbformat": 4,
  "vscode": {
   "interpreter": {
    "hash": "9f0d103aebe82dfbb47ec724a2ca4fd3dcb0c9038207abb072b7913218171667"
   }
  }
 },
 "nbformat": 4,
 "nbformat_minor": 2
}
