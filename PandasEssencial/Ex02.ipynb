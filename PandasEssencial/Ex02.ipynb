{
 "cells": [
  {
   "cell_type": "markdown",
   "metadata": {},
   "source": [
    "Uma Series (array unidimensional) da biblioteca Pandas pode ser criada utilizando-se o construtor:\n",
    "\n",
    "\n",
    "pd.Series( data, index, dtype, copy )\n",
    "\n",
    "\n",
    "Então, podemos criar objetos do tipo Series a partir de array, dicionários, escalares e iteráveis. Com base nessas informações responda as questões a seguir.\n",
    "\n",
    "\n",
    "\n",
    "\n",
    "a) A partir da lista abaixo crie um objeto do tipo Series.\n",
    "\n",
    "\n",
    "\n",
    "\n",
    "data = ['k','w','z','y']\n",
    "\n",
    "\n",
    "\n",
    "Resultado esperado:\n",
    "\n",
    "\n",
    "\n",
    "\n",
    "0    k\n",
    "\n",
    "1    w\n",
    "\n",
    "2    z\n",
    "\n",
    "3    y\n",
    "\n",
    "dtype: object\n",
    "\n",
    "\n",
    "\n",
    "b) A partir do dicionário abaixo crie um objeto do tipo Series.\n",
    "\n",
    "\n",
    "\n",
    "\n",
    "dic = {'a':10,'b':30,'c':15,'d':12}\n",
    "\n",
    "\n",
    "\n",
    "Resultado esperado:\n",
    "\n",
    "\n",
    "\n",
    "\n",
    "a    10\n",
    "\n",
    "b    30\n",
    "\n",
    "c    15\n",
    "\n",
    "d    12\n",
    "\n",
    "dtype: int64\n",
    "\n",
    "\n",
    "c) Converta os objetos do tipo Series criados anteriormente para uma lista.\n",
    "\n",
    "\n",
    "Dica: use o método do pandas to_list().\n",
    "\n",
    "\n",
    "\n",
    "\n",
    "d) Converta os objetos do tipo Series criados nas letras a) e b) para DataFrame. Coloque um nome para as colunas. Use o construtor pd.DataFrame().\n",
    "\n",
    "\n",
    "\n",
    "\n",
    "Resultados esperados:\n",
    "\n",
    "\n",
    "\n",
    "\n",
    "\tLetras\n",
    "\n",
    "0\tk\n",
    "\n",
    "1\tw\n",
    "\n",
    "2\tz\n",
    "\n",
    "3\ty\n",
    "\n",
    "\n",
    "\n",
    "    Valores\n",
    "\n",
    "a\t10\n",
    "\n",
    "b\t30\n",
    "\n",
    "c\t15\n",
    "\n",
    "d\t12\n"
   ]
  },
  {
   "cell_type": "code",
   "execution_count": 15,
   "metadata": {},
   "outputs": [],
   "source": [
    "import numpy as np\n",
    "import pandas as pd"
   ]
  },
  {
   "cell_type": "code",
   "execution_count": 16,
   "metadata": {},
   "outputs": [
    {
     "data": {
      "text/plain": [
       "0    k\n",
       "1    w\n",
       "2    z\n",
       "3    y\n",
       "dtype: object"
      ]
     },
     "execution_count": 16,
     "metadata": {},
     "output_type": "execute_result"
    }
   ],
   "source": [
    "#A)\n",
    "data = ['k','w','z','y']\n",
    "\n",
    "serie1 = pd.Series(data)\n",
    "serie1"
   ]
  },
  {
   "cell_type": "code",
   "execution_count": 17,
   "metadata": {},
   "outputs": [
    {
     "data": {
      "text/plain": [
       "a    10\n",
       "b    30\n",
       "c    15\n",
       "d    12\n",
       "dtype: int64"
      ]
     },
     "execution_count": 17,
     "metadata": {},
     "output_type": "execute_result"
    }
   ],
   "source": [
    "#B)\n",
    "dic = {'a':10,'b':30,'c':15,'d':12}\n",
    "\n",
    "serie2 = pd.Series(dic)\n",
    "serie2"
   ]
  },
  {
   "cell_type": "code",
   "execution_count": 22,
   "metadata": {},
   "outputs": [
    {
     "data": {
      "text/plain": [
       "(['k', 'w', 'z', 'y'], [10, 30, 15, 12])"
      ]
     },
     "execution_count": 22,
     "metadata": {},
     "output_type": "execute_result"
    }
   ],
   "source": [
    "#C)\n",
    "lista1 = serie1.to_list()\n",
    "lista2 = serie2.to_list()\n",
    "lista1, lista2"
   ]
  },
  {
   "cell_type": "code",
   "execution_count": 23,
   "metadata": {},
   "outputs": [
    {
     "data": {
      "text/plain": [
       "(  Letras\n",
       " 0      k\n",
       " 1      w\n",
       " 2      z\n",
       " 3      y,\n",
       "    Valores\n",
       " a       10\n",
       " b       30\n",
       " c       15\n",
       " d       12)"
      ]
     },
     "execution_count": 23,
     "metadata": {},
     "output_type": "execute_result"
    }
   ],
   "source": [
    "df1 = pd.DataFrame(serie1, columns = ['Letras'])\n",
    "df2 = pd.DataFrame(serie2, columns = ['Valores'])\n",
    "df1, df2"
   ]
  }
 ],
 "metadata": {
  "kernelspec": {
   "display_name": "Python 3.10.5 64-bit",
   "language": "python",
   "name": "python3"
  },
  "language_info": {
   "codemirror_mode": {
    "name": "ipython",
    "version": 3
   },
   "file_extension": ".py",
   "mimetype": "text/x-python",
   "name": "python",
   "nbconvert_exporter": "python",
   "pygments_lexer": "ipython3",
   "version": "3.10.5"
  },
  "orig_nbformat": 4,
  "vscode": {
   "interpreter": {
    "hash": "9f0d103aebe82dfbb47ec724a2ca4fd3dcb0c9038207abb072b7913218171667"
   }
  }
 },
 "nbformat": 4,
 "nbformat_minor": 2
}
