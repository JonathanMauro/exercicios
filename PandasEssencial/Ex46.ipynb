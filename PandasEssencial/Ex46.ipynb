{
 "cells": [
  {
   "cell_type": "markdown",
   "metadata": {},
   "source": [
    "Construa um date_range() para o dia 31 de dezembro de 2030, com intervalo de 1 hora."
   ]
  },
  {
   "cell_type": "code",
   "execution_count": 1,
   "metadata": {},
   "outputs": [],
   "source": [
    "import pandas as pd\n"
   ]
  },
  {
   "cell_type": "code",
   "execution_count": 3,
   "metadata": {},
   "outputs": [
    {
     "data": {
      "text/plain": [
       "DatetimeIndex(['2030-12-31 00:00:00', '2030-12-31 01:00:00',\n",
       "               '2030-12-31 02:00:00', '2030-12-31 03:00:00',\n",
       "               '2030-12-31 04:00:00', '2030-12-31 05:00:00',\n",
       "               '2030-12-31 06:00:00', '2030-12-31 07:00:00',\n",
       "               '2030-12-31 08:00:00', '2030-12-31 09:00:00',\n",
       "               '2030-12-31 10:00:00', '2030-12-31 11:00:00',\n",
       "               '2030-12-31 12:00:00', '2030-12-31 13:00:00',\n",
       "               '2030-12-31 14:00:00', '2030-12-31 15:00:00',\n",
       "               '2030-12-31 16:00:00', '2030-12-31 17:00:00',\n",
       "               '2030-12-31 18:00:00', '2030-12-31 19:00:00',\n",
       "               '2030-12-31 20:00:00', '2030-12-31 21:00:00',\n",
       "               '2030-12-31 22:00:00', '2030-12-31 23:00:00'],\n",
       "              dtype='datetime64[ns]', freq='H')"
      ]
     },
     "execution_count": 3,
     "metadata": {},
     "output_type": "execute_result"
    }
   ],
   "source": [
    "horas = pd.date_range(start= '2030-12-31', periods= 24, freq='H')\n",
    "horas"
   ]
  }
 ],
 "metadata": {
  "kernelspec": {
   "display_name": "Python 3.10.5 64-bit",
   "language": "python",
   "name": "python3"
  },
  "language_info": {
   "codemirror_mode": {
    "name": "ipython",
    "version": 3
   },
   "file_extension": ".py",
   "mimetype": "text/x-python",
   "name": "python",
   "nbconvert_exporter": "python",
   "pygments_lexer": "ipython3",
   "version": "3.10.5"
  },
  "orig_nbformat": 4,
  "vscode": {
   "interpreter": {
    "hash": "9f0d103aebe82dfbb47ec724a2ca4fd3dcb0c9038207abb072b7913218171667"
   }
  }
 },
 "nbformat": 4,
 "nbformat_minor": 2
}
