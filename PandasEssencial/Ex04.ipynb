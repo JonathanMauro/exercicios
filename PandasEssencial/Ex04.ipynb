{
 "cells": [
  {
   "cell_type": "markdown",
   "metadata": {},
   "source": [
    "a) A partir da lista a seguir crie um objeto do tipo Series com o pandas.\n",
    "\n",
    "\n",
    "\n",
    "\n",
    "data = ['ITUB4', 'BBDC4', 'BBAS3', 'BPAC11', 'SANB11']\n",
    "\n",
    "\n",
    "\n",
    "Resultado esperado:\n",
    "\n",
    "\n",
    "1     ITUB4\n",
    "\n",
    "2     BBDC4\n",
    "\n",
    "3     BBAS3\n",
    "\n",
    "4    BPAC11\n",
    "\n",
    "5    SANB11\n",
    "\n",
    "Name: Prices, dtype: object\n",
    "\n",
    "\n",
    "b) Converta a Series em um dicionário.\n",
    "\n",
    "\n",
    "c) Converta a Series em uma lista.\n",
    "\n",
    "\n",
    "d) Converta a Series em um objeto numpy.ndarray."
   ]
  },
  {
   "cell_type": "code",
   "execution_count": 1,
   "metadata": {},
   "outputs": [],
   "source": [
    "import numpy as np \n",
    "import pandas as pd "
   ]
  },
  {
   "cell_type": "code",
   "execution_count": 4,
   "metadata": {},
   "outputs": [
    {
     "data": {
      "text/plain": [
       "1     ITUB4\n",
       "2     BBDC4\n",
       "3     BBAS3\n",
       "4    BPAC11\n",
       "5    SANB11\n",
       "Name: Prices, dtype: object"
      ]
     },
     "execution_count": 4,
     "metadata": {},
     "output_type": "execute_result"
    }
   ],
   "source": [
    "#A)\n",
    "data = ['ITUB4', 'BBDC4', 'BBAS3', 'BPAC11', 'SANB11']\n",
    "index = [1, 2, 3, 4, 5, ]\n",
    "serie1 = pd.Series(data, index, name = 'Prices')\n",
    "serie1"
   ]
  },
  {
   "cell_type": "code",
   "execution_count": 6,
   "metadata": {},
   "outputs": [
    {
     "data": {
      "text/plain": [
       "<bound method Series.to_dict of 1     ITUB4\n",
       "2     BBDC4\n",
       "3     BBAS3\n",
       "4    BPAC11\n",
       "5    SANB11\n",
       "Name: Prices, dtype: object>"
      ]
     },
     "execution_count": 6,
     "metadata": {},
     "output_type": "execute_result"
    }
   ],
   "source": [
    "#B)\n",
    "dic1 = serie1.to_dict\n",
    "dic1"
   ]
  },
  {
   "cell_type": "code",
   "execution_count": 5,
   "metadata": {},
   "outputs": [
    {
     "data": {
      "text/plain": [
       "['ITUB4', 'BBDC4', 'BBAS3', 'BPAC11', 'SANB11']"
      ]
     },
     "execution_count": 5,
     "metadata": {},
     "output_type": "execute_result"
    }
   ],
   "source": [
    "#C)\n",
    "list1 = serie1.to_list()\n",
    "list1"
   ]
  },
  {
   "cell_type": "code",
   "execution_count": 8,
   "metadata": {},
   "outputs": [
    {
     "data": {
      "text/plain": [
       "array(['ITUB4', 'BBDC4', 'BBAS3', 'BPAC11', 'SANB11'], dtype=object)"
      ]
     },
     "execution_count": 8,
     "metadata": {},
     "output_type": "execute_result"
    }
   ],
   "source": [
    "#D) \n",
    "array = serie1.to_numpy()\n",
    "array"
   ]
  }
 ],
 "metadata": {
  "kernelspec": {
   "display_name": "Python 3.10.5 64-bit",
   "language": "python",
   "name": "python3"
  },
  "language_info": {
   "codemirror_mode": {
    "name": "ipython",
    "version": 3
   },
   "file_extension": ".py",
   "mimetype": "text/x-python",
   "name": "python",
   "nbconvert_exporter": "python",
   "pygments_lexer": "ipython3",
   "version": "3.10.5"
  },
  "orig_nbformat": 4,
  "vscode": {
   "interpreter": {
    "hash": "9f0d103aebe82dfbb47ec724a2ca4fd3dcb0c9038207abb072b7913218171667"
   }
  }
 },
 "nbformat": 4,
 "nbformat_minor": 2
}
