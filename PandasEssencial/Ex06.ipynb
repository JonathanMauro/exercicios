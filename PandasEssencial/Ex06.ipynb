{
 "cells": [
  {
   "cell_type": "markdown",
   "metadata": {},
   "source": [
    "Adicione os três novos valores a Series abaixo.\n",
    "\n",
    "\n",
    "\n",
    "\n",
    "\n",
    "PETR4:22,97;\n",
    "\n",
    "NTCO3:50,60;\n",
    "\n",
    "TIMP3:14,82.\n",
    "\n",
    "   \n",
    "\n",
    "dados={\n",
    "\n",
    "    'ABEV3':12.85,\n",
    "\n",
    "    'AZUL4':22.55,\n",
    "\n",
    "    'BTOW3':115.08,\n",
    "\n",
    "    'RENT3':49.03,\n",
    "\n",
    "    'JBSS3':24.41,\n",
    "\n",
    "    }\n",
    " \n",
    "\n",
    "serie = pd.Series(dados)\n",
    "\n",
    "   \n",
    "\n",
    "Resultado esperado:\n",
    "\n",
    "\n",
    "\n",
    "\n",
    "ABEV3     12.85\n",
    "\n",
    "AZUL4     22.55\n",
    "\n",
    "BTOW3    115.08\n",
    "\n",
    "RENT3     49.03\n",
    "\n",
    "JBSS3     24.41\n",
    "\n",
    "PETR4     22.97\n",
    "\n",
    "NTCO3     50.60\n",
    "\n",
    "TIMP3     14.82\n",
    "\n",
    "dtype: float64\n"
   ]
  },
  {
   "cell_type": "code",
   "execution_count": 1,
   "metadata": {},
   "outputs": [],
   "source": [
    "import numpy as np\n",
    "import pandas as pd\n"
   ]
  },
  {
   "cell_type": "code",
   "execution_count": 6,
   "metadata": {},
   "outputs": [
    {
     "data": {
      "text/plain": [
       "ABEV3     12.85\n",
       "AZUL4     22.55\n",
       "BTOW3    115.08\n",
       "RENT3     49.03\n",
       "JBSS3     24.41\n",
       "dtype: float64"
      ]
     },
     "execution_count": 6,
     "metadata": {},
     "output_type": "execute_result"
    }
   ],
   "source": [
    "\n",
    "   \n",
    "\n",
    "dados={\n",
    "    'ABEV3':12.85,\n",
    "    'AZUL4':22.55,\n",
    "    'BTOW3':115.08,\n",
    "    'RENT3':49.03,\n",
    "    'JBSS3':24.41,\n",
    "    }\n",
    " \n",
    "serie = pd.Series(dados, dtype = 'float')\n",
    "serie"
   ]
  },
  {
   "cell_type": "code",
   "execution_count": 7,
   "metadata": {},
   "outputs": [
    {
     "data": {
      "text/plain": [
       "ABEV3     12.85\n",
       "AZUL4     22.55\n",
       "BTOW3    115.08\n",
       "RENT3     49.03\n",
       "JBSS3     24.41\n",
       "PETR4     22.97\n",
       "NTCO3     50.60\n",
       "TIMP3     14.82\n",
       "dtype: float64"
      ]
     },
     "execution_count": 7,
     "metadata": {},
     "output_type": "execute_result"
    }
   ],
   "source": [
    "#solução 1\n",
    " \n",
    " \n",
    "serie['PETR4'] = 22.97\n",
    "serie['NTCO3'] = 50.6\n",
    "serie['TIMP3'] = 14.82\n",
    " \n",
    "#solução 2\n",
    " \n",
    "#serie = serie.append(pd.Series({'PETR4':22.97,'NTCO3':50.6,'TIMP3':14.82}))"
   ]
  }
 ],
 "metadata": {
  "kernelspec": {
   "display_name": "Python 3.10.5 64-bit",
   "language": "python",
   "name": "python3"
  },
  "language_info": {
   "codemirror_mode": {
    "name": "ipython",
    "version": 3
   },
   "file_extension": ".py",
   "mimetype": "text/x-python",
   "name": "python",
   "nbconvert_exporter": "python",
   "pygments_lexer": "ipython3",
   "version": "3.10.5"
  },
  "orig_nbformat": 4,
  "vscode": {
   "interpreter": {
    "hash": "9f0d103aebe82dfbb47ec724a2ca4fd3dcb0c9038207abb072b7913218171667"
   }
  }
 },
 "nbformat": 4,
 "nbformat_minor": 2
}
