{
 "cells": [
  {
   "cell_type": "markdown",
   "metadata": {},
   "source": [
    "A Series a seguir representa o faturamento de uma empresa no tempo. Obtenha a linha com o maior e o menor faturamento, respectivamente.\n",
    "\n",
    "https://prnt.sc/CTvyxGMi2kVu"
   ]
  },
  {
   "cell_type": "code",
   "execution_count": 2,
   "metadata": {},
   "outputs": [],
   "source": [
    "import pandas as pd\n",
    "\n",
    "s = pd.Series([15, 31, 41, 47, 39, 10, 33, 13, 31, 33], index = pd.date_range(start = '2016', periods = 10, freq = 'Y'))"
   ]
  },
  {
   "cell_type": "code",
   "execution_count": 5,
   "metadata": {},
   "outputs": [
    {
     "name": "stdout",
     "output_type": "stream",
     "text": [
      "            Ano com maior faturamento             \n",
      "2019\n",
      "            Ano com menor faturamento             \n",
      "2021\n"
     ]
    }
   ],
   "source": [
    "print('Ano com maior faturamento'.center(50, ' '))\n",
    "print(s.idxmax().strftime('%Y'))\n",
    "print('Ano com menor faturamento'.center(50, ' '))\n",
    "print(s.idxmin().strftime('%Y'))"
   ]
  }
 ],
 "metadata": {
  "kernelspec": {
   "display_name": "Python 3.10.5 64-bit",
   "language": "python",
   "name": "python3"
  },
  "language_info": {
   "codemirror_mode": {
    "name": "ipython",
    "version": 3
   },
   "file_extension": ".py",
   "mimetype": "text/x-python",
   "name": "python",
   "nbconvert_exporter": "python",
   "pygments_lexer": "ipython3",
   "version": "3.10.5"
  },
  "orig_nbformat": 4,
  "vscode": {
   "interpreter": {
    "hash": "9f0d103aebe82dfbb47ec724a2ca4fd3dcb0c9038207abb072b7913218171667"
   }
  }
 },
 "nbformat": 4,
 "nbformat_minor": 2
}
