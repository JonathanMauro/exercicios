{
 "cells": [
  {
   "cell_type": "markdown",
   "metadata": {},
   "source": [
    "Crie um date_range() com os anos de 2010 a 2040 e armazene em uma variável. Mude o argumento freq para 'A'."
   ]
  },
  {
   "cell_type": "code",
   "execution_count": 3,
   "metadata": {},
   "outputs": [
    {
     "name": "stderr",
     "output_type": "stream",
     "text": [
      "C:\\Users\\natha\\AppData\\Local\\Temp\\ipykernel_1160\\1474837470.py:2: FutureWarning: The pandas.datetime class is deprecated and will be removed from pandas in a future version. Import from datetime module instead.\n",
      "  from pandas import datetime\n"
     ]
    }
   ],
   "source": [
    "import pandas as pd\n",
    "from pandas import datetime"
   ]
  },
  {
   "cell_type": "code",
   "execution_count": 5,
   "metadata": {},
   "outputs": [
    {
     "data": {
      "text/plain": [
       "DatetimeIndex(['2010-12-31', '2011-12-31', '2012-12-31', '2013-12-31',\n",
       "               '2014-12-31', '2015-12-31', '2016-12-31', '2017-12-31',\n",
       "               '2018-12-31', '2019-12-31', '2020-12-31', '2021-12-31',\n",
       "               '2022-12-31', '2023-12-31', '2024-12-31', '2025-12-31',\n",
       "               '2026-12-31', '2027-12-31', '2028-12-31', '2029-12-31',\n",
       "               '2030-12-31', '2031-12-31', '2032-12-31', '2033-12-31',\n",
       "               '2034-12-31', '2035-12-31', '2036-12-31', '2037-12-31',\n",
       "               '2038-12-31', '2039-12-31', '2040-12-31'],\n",
       "              dtype='datetime64[ns]', freq='A-DEC')"
      ]
     },
     "execution_count": 5,
     "metadata": {},
     "output_type": "execute_result"
    }
   ],
   "source": [
    "inicio = datetime(2010,1,1)\n",
    "fim = datetime(2040,12,31)\n",
    "anos = pd.date_range(start = inicio , end = fim, freq = 'A')\n",
    "anos"
   ]
  },
  {
   "cell_type": "code",
   "execution_count": 6,
   "metadata": {},
   "outputs": [
    {
     "data": {
      "text/plain": [
       "DatetimeIndex(['2010-12-31', '2011-12-31', '2012-12-31', '2013-12-31',\n",
       "               '2014-12-31', '2015-12-31', '2016-12-31', '2017-12-31',\n",
       "               '2018-12-31', '2019-12-31', '2020-12-31', '2021-12-31',\n",
       "               '2022-12-31', '2023-12-31', '2024-12-31', '2025-12-31',\n",
       "               '2026-12-31', '2027-12-31', '2028-12-31', '2029-12-31',\n",
       "               '2030-12-31', '2031-12-31', '2032-12-31', '2033-12-31',\n",
       "               '2034-12-31', '2035-12-31', '2036-12-31', '2037-12-31',\n",
       "               '2038-12-31', '2039-12-31', '2040-12-31'],\n",
       "              dtype='datetime64[ns]', freq='A-DEC')"
      ]
     },
     "execution_count": 6,
     "metadata": {},
     "output_type": "execute_result"
    }
   ],
   "source": [
    "anos = pd.date_range(start = '2010-1-1', periods = 31, freq = 'A')\n",
    "anos"
   ]
  }
 ],
 "metadata": {
  "kernelspec": {
   "display_name": "Python 3.10.5 64-bit",
   "language": "python",
   "name": "python3"
  },
  "language_info": {
   "codemirror_mode": {
    "name": "ipython",
    "version": 3
   },
   "file_extension": ".py",
   "mimetype": "text/x-python",
   "name": "python",
   "nbconvert_exporter": "python",
   "pygments_lexer": "ipython3",
   "version": "3.10.5"
  },
  "orig_nbformat": 4,
  "vscode": {
   "interpreter": {
    "hash": "9f0d103aebe82dfbb47ec724a2ca4fd3dcb0c9038207abb072b7913218171667"
   }
  }
 },
 "nbformat": 4,
 "nbformat_minor": 2
}
