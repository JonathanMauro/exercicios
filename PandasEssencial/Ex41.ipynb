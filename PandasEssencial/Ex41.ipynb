{
 "cells": [
  {
   "cell_type": "markdown",
   "metadata": {},
   "source": [
    "Use a função pd.date_range() para criar o índice do DataFrame a seguir (esta função permite gerar uma sequência de data - retornando um objeto DatetimeIndex, com diversas aplicações em análise de dados financeiros). Como argumentos da função especifique:\n",
    "\n",
    "\n",
    "start = '2020-12-01'\n",
    "\n",
    "\n",
    "\n",
    "periods = 31\n",
    "\n",
    "\n",
    "freq = 'D'\n",
    "\n",
    "\n",
    "Em seguida crie o DataFrame abaixo, sendo que os valores seguem uma distribuição normal com média 30, desvio padrão 0.5, com 31 elementos (Use a biblioteca NumPy). Gere uma visualização para os dados (Use a função df.plot()).\n",
    "\n",
    "\n",
    "Use np.random.seed(21) para gerar números aleatórios iguais ao deste exercício.\n",
    "\n",
    "\n",
    "https://prnt.sc/fgdVsLa3Wdz2"
   ]
  },
  {
   "cell_type": "code",
   "execution_count": null,
   "metadata": {},
   "outputs": [],
   "source": [
    "import pandas as pd\n",
    "import numpy as np\n",
    "np.random.seed(21)"
   ]
  },
  {
   "cell_type": "code",
   "execution_count": null,
   "metadata": {},
   "outputs": [],
   "source": [
    "frequencia = pd.date_range(start = '2020-12-01', periods= 31, freq= 'D')\n",
    "valores = np.random.normal(30, 0.5, 31)\n",
    "df = pd.DataFrame(data = valores, index = frequencia, columns=['Série'])"
   ]
  },
  {
   "cell_type": "code",
   "execution_count": null,
   "metadata": {},
   "outputs": [],
   "source": [
    "df.plot(color = 'k')"
   ]
  }
 ],
 "metadata": {
  "kernelspec": {
   "display_name": "Python 3.10.5 64-bit",
   "language": "python",
   "name": "python3"
  },
  "language_info": {
   "name": "python",
   "version": "3.10.5"
  },
  "orig_nbformat": 4,
  "vscode": {
   "interpreter": {
    "hash": "9f0d103aebe82dfbb47ec724a2ca4fd3dcb0c9038207abb072b7913218171667"
   }
  }
 },
 "nbformat": 4,
 "nbformat_minor": 2
}
