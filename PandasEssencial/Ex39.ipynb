{
 "cells": [
  {
   "cell_type": "markdown",
   "metadata": {},
   "source": [
    "A função drop() do pandas permite remover linhas ou colunas, retornando um novo objeto excluindo-se os itens especificados.Remova as seguintes linhas do objeto Series abaixo: \n",
    "\n",
    "a) linha 'Year 1'; \n",
    "\n",
    "b) seguidamente as linhas 'Year 2' e 'Year 4'.\n",
    "\n",
    "\n",
    "https://prnt.sc/GDNY8zkKCksF\n",
    "\n",
    "\n"
   ]
  },
  {
   "cell_type": "code",
   "execution_count": 2,
   "metadata": {},
   "outputs": [],
   "source": [
    "import pandas as pd\n",
    "import numpy as np"
   ]
  },
  {
   "cell_type": "code",
   "execution_count": 3,
   "metadata": {},
   "outputs": [],
   "source": [
    "series = pd.Series(\n",
    "    np.random.randint(100,150,4), \n",
    "    index = ['Year 1', 'Year 2', 'Year 3', 'Year 4'])"
   ]
  },
  {
   "cell_type": "code",
   "execution_count": 4,
   "metadata": {},
   "outputs": [],
   "source": [
    "#A)\n",
    "\n",
    "series.drop(index = 'Year 1', inplace = True)"
   ]
  },
  {
   "cell_type": "code",
   "execution_count": null,
   "metadata": {},
   "outputs": [],
   "source": [
    "#B)\n",
    "series.drop(index = ['Year 2', 'Year 4'], inplace = True)"
   ]
  }
 ],
 "metadata": {
  "kernelspec": {
   "display_name": "Python 3.10.5 64-bit",
   "language": "python",
   "name": "python3"
  },
  "language_info": {
   "codemirror_mode": {
    "name": "ipython",
    "version": 3
   },
   "file_extension": ".py",
   "mimetype": "text/x-python",
   "name": "python",
   "nbconvert_exporter": "python",
   "pygments_lexer": "ipython3",
   "version": "3.10.5"
  },
  "orig_nbformat": 4,
  "vscode": {
   "interpreter": {
    "hash": "9f0d103aebe82dfbb47ec724a2ca4fd3dcb0c9038207abb072b7913218171667"
   }
  }
 },
 "nbformat": 4,
 "nbformat_minor": 2
}
