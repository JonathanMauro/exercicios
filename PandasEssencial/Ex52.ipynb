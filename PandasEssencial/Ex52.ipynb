{
 "cells": [
  {
   "cell_type": "markdown",
   "metadata": {},
   "source": [
    "Use loop para iterar e imprimir os valores da Series abaixo. Seus valores seguem uma distribuição normal com média 10 e desvio padrão 0.5. Use np.random.seed(99) para reproduzir os valores deste exercício.\n",
    "\n",
    "https://prnt.sc/vyY5F2RW1ti3"
   ]
  },
  {
   "cell_type": "code",
   "execution_count": 4,
   "metadata": {},
   "outputs": [],
   "source": [
    "import numpy as np\n",
    "import pandas as pd\n",
    "np.random.seed(99)"
   ]
  },
  {
   "cell_type": "code",
   "execution_count": 9,
   "metadata": {},
   "outputs": [
    {
     "data": {
      "text/plain": [
       "A    10.026352\n",
       "B    11.103655\n",
       "C    10.195911\n",
       "D    10.241357\n",
       "E    10.216667\n",
       "F     9.147854\n",
       "G     9.878046\n",
       "H     8.930148\n",
       "I    10.430661\n",
       "J    10.850142\n",
       "Name: Data, dtype: float64"
      ]
     },
     "execution_count": 9,
     "metadata": {},
     "output_type": "execute_result"
    }
   ],
   "source": [
    "desvio = np.random.normal(10,0.5,10)\n",
    "coluna = ['A', 'B', 'C', 'D', 'E', 'F', 'G', 'H', 'I', 'J']\n",
    "df=pd.Series(data = desvio, index = coluna, name= 'Data')\n",
    "df\n",
    "\n",
    "#ou index = [chr(65+i) for i in range(10)]\n",
    "#series = pd.Series(np.random.normal(loc = 10, scale = 0.5, size = 10), index, name = 'Data')"
   ]
  }
 ],
 "metadata": {
  "kernelspec": {
   "display_name": "Python 3.10.5 64-bit",
   "language": "python",
   "name": "python3"
  },
  "language_info": {
   "codemirror_mode": {
    "name": "ipython",
    "version": 3
   },
   "file_extension": ".py",
   "mimetype": "text/x-python",
   "name": "python",
   "nbconvert_exporter": "python",
   "pygments_lexer": "ipython3",
   "version": "3.10.5"
  },
  "orig_nbformat": 4,
  "vscode": {
   "interpreter": {
    "hash": "9f0d103aebe82dfbb47ec724a2ca4fd3dcb0c9038207abb072b7913218171667"
   }
  }
 },
 "nbformat": 4,
 "nbformat_minor": 2
}
