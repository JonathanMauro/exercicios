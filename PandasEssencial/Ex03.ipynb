{
 "cells": [
  {
   "cell_type": "markdown",
   "metadata": {},
   "source": [
    "Utilize a biblioteca NumPy para criar o objeto do tipo Series a seguir.\n",
    "\n",
    "\n",
    "\n",
    "\n",
    "25     1.0\n",
    "\n",
    "26     3.0\n",
    "\n",
    "27     5.0\n",
    "\n",
    "28     7.0\n",
    "\n",
    "29     9.0\n",
    "\n",
    "30    11.0\n",
    "\n",
    "31    13.0\n",
    "\n",
    "32    15.0\n",
    "\n",
    "33    17.0\n",
    "\n",
    "34    19.0\n",
    "\n",
    "35    21.0\n",
    "\n",
    "36    23.0\n",
    "\n",
    "37    25.0\n",
    "\n",
    "38    27.0\n",
    "\n",
    "39    29.0\n",
    "\n",
    "40    31.0\n",
    "\n",
    "41    33.0\n",
    "\n",
    "42    35.0\n",
    "\n",
    "43    37.0\n",
    "\n",
    "44    39.0\n",
    "\n",
    "45    41.0\n",
    "\n",
    "46    43.0\n",
    "\n",
    "47    45.0\n",
    "\n",
    "48    47.0\n",
    "\n",
    "49    49.0\n",
    "\n",
    "Name: Serie, dtype: float64"
   ]
  },
  {
   "cell_type": "code",
   "execution_count": 1,
   "metadata": {},
   "outputs": [],
   "source": [
    "import numpy as np\n",
    "import pandas as pd\n"
   ]
  },
  {
   "cell_type": "code",
   "execution_count": 4,
   "metadata": {},
   "outputs": [
    {
     "data": {
      "text/plain": [
       "25     1.0\n",
       "26     3.0\n",
       "27     5.0\n",
       "28     7.0\n",
       "29     9.0\n",
       "30    11.0\n",
       "31    13.0\n",
       "32    15.0\n",
       "33    17.0\n",
       "34    19.0\n",
       "35    21.0\n",
       "36    23.0\n",
       "37    25.0\n",
       "38    27.0\n",
       "39    29.0\n",
       "40    31.0\n",
       "41    33.0\n",
       "42    35.0\n",
       "43    37.0\n",
       "44    39.0\n",
       "45    41.0\n",
       "46    43.0\n",
       "47    45.0\n",
       "48    47.0\n",
       "49    49.0\n",
       "Name: Série, dtype: float64"
      ]
     },
     "execution_count": 4,
     "metadata": {},
     "output_type": "execute_result"
    }
   ],
   "source": [
    "data = np.arange(1,50,2)\n",
    "pd.Series(data, index = range(25,50), name = \"Série\", dtype = \"float\")"
   ]
  }
 ],
 "metadata": {
  "kernelspec": {
   "display_name": "Python 3.10.5 64-bit",
   "language": "python",
   "name": "python3"
  },
  "language_info": {
   "codemirror_mode": {
    "name": "ipython",
    "version": 3
   },
   "file_extension": ".py",
   "mimetype": "text/x-python",
   "name": "python",
   "nbconvert_exporter": "python",
   "pygments_lexer": "ipython3",
   "version": "3.10.5"
  },
  "orig_nbformat": 4,
  "vscode": {
   "interpreter": {
    "hash": "9f0d103aebe82dfbb47ec724a2ca4fd3dcb0c9038207abb072b7913218171667"
   }
  }
 },
 "nbformat": 4,
 "nbformat_minor": 2
}
