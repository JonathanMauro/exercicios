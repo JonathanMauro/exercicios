{
 "cells": [
  {
   "cell_type": "markdown",
   "metadata": {},
   "source": [
    "Com base nos arrays definidos a seguir obtenha a matriz de covariância e a matriz de correlação.\n",
    "\n",
    "\n",
    "\n",
    "import numpy as np\n",
    "\n",
    "x = np.random.rand(100)\n",
    "\n",
    "y = np.random.uniform(size=100)\n",
    "\n",
    "\n",
    "Dica: use np.corrcoef() e np.cov()."
   ]
  },
  {
   "cell_type": "code",
   "execution_count": 5,
   "metadata": {},
   "outputs": [
    {
     "name": "stdout",
     "output_type": "stream",
     "text": [
      "Matriz de correlação: [[1.         0.00553258]\n",
      " [0.00553258 1.        ]]\n",
      "\n",
      "Matriz de covariância: [[0.08596264 0.00040704]\n",
      " [0.00040704 0.06296697]]\n"
     ]
    }
   ],
   "source": [
    "import numpy as np\n",
    "\n",
    "x = np.random.rand(100)\n",
    "y = np.random.uniform(size = 100)\n",
    "\n",
    "print(f'Matriz de correlação: {np.corrcoef(x,y)}')\n",
    "print()\n",
    "print(f'Matriz de covariância: {np.cov(x,y)}')"
   ]
  }
 ],
 "metadata": {
  "kernelspec": {
   "display_name": "Python 3.10.5 64-bit",
   "language": "python",
   "name": "python3"
  },
  "language_info": {
   "codemirror_mode": {
    "name": "ipython",
    "version": 3
   },
   "file_extension": ".py",
   "mimetype": "text/x-python",
   "name": "python",
   "nbconvert_exporter": "python",
   "pygments_lexer": "ipython3",
   "version": "3.10.5"
  },
  "orig_nbformat": 4,
  "vscode": {
   "interpreter": {
    "hash": "9f0d103aebe82dfbb47ec724a2ca4fd3dcb0c9038207abb072b7913218171667"
   }
  }
 },
 "nbformat": 4,
 "nbformat_minor": 2
}
