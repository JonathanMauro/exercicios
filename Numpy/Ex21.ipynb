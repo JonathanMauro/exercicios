{
 "cells": [
  {
   "cell_type": "markdown",
   "metadata": {},
   "source": [
    "Obtenha o índice do valor mínimo do array B.\n",
    "\n",
    "\n",
    "\n",
    "B = np.array([\n",
    "    [73, 22, 20, 62,  3],\n",
    "\n",
    "    [68, 84, 27, 59, 93],\n",
    "\n",
    "    [48, 52,  4, 55, 50],\n",
    "\n",
    "    [42, 23, 63, 67,  4],\n",
    "    \n",
    "    [44, 30, 41, 31, 29]])\n",
    "\n",
    "\n",
    "Dica: use np.argmin() ou array.argmin()."
   ]
  },
  {
   "cell_type": "code",
   "execution_count": 2,
   "metadata": {},
   "outputs": [
    {
     "name": "stdout",
     "output_type": "stream",
     "text": [
      "Valor mínimo do array: 3\n",
      "Índice do valor mímino: 4\n"
     ]
    }
   ],
   "source": [
    "import numpy as np\n",
    "B = np.array([\n",
    "    [73, 22, 20, 62,  3],\n",
    "    [68, 84, 27, 59, 93],\n",
    "    [48, 52,  4, 55, 50],\n",
    "    [42, 23, 63, 67,  4],\n",
    "    [44, 30, 41, 31, 29]])\n",
    "\n",
    "print(f'Valor mínimo do array: {B.min()}')\n",
    "print(f'Índice do valor mímino: {np.argmin(B)}')"
   ]
  }
 ],
 "metadata": {
  "kernelspec": {
   "display_name": "Python 3.10.5 64-bit",
   "language": "python",
   "name": "python3"
  },
  "language_info": {
   "codemirror_mode": {
    "name": "ipython",
    "version": 3
   },
   "file_extension": ".py",
   "mimetype": "text/x-python",
   "name": "python",
   "nbconvert_exporter": "python",
   "pygments_lexer": "ipython3",
   "version": "3.10.5"
  },
  "orig_nbformat": 4,
  "vscode": {
   "interpreter": {
    "hash": "9f0d103aebe82dfbb47ec724a2ca4fd3dcb0c9038207abb072b7913218171667"
   }
  }
 },
 "nbformat": 4,
 "nbformat_minor": 2
}
