{
 "cells": [
  {
   "cell_type": "markdown",
   "metadata": {},
   "source": [
    "Com base no exercício anterior crie uma função que receba um array e mostre na tela seus atributos. Verifique se o argumento inserido é de fato um objeto numpy. Use também a função built-in type() para verificar a classe do objeto."
   ]
  },
  {
   "cell_type": "code",
   "execution_count": 1,
   "metadata": {},
   "outputs": [],
   "source": [
    "import numpy as np\n"
   ]
  },
  {
   "cell_type": "code",
   "execution_count": 2,
   "metadata": {},
   "outputs": [
    {
     "name": "stdout",
     "output_type": "stream",
     "text": [
      "Shape:  (4,)\n",
      "Size:  4\n",
      "Ndim:  1\n",
      "Nbytes:  16\n",
      "Dtype:  int32\n",
      "Type:  <class 'numpy.ndarray'>\n"
     ]
    },
    {
     "data": {
      "text/plain": [
       "'O objeto inserido não é um array NumPy.'"
      ]
     },
     "execution_count": 2,
     "metadata": {},
     "output_type": "execute_result"
    }
   ],
   "source": [
    "def inspecionar_array(array):\n",
    "    if isinstance(array, np.ndarray):\n",
    "        print('Shape: ', array.shape)\n",
    "        print('Size: ', array.size)\n",
    "        print('Ndim: ', array.ndim)\n",
    "        print('Nbytes: ', array.nbytes)\n",
    "        print('Dtype: ', array.dtype)\n",
    "        print('Type: ', type(array))\n",
    "        return array\n",
    "    else:\n",
    "        return 'O objeto inserido não é um array NumPy.'\n",
    "    \n",
    "array = np.array([1, 2, 3, 4])\n",
    "list_ = [1, 2, 3, 4]\n",
    "inspecionar_array(array)\n",
    "inspecionar_array(list_)"
   ]
  }
 ],
 "metadata": {
  "kernelspec": {
   "display_name": "Python 3.10.5 64-bit",
   "language": "python",
   "name": "python3"
  },
  "language_info": {
   "codemirror_mode": {
    "name": "ipython",
    "version": 3
   },
   "file_extension": ".py",
   "mimetype": "text/x-python",
   "name": "python",
   "nbconvert_exporter": "python",
   "pygments_lexer": "ipython3",
   "version": "3.10.5"
  },
  "orig_nbformat": 4,
  "vscode": {
   "interpreter": {
    "hash": "9f0d103aebe82dfbb47ec724a2ca4fd3dcb0c9038207abb072b7913218171667"
   }
  }
 },
 "nbformat": 4,
 "nbformat_minor": 2
}
