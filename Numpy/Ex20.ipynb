{
 "cells": [
  {
   "cell_type": "markdown",
   "metadata": {},
   "source": [
    "Obtenha o índice do valor máximo do array A.\n",
    "\n",
    "\n",
    "\n",
    "A = np.array([[11, 15, 33, 105],\n",
    "\n",
    "              [1, 140, 45, 90],\n",
    "              \n",
    "              [67, 230, 78, 99]])\n",
    "\n",
    "\n",
    "Dica: use np.argmax() ou array.argmax()."
   ]
  },
  {
   "cell_type": "code",
   "execution_count": 2,
   "metadata": {},
   "outputs": [
    {
     "name": "stdout",
     "output_type": "stream",
     "text": [
      "Valor máximo do array A: 230\n",
      "Índice do valor máximo do array A: 9\n"
     ]
    }
   ],
   "source": [
    "import numpy as np\n",
    "A = np.array([[11, 15, 33, 105],\n",
    "              [1, 140, 45, 90],\n",
    "              [67, 230, 78, 99]])\n",
    "\n",
    "print(f'Valor máximo do array A: {A.max()}')\n",
    "print(f'Índice do valor máximo do array A: {A.argmax()}')"
   ]
  }
 ],
 "metadata": {
  "kernelspec": {
   "display_name": "Python 3.10.5 64-bit",
   "language": "python",
   "name": "python3"
  },
  "language_info": {
   "codemirror_mode": {
    "name": "ipython",
    "version": 3
   },
   "file_extension": ".py",
   "mimetype": "text/x-python",
   "name": "python",
   "nbconvert_exporter": "python",
   "pygments_lexer": "ipython3",
   "version": "3.10.5"
  },
  "orig_nbformat": 4,
  "vscode": {
   "interpreter": {
    "hash": "9f0d103aebe82dfbb47ec724a2ca4fd3dcb0c9038207abb072b7913218171667"
   }
  }
 },
 "nbformat": 4,
 "nbformat_minor": 2
}
