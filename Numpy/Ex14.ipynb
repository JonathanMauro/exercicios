{
 "cells": [
  {
   "cell_type": "markdown",
   "metadata": {},
   "source": [
    "Obtenha a soma dos elementos de cada array a seguir. Use a função np.sum(). Implemente uma solução com loop for, para tanto armazene os vetores em uma lista.\n",
    "\n",
    "\n",
    "\n",
    "import numpy as np\n",
    "array1 = np.arange(1,11)\n",
    "array2 = np.linspace(1,50,10)\n",
    "array3 = np.array(range(51))\n",
    "array4 = np.logspace(1,10,5)\n",
    "array5 = np.diag(range(5,31,5))\n",
    "\n",
    "\n",
    "Retorno esperado:\n",
    "\n",
    "\n",
    "\n",
    "Soma dos elementos do array 1:  55\n",
    "Soma dos elementos do array 2:  255.0\n",
    "Soma dos elementos do array 3:  1275\n",
    "Soma dos elementos do array 4:  10056552148.564463\n",
    "Soma dos elementos do array 5:  105"
   ]
  },
  {
   "cell_type": "code",
   "execution_count": 3,
   "metadata": {},
   "outputs": [
    {
     "name": "stdout",
     "output_type": "stream",
     "text": [
      "Soma dos elementos do array 1:  55\n",
      "Soma dos elementos do array 2:  255.0\n",
      "Soma dos elementos do array 3:  1275\n",
      "Soma dos elementos do array 4:  10056552148.564463\n",
      "Soma dos elementos do array 5:  105\n"
     ]
    }
   ],
   "source": [
    "import numpy as np\n",
    "array1 = np.arange(1,11)\n",
    "array2 = np.linspace(1,50,10)\n",
    "array3 = np.array(range(51))\n",
    "array4 = np.logspace(1,10,5)\n",
    "array5 = np.diag(range(5,31,5))\n",
    "\n",
    "arrays = [array1, array2, array3, array4, array5]\n",
    "for index, array in enumerate(arrays, start = 1):\n",
    "    print(f'Soma dos elementos do array {index}: ', array.sum())"
   ]
  }
 ],
 "metadata": {
  "kernelspec": {
   "display_name": "Python 3.10.5 64-bit",
   "language": "python",
   "name": "python3"
  },
  "language_info": {
   "codemirror_mode": {
    "name": "ipython",
    "version": 3
   },
   "file_extension": ".py",
   "mimetype": "text/x-python",
   "name": "python",
   "nbconvert_exporter": "python",
   "pygments_lexer": "ipython3",
   "version": "3.10.5"
  },
  "orig_nbformat": 4,
  "vscode": {
   "interpreter": {
    "hash": "9f0d103aebe82dfbb47ec724a2ca4fd3dcb0c9038207abb072b7913218171667"
   }
  }
 },
 "nbformat": 4,
 "nbformat_minor": 2
}
