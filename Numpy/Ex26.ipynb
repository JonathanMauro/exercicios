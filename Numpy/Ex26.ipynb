{
 "cells": [
  {
   "cell_type": "markdown",
   "metadata": {},
   "source": [
    "Acesse os números 5, 9, 3 e 21 do array abaixo.\n",
    "\n",
    "\n",
    "\n",
    "import numpy as np\n",
    "ar = np.array([\n",
    "\n",
    "    [[1, 1, 5, 1],\n",
    "\n",
    "     [1, 1, 1, 9]],\n",
    "\n",
    "    [[1, 3, 1, 1],\n",
    "\n",
    "     [1, 1, 21, 1]]\n",
    "     \n",
    "              ])"
   ]
  },
  {
   "cell_type": "code",
   "execution_count": 2,
   "metadata": {},
   "outputs": [
    {
     "name": "stdout",
     "output_type": "stream",
     "text": [
      "5\n",
      "9\n",
      "3\n",
      "21\n"
     ]
    }
   ],
   "source": [
    "import numpy as np\n",
    "ar = np.array([\n",
    "    [[1, 1, 5, 1],\n",
    "     [1, 1, 1, 9]],\n",
    "    [[1, 3, 1, 1],\n",
    "     [1, 1, 21, 1]]\n",
    "              ])\n",
    "\n",
    "\n",
    "print(ar[0][0][2])\n",
    "print(ar[0][1][-1])\n",
    "print(ar[1][0][1])\n",
    "print(ar[1][1][2])"
   ]
  }
 ],
 "metadata": {
  "kernelspec": {
   "display_name": "Python 3.10.5 64-bit",
   "language": "python",
   "name": "python3"
  },
  "language_info": {
   "codemirror_mode": {
    "name": "ipython",
    "version": 3
   },
   "file_extension": ".py",
   "mimetype": "text/x-python",
   "name": "python",
   "nbconvert_exporter": "python",
   "pygments_lexer": "ipython3",
   "version": "3.10.5"
  },
  "orig_nbformat": 4,
  "vscode": {
   "interpreter": {
    "hash": "9f0d103aebe82dfbb47ec724a2ca4fd3dcb0c9038207abb072b7913218171667"
   }
  }
 },
 "nbformat": 4,
 "nbformat_minor": 2
}
