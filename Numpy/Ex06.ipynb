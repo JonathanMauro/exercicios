{
 "cells": [
  {
   "cell_type": "markdown",
   "metadata": {},
   "source": [
    "Crie os arrays a seguir:\n",
    "\n",
    "   \n",
    "\n",
    "a)\n",
    "array([[10],\n",
    "\n",
    "[15],\n",
    "\n",
    "[20],\n",
    "\n",
    "[25],\n",
    "\n",
    "[30],\n",
    "\n",
    "[35],\n",
    "\n",
    "[40],\n",
    "\n",
    "[45]])"
   ]
  },
  {
   "cell_type": "code",
   "execution_count": 1,
   "metadata": {},
   "outputs": [
    {
     "name": "stdout",
     "output_type": "stream",
     "text": [
      "[[10]\n",
      " [15]\n",
      " [20]\n",
      " [25]\n",
      " [30]\n",
      " [35]\n",
      " [40]\n",
      " [45]]\n"
     ]
    }
   ],
   "source": [
    "import numpy as np\n",
    "array = np.array(range(10, 46, 5)).reshape(-1,1)\n",
    "print(array)\n"
   ]
  },
  {
   "cell_type": "markdown",
   "metadata": {},
   "source": [
    "b)\n",
    "\n",
    "\n",
    "\n",
    "array([-50, -45, -40, -35, -30, -25, -20, -15, -10,  -5])"
   ]
  },
  {
   "cell_type": "code",
   "execution_count": 2,
   "metadata": {},
   "outputs": [
    {
     "name": "stdout",
     "output_type": "stream",
     "text": [
      "[-50 -45 -40 -35 -30 -25 -20 -15 -10  -5]\n"
     ]
    }
   ],
   "source": [
    "array2 = np.array(range(-50, -4, 5))\n",
    "print(array2)"
   ]
  },
  {
   "cell_type": "markdown",
   "metadata": {},
   "source": [
    "c)\n",
    "\n",
    "\n",
    "\n",
    "array([[ 50,  52,  54,  56,  58,  60,  62,  64,  66,  68],\n",
    "\n",
    "       [ 70,  72,  74,  76,  78,  80,  82,  84,  86,  88],\n",
    "       \n",
    "       [ 90,  92,  94,  96,  98, 100, 102, 104, 106, 108],\n",
    "\n",
    "       [110, 112, 114, 116, 118, 120, 122, 124, 126, 128],\n",
    "\n",
    "       [130, 132, 134, 136, 138, 140, 142, 144, 146, 148]])\n",
    "       \n",
    "\n",
    "Dica: use np.arange() ou np.array(range())."
   ]
  },
  {
   "cell_type": "code",
   "execution_count": 3,
   "metadata": {},
   "outputs": [
    {
     "name": "stdout",
     "output_type": "stream",
     "text": [
      "[[ 50  52  54  56  58  60  62  64  66  68]\n",
      " [ 70  72  74  76  78  80  82  84  86  88]\n",
      " [ 90  92  94  96  98 100 102 104 106 108]\n",
      " [110 112 114 116 118 120 122 124 126 128]\n",
      " [130 132 134 136 138 140 142 144 146 148]]\n"
     ]
    }
   ],
   "source": [
    "array3 = np.arange(50,150,2).reshape((5,10))\n",
    "print(array3)"
   ]
  }
 ],
 "metadata": {
  "kernelspec": {
   "display_name": "Python 3.10.5 64-bit",
   "language": "python",
   "name": "python3"
  },
  "language_info": {
   "codemirror_mode": {
    "name": "ipython",
    "version": 3
   },
   "file_extension": ".py",
   "mimetype": "text/x-python",
   "name": "python",
   "nbconvert_exporter": "python",
   "pygments_lexer": "ipython3",
   "version": "3.10.5"
  },
  "orig_nbformat": 4,
  "vscode": {
   "interpreter": {
    "hash": "9f0d103aebe82dfbb47ec724a2ca4fd3dcb0c9038207abb072b7913218171667"
   }
  }
 },
 "nbformat": 4,
 "nbformat_minor": 2
}
