{
 "cells": [
  {
   "cell_type": "markdown",
   "metadata": {},
   "source": [
    "Escreva uma função que receba um array NumPy e mostre na tela um conjunto de  estatísticas descritivas deste objeto.\n",
    "\n",
    "\n",
    "\n",
    "Resultado esperado:\n",
    "\n",
    "Input\n",
    "\n",
    "array = np.array([-57, 101, 270, 130, 144])\n",
    "\n",
    "info_array(array)\n",
    "\n",
    "\n",
    "Output:\n",
    "\n",
    "Valor máximo: 270\n",
    "\n",
    "Valor mínimo: -57\n",
    "\n",
    "Média: 117.6\n",
    "\n",
    "Mediana: 130.0\n",
    "\n",
    "Variância: 10967.439999999999\n",
    "\n",
    "Desvio padrão: 104.72554607162475"
   ]
  },
  {
   "cell_type": "code",
   "execution_count": 12,
   "metadata": {},
   "outputs": [
    {
     "name": "stdout",
     "output_type": "stream",
     "text": [
      "Valor máximo: 270\n",
      "Valor mínimo: -57\n",
      "Média: 117.6\n",
      "Máximo: 130.0\n",
      "Variância:  10967.439999999999\n",
      "Desvio padrão:  104.72554607162475\n"
     ]
    }
   ],
   "source": [
    "import numpy as np\n",
    "\n",
    "def info_array(array):\n",
    "    if isinstance(array, np.ndarray):\n",
    "        print(f'Valor máximo: {array.max()}')\n",
    "        print(f'Valor mínimo: {array.min()}')\n",
    "        print(f'Média: {array.mean()}')\n",
    "        print(f'Máximo: {np.median(array)}')\n",
    "        print(f'Variância:  {np.var(array)}')\n",
    "        print(f'Desvio padrão:  {np.std(array)}')\n",
    "    else: \n",
    "        return None\n",
    "    \n",
    "if __name__ == \"__main__\":\n",
    "    array = np.array([-57, 101, 270, 130, 144])\n",
    "    info_array(array)"
   ]
  }
 ],
 "metadata": {
  "kernelspec": {
   "display_name": "Python 3.10.5 64-bit",
   "language": "python",
   "name": "python3"
  },
  "language_info": {
   "codemirror_mode": {
    "name": "ipython",
    "version": 3
   },
   "file_extension": ".py",
   "mimetype": "text/x-python",
   "name": "python",
   "nbconvert_exporter": "python",
   "pygments_lexer": "ipython3",
   "version": "3.10.5"
  },
  "orig_nbformat": 4,
  "vscode": {
   "interpreter": {
    "hash": "9f0d103aebe82dfbb47ec724a2ca4fd3dcb0c9038207abb072b7913218171667"
   }
  }
 },
 "nbformat": 4,
 "nbformat_minor": 2
}
