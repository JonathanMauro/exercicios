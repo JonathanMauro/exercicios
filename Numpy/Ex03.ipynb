{
 "cells": [
  {
   "cell_type": "markdown",
   "metadata": {},
   "source": [
    "Use a função np.array() para criar os arrays unidimensionais listados abaixo:\n",
    "\n",
    "a) Use uma lista como argumento e obtenha:\n",
    "\n",
    "\n",
    "\n",
    "array([-1,  4,  7,  9])\n",
    "\n"
   ]
  },
  {
   "cell_type": "code",
   "execution_count": 1,
   "metadata": {},
   "outputs": [],
   "source": [
    "import numpy as np\n",
    "array = np.array([-1, 4, 7, 9])\n"
   ]
  },
  {
   "cell_type": "markdown",
   "metadata": {},
   "source": [
    "b) Use a função range() e obtenha:\n",
    "\n",
    "array([ 1,  2,  3,  4,  5,  6,  7,  8,  9, 10])"
   ]
  },
  {
   "cell_type": "code",
   "execution_count": 2,
   "metadata": {},
   "outputs": [
    {
     "name": "stdout",
     "output_type": "stream",
     "text": [
      "[ 1  2  3  4  5  6  7  8  9 10]\n"
     ]
    }
   ],
   "source": [
    "array2 = np.array(range(1, 11))\n",
    "print(array2)"
   ]
  },
  {
   "cell_type": "markdown",
   "metadata": {},
   "source": [
    "c)Use uma tupla como argumento e obtenha:\n",
    "\n",
    "\n",
    "\n",
    "    \n",
    "array([10, 11, 12, 13, 14])"
   ]
  },
  {
   "cell_type": "code",
   "execution_count": 3,
   "metadata": {},
   "outputs": [
    {
     "name": "stdout",
     "output_type": "stream",
     "text": [
      "(10, 11, 12, 13, 14)\n"
     ]
    }
   ],
   "source": [
    "tupla = (10, 11, 12, 13, 14)\n",
    "array3 = np.array(tupla)\n",
    "print(tupla)"
   ]
  },
  {
   "cell_type": "markdown",
   "metadata": {},
   "source": [
    "d) Use a função range() e obtenha:\n",
    "\n",
    "\n",
    "\n",
    "    \n",
    "array([1990, 1995, 2000, 2005, 2010, 2015, 2020])"
   ]
  },
  {
   "cell_type": "code",
   "execution_count": 4,
   "metadata": {},
   "outputs": [
    {
     "name": "stdout",
     "output_type": "stream",
     "text": [
      "[1990 1995 2000 2005 2010 2015 2020]\n"
     ]
    }
   ],
   "source": [
    "array4 = np.array(range(1990, 2021,5))\n",
    "print(array4)"
   ]
  },
  {
   "cell_type": "markdown",
   "metadata": {},
   "source": [
    "e) Use a função range() e obtenha:\n",
    "\n",
    "\n",
    "\n",
    "array([2020, 2010, 2000, 1990, 1980, 1970, 1960, 1950, 1940, 1930, 1920,\n",
    "       1910, 1900])"
   ]
  },
  {
   "cell_type": "code",
   "execution_count": 5,
   "metadata": {},
   "outputs": [
    {
     "name": "stdout",
     "output_type": "stream",
     "text": [
      "[2020 2015 2010 2005 2000 1995 1990 1985 1980 1975 1970 1965 1960 1955\n",
      " 1950 1945 1940 1935 1930 1925 1920 1915 1910 1905 1900]\n"
     ]
    }
   ],
   "source": [
    "array4 = np.array(range(2020,1899,-5))\n",
    "print(array4)"
   ]
  },
  {
   "cell_type": "markdown",
   "metadata": {},
   "source": [
    "f) Obtenha:\n",
    "\n",
    "\n",
    "\n",
    "array(100)"
   ]
  },
  {
   "cell_type": "code",
   "execution_count": 6,
   "metadata": {},
   "outputs": [
    {
     "name": "stdout",
     "output_type": "stream",
     "text": [
      "100\n"
     ]
    }
   ],
   "source": [
    "array5 = np.array(100)\n",
    "print(array5)"
   ]
  }
 ],
 "metadata": {
  "kernelspec": {
   "display_name": "Python 3.10.5 64-bit",
   "language": "python",
   "name": "python3"
  },
  "language_info": {
   "codemirror_mode": {
    "name": "ipython",
    "version": 3
   },
   "file_extension": ".py",
   "mimetype": "text/x-python",
   "name": "python",
   "nbconvert_exporter": "python",
   "pygments_lexer": "ipython3",
   "version": "3.10.5"
  },
  "orig_nbformat": 4,
  "vscode": {
   "interpreter": {
    "hash": "9f0d103aebe82dfbb47ec724a2ca4fd3dcb0c9038207abb072b7913218171667"
   }
  }
 },
 "nbformat": 4,
 "nbformat_minor": 2
}
