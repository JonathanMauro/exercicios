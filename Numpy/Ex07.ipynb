{
 "cells": [
  {
   "cell_type": "markdown",
   "metadata": {},
   "source": [
    "Utilize a função np.full(shape, fill_value, dtype) para criar os arrays a seguir. Esta função permite criar um array com um shape e dtype definidos pelo usuário, preenchido com um determinado valor."
   ]
  },
  {
   "cell_type": "markdown",
   "metadata": {},
   "source": [
    "a)\n",
    "\n",
    "\n",
    "\n",
    "array([5., 5., 5., 5., 5., 5., 5., 5., 5., 5.])"
   ]
  },
  {
   "cell_type": "code",
   "execution_count": 3,
   "metadata": {},
   "outputs": [
    {
     "name": "stdout",
     "output_type": "stream",
     "text": [
      "[5. 5. 5. 5. 5. 5. 5. 5. 5. 5.]\n"
     ]
    }
   ],
   "source": [
    "import numpy as np\n",
    "a = np.full(shape=(10),fill_value = 5,dtype = float)  \n",
    "#ou: 5*np.ones(10)\n",
    "print(a)"
   ]
  },
  {
   "cell_type": "markdown",
   "metadata": {},
   "source": [
    "b)\n",
    "\n",
    "\n",
    "\n",
    "array([[-5., -5., -5., -5.],\n",
    "\n",
    "       [-5., -5., -5., -5.],\n",
    "\n",
    "       [-5., -5., -5., -5.],\n",
    "       \n",
    "       [-5., -5., -5., -5.]])"
   ]
  },
  {
   "cell_type": "code",
   "execution_count": 5,
   "metadata": {},
   "outputs": [
    {
     "name": "stdout",
     "output_type": "stream",
     "text": [
      "[[-5. -5. -5. -5.]\n",
      " [-5. -5. -5. -5.]\n",
      " [-5. -5. -5. -5.]\n",
      " [-5. -5. -5. -5.]]\n"
     ]
    }
   ],
   "source": [
    "b = np.full(shape =(4, 4), fill_value= -5, dtype=float) #ou: (-5)*np.ones(shape=(4,4))\n",
    "print(b)"
   ]
  },
  {
   "cell_type": "markdown",
   "metadata": {},
   "source": [
    "c)\n",
    "\n",
    "\n",
    "\n",
    "array([[3, 3, 3],\n",
    "\n",
    "       [3, 3, 3],\n",
    "       \n",
    "       [3, 3, 3]])"
   ]
  },
  {
   "cell_type": "code",
   "execution_count": 6,
   "metadata": {},
   "outputs": [
    {
     "name": "stdout",
     "output_type": "stream",
     "text": [
      "[[3 3 3]\n",
      " [3 3 3]\n",
      " [3 3 3]]\n"
     ]
    }
   ],
   "source": [
    "c = np.full(shape= (3, 3), fill_value= 3, dtype= int) #ou: (3)*np.ones(shape = (3,3),dtype=int)\n",
    "print(c)"
   ]
  },
  {
   "cell_type": "markdown",
   "metadata": {},
   "source": [
    "d)\n",
    "\n",
    "\n",
    "\n",
    "array([[50, 50, 50, 50, 50, 50, 50, 50, 50, 50],\n",
    "\n",
    "       [50, 50, 50, 50, 50, 50, 50, 50, 50, 50],\n",
    "\n",
    "       [50, 50, 50, 50, 50, 50, 50, 50, 50, 50],\n",
    "\n",
    "       [50, 50, 50, 50, 50, 50, 50, 50, 50, 50],\n",
    "\n",
    "       [50, 50, 50, 50, 50, 50, 50, 50, 50, 50],\n",
    "\n",
    "       [50, 50, 50, 50, 50, 50, 50, 50, 50, 50],\n",
    "\n",
    "       [50, 50, 50, 50, 50, 50, 50, 50, 50, 50],\n",
    "\n",
    "       [50, 50, 50, 50, 50, 50, 50, 50, 50, 50],\n",
    "\n",
    "       [50, 50, 50, 50, 50, 50, 50, 50, 50, 50],\n",
    "       \n",
    "       [50, 50, 50, 50, 50, 50, 50, 50, 50, 50]])\n",
    "\n",
    "\n",
    "Dica: outra possibilidade seria obter os arrays com uma operação diferente, a partir da multiplicação de uma matriz preenchida com número 1 por um determinado valor."
   ]
  },
  {
   "cell_type": "code",
   "execution_count": 7,
   "metadata": {},
   "outputs": [
    {
     "name": "stdout",
     "output_type": "stream",
     "text": [
      "[[50 50 50 50 50 50 50 50 50 50]\n",
      " [50 50 50 50 50 50 50 50 50 50]\n",
      " [50 50 50 50 50 50 50 50 50 50]\n",
      " [50 50 50 50 50 50 50 50 50 50]\n",
      " [50 50 50 50 50 50 50 50 50 50]\n",
      " [50 50 50 50 50 50 50 50 50 50]\n",
      " [50 50 50 50 50 50 50 50 50 50]\n",
      " [50 50 50 50 50 50 50 50 50 50]\n",
      " [50 50 50 50 50 50 50 50 50 50]\n",
      " [50 50 50 50 50 50 50 50 50 50]]\n"
     ]
    }
   ],
   "source": [
    "d = np.full(shape = (10,10), fill_value= 50, dtype = int) #ou: (50)*np.ones(shape = (10,10), dtype = int)\n",
    "print(d)"
   ]
  }
 ],
 "metadata": {
  "kernelspec": {
   "display_name": "Python 3.10.5 64-bit",
   "language": "python",
   "name": "python3"
  },
  "language_info": {
   "codemirror_mode": {
    "name": "ipython",
    "version": 3
   },
   "file_extension": ".py",
   "mimetype": "text/x-python",
   "name": "python",
   "nbconvert_exporter": "python",
   "pygments_lexer": "ipython3",
   "version": "3.10.5"
  },
  "orig_nbformat": 4,
  "vscode": {
   "interpreter": {
    "hash": "9f0d103aebe82dfbb47ec724a2ca4fd3dcb0c9038207abb072b7913218171667"
   }
  }
 },
 "nbformat": 4,
 "nbformat_minor": 2
}
