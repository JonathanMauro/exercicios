{
 "cells": [
  {
   "cell_type": "markdown",
   "metadata": {},
   "source": [
    "Com base no array definido abaixo obtenha sua média, mediana, variância e desvio padrão.\n",
    "\n",
    "\n",
    "\n",
    "import numpy as np\n",
    "arr = np.random.normal(40,0.5,size = (300))\n",
    "\n",
    "\n",
    "Dica:\n",
    "\n",
    "Média: np.mean();\n",
    "\n",
    "Mediana: np.median();\n",
    "\n",
    "Desvio padrão: np.std();\n",
    "\n",
    "Variância: np.var()."
   ]
  },
  {
   "cell_type": "code",
   "execution_count": 3,
   "metadata": {},
   "outputs": [
    {
     "name": "stdout",
     "output_type": "stream",
     "text": [
      "Média: 39.98536529118656\n",
      "Mediana: 40.00527395122133\n",
      "Desvio padrão: 0.4938392104375575\n",
      "Variância: 0.2438771657655902\n",
      "Média 39.98536529118656\n",
      "Mediana 40.00527395122133\n",
      "Desvio padrão 0.4938392104375575\n",
      "Variância 0.2438771657655902\n"
     ]
    }
   ],
   "source": [
    "\n",
    "\n",
    "\n",
    "\n",
    "import numpy as np\n",
    "arr = np.random.normal(40,0.5,size = (300))\n",
    "\n",
    "def array(arr):\n",
    "    print('Média', np.mean(arr))\n",
    "    print('Mediana', np.median(arr))\n",
    "    print('Desvio padrão', np.std(arr))\n",
    "    print('Variância', np.var(arr))\n",
    "    \n",
    "    #ou \n",
    "\"\"\"print(f'Média: {np.mean(arr)}')\n",
    "print(f'Mediana: {np.median(arr)}')\n",
    "print(f'Desvio padrão: {np.std(arr)}')\n",
    "print(f'Variância: {np.var(arr)}')\"\"\"\n",
    "    \n",
    "    \n",
    "array(arr)"
   ]
  }
 ],
 "metadata": {
  "kernelspec": {
   "display_name": "Python 3.10.5 64-bit",
   "language": "python",
   "name": "python3"
  },
  "language_info": {
   "codemirror_mode": {
    "name": "ipython",
    "version": 3
   },
   "file_extension": ".py",
   "mimetype": "text/x-python",
   "name": "python",
   "nbconvert_exporter": "python",
   "pygments_lexer": "ipython3",
   "version": "3.10.5"
  },
  "orig_nbformat": 4,
  "vscode": {
   "interpreter": {
    "hash": "9f0d103aebe82dfbb47ec724a2ca4fd3dcb0c9038207abb072b7913218171667"
   }
  }
 },
 "nbformat": 4,
 "nbformat_minor": 2
}
