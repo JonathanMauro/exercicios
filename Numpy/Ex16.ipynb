{
 "cells": [
  {
   "cell_type": "markdown",
   "metadata": {},
   "source": [
    "Obtenha o valor máximo e o valor mínimo de cada array abaixo. Implemente uma solução com loop for.\n",
    "\n",
    "\n",
    "\n",
    "import numpy as np\n",
    "array1 = np.array([-1, 10, 3, 4, 7, 27])\n",
    "array2 = np.random.randint(-100,300,30)\n",
    "array3 = np.random.randn(10)\n",
    "array4 = np.array(range(50,10,-2))\n",
    "\n",
    "\n",
    "Dica: para obter o valor máximo e mínimo de um array podemos usar array.max() e array.min() ( ou ainda max(array) e min(array))."
   ]
  },
  {
   "cell_type": "code",
   "execution_count": 5,
   "metadata": {},
   "outputs": [
    {
     "name": "stdout",
     "output_type": "stream",
     "text": [
      "Array 1\n",
      "Valor máximo:  27\n",
      "Valor mínimo:  -1\n",
      "\n",
      "Array 2\n",
      "Valor máximo:  256\n",
      "Valor mínimo:  -83\n",
      "\n",
      "Array 3\n",
      "Valor máximo:  1.4583189612314484\n",
      "Valor mínimo:  -0.84181293589405\n",
      "\n",
      "Array 4\n",
      "Valor máximo:  50\n",
      "Valor mínimo:  12\n",
      "\n"
     ]
    }
   ],
   "source": [
    "import numpy as np\n",
    " \n",
    "array1 = np.array([-1, 10, 3, 4, 7, 27])\n",
    "array2 = np.random.randint(-100,300,30)\n",
    "array3 = np.random.randn(10)\n",
    "array4 = np.array(range(50,10,-2))\n",
    "arrays = [array1, array2, array3, array4]\n",
    "for index, array in enumerate(arrays, start = 1):\n",
    "    print(f'Array {index}')\n",
    "    print(f'Valor máximo: ', array.max())\n",
    "    print(f'Valor mínimo: ', array.min())\n",
    "    print()\n",
    "    "
   ]
  }
 ],
 "metadata": {
  "kernelspec": {
   "display_name": "Python 3.10.5 64-bit",
   "language": "python",
   "name": "python3"
  },
  "language_info": {
   "codemirror_mode": {
    "name": "ipython",
    "version": 3
   },
   "file_extension": ".py",
   "mimetype": "text/x-python",
   "name": "python",
   "nbconvert_exporter": "python",
   "pygments_lexer": "ipython3",
   "version": "3.10.5"
  },
  "orig_nbformat": 4,
  "vscode": {
   "interpreter": {
    "hash": "9f0d103aebe82dfbb47ec724a2ca4fd3dcb0c9038207abb072b7913218171667"
   }
  }
 },
 "nbformat": 4,
 "nbformat_minor": 2
}
