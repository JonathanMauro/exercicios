{
 "cells": [
  {
   "cell_type": "markdown",
   "metadata": {},
   "source": [
    "Use a função np.eye() (ou ainda np.identity()) para obter o array seguir.\n",
    "\n",
    "\n",
    "\n",
    "array([[1., 0., 0., 0., 0., 0., 0., 0., 0., 0.],\n",
    "\n",
    "       [0., 1., 0., 0., 0., 0., 0., 0., 0., 0.],\n",
    "\n",
    "       [0., 0., 1., 0., 0., 0., 0., 0., 0., 0.],\n",
    "\n",
    "       [0., 0., 0., 1., 0., 0., 0., 0., 0., 0.],\n",
    "\n",
    "       [0., 0., 0., 0., 1., 0., 0., 0., 0., 0.],\n",
    "\n",
    "       [0., 0., 0., 0., 0., 1., 0., 0., 0., 0.],\n",
    "\n",
    "       [0., 0., 0., 0., 0., 0., 1., 0., 0., 0.],\n",
    "\n",
    "       [0., 0., 0., 0., 0., 0., 0., 1., 0., 0.],\n",
    "\n",
    "       [0., 0., 0., 0., 0., 0., 0., 0., 1., 0.],\n",
    "       \n",
    "       [0., 0., 0., 0., 0., 0., 0., 0., 0., 1.]])\n",
    "\n",
    "\n",
    "Dica: essa matriz é definida como matriz identidade, neste caso de ordem 10, e assume grande relevância em diversos cálculos computacionais, como veremos mais adiante."
   ]
  },
  {
   "cell_type": "code",
   "execution_count": 3,
   "metadata": {},
   "outputs": [
    {
     "name": "stdout",
     "output_type": "stream",
     "text": [
      "[[1. 0. 0. 0. 0. 0. 0. 0. 0. 0.]\n",
      " [0. 1. 0. 0. 0. 0. 0. 0. 0. 0.]\n",
      " [0. 0. 1. 0. 0. 0. 0. 0. 0. 0.]\n",
      " [0. 0. 0. 1. 0. 0. 0. 0. 0. 0.]\n",
      " [0. 0. 0. 0. 1. 0. 0. 0. 0. 0.]\n",
      " [0. 0. 0. 0. 0. 1. 0. 0. 0. 0.]\n",
      " [0. 0. 0. 0. 0. 0. 1. 0. 0. 0.]\n",
      " [0. 0. 0. 0. 0. 0. 0. 1. 0. 0.]\n",
      " [0. 0. 0. 0. 0. 0. 0. 0. 1. 0.]\n",
      " [0. 0. 0. 0. 0. 0. 0. 0. 0. 1.]]\n"
     ]
    }
   ],
   "source": [
    "import numpy as np\n",
    "\n",
    "a = np.eye(10)  #ou: np.identity(n = 10)\n",
    "print (a)"
   ]
  },
  {
   "cell_type": "code",
   "execution_count": null,
   "metadata": {},
   "outputs": [],
   "source": []
  }
 ],
 "metadata": {
  "kernelspec": {
   "display_name": "Python 3.10.5 64-bit",
   "language": "python",
   "name": "python3"
  },
  "language_info": {
   "codemirror_mode": {
    "name": "ipython",
    "version": 3
   },
   "file_extension": ".py",
   "mimetype": "text/x-python",
   "name": "python",
   "nbconvert_exporter": "python",
   "pygments_lexer": "ipython3",
   "version": "3.10.5"
  },
  "orig_nbformat": 4,
  "vscode": {
   "interpreter": {
    "hash": "9f0d103aebe82dfbb47ec724a2ca4fd3dcb0c9038207abb072b7913218171667"
   }
  }
 },
 "nbformat": 4,
 "nbformat_minor": 2
}
