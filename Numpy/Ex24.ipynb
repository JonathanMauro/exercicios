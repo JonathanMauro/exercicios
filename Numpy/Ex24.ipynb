{
 "cells": [
  {
   "cell_type": "markdown",
   "metadata": {},
   "source": [
    "Considerando os arrays abaixo:\n",
    "\n",
    "\n",
    "\n",
    "import numpy as np\n",
    "array1 = np.array([10, 20, 30, 40])\n",
    "array2 = np.array([100, 30, 5, 1, 40, 100, 20, 130, 155,170])\n",
    "   \n",
    "\n",
    "Obtenha:\n",
    "\n",
    "a) o primeiro, o terceiro e o último elemento de cada array;\n",
    "\n",
    "b) inverta o array;\n",
    "\n",
    "c) pegue o número 20 em ambos os arrays e armazene a soma em uma variável."
   ]
  },
  {
   "cell_type": "code",
   "execution_count": 1,
   "metadata": {},
   "outputs": [
    {
     "name": "stdout",
     "output_type": "stream",
     "text": [
      "Array 1\n",
      "Primeiro elemento: 10\n",
      "Terceiro elemento: 30\n",
      "Último elemento: 40\n",
      "Array invertido: [40 30 20 10]\n",
      "Array 2\n",
      "Primeiro elemento: 100\n",
      "Terceiro elemento: 5\n",
      "Último elemento: 170\n",
      "Array invertido: [170 155 130  20 100  40   1   5  30 100]\n"
     ]
    }
   ],
   "source": [
    "import numpy as np\n",
    "array1 = np.array([10, 20, 30, 40])\n",
    "array2 = np.array([100, 30, 5, 1, 40, 100, 20, 130, 155,170])\n",
    "\n",
    "arrays = [array1, array2]\n",
    " \n",
    "#a) b)\n",
    "for index, array in enumerate(arrays, start = 1):\n",
    "    print(f'Array {index}')\n",
    "    print(f'Primeiro elemento: {array[0]}')\n",
    "    print(f'Terceiro elemento: {array[2]}')\n",
    "    print(f'Último elemento: {array[-1]}')\n",
    "    print(f'Array invertido: {array[::-1]}')\n",
    " \n",
    "#c)\n",
    "soma = array1[1]+array2[6]  #ou: array1[-3]+array2[-4]"
   ]
  }
 ],
 "metadata": {
  "kernelspec": {
   "display_name": "Python 3.10.5 64-bit",
   "language": "python",
   "name": "python3"
  },
  "language_info": {
   "codemirror_mode": {
    "name": "ipython",
    "version": 3
   },
   "file_extension": ".py",
   "mimetype": "text/x-python",
   "name": "python",
   "nbconvert_exporter": "python",
   "pygments_lexer": "ipython3",
   "version": "3.10.5"
  },
  "orig_nbformat": 4,
  "vscode": {
   "interpreter": {
    "hash": "9f0d103aebe82dfbb47ec724a2ca4fd3dcb0c9038207abb072b7913218171667"
   }
  }
 },
 "nbformat": 4,
 "nbformat_minor": 2
}
