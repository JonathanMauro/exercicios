{
 "cells": [
  {
   "cell_type": "markdown",
   "metadata": {},
   "source": [
    "A função np.logspace() retorna números com espaçamento uniforme em uma escala logarítmica. Crie um array com números dentro do intervalo [1, 51] em 10 partes com a função np.logspace().\n",
    "\n",
    "Retorno esperado:\n",
    "\n",
    "\n",
    "\n",
    "array([[1.00000000e+01],\n",
    "\n",
    "       [3.59381366e+06],\n",
    "\n",
    "       [1.29154967e+12],\n",
    "\n",
    "       [4.64158883e+17],\n",
    "\n",
    "       [1.66810054e+23],\n",
    "\n",
    "       [5.99484250e+28],\n",
    "\n",
    "       [2.15443469e+34],\n",
    "\n",
    "       [7.74263683e+39],\n",
    "\n",
    "       [2.78255940e+45],\n",
    "       \n",
    "       [1.00000000e+51]])"
   ]
  },
  {
   "cell_type": "code",
   "execution_count": 1,
   "metadata": {},
   "outputs": [
    {
     "name": "stdout",
     "output_type": "stream",
     "text": [
      "[[1.00000000e+01]\n",
      " [1.04811313e+02]\n",
      " [1.09854114e+03]\n",
      " [1.15139540e+04]\n",
      " [1.20679264e+05]\n",
      " [1.26485522e+06]\n",
      " [1.32571137e+07]\n",
      " [1.38949549e+08]\n",
      " [1.45634848e+09]\n",
      " [1.52641797e+10]\n",
      " [1.59985872e+11]\n",
      " [1.67683294e+12]\n",
      " [1.75751062e+13]\n",
      " [1.84206997e+14]\n",
      " [1.93069773e+15]\n",
      " [2.02358965e+16]\n",
      " [2.12095089e+17]\n",
      " [2.22299648e+18]\n",
      " [2.32995181e+19]\n",
      " [2.44205309e+20]\n",
      " [2.55954792e+21]\n",
      " [2.68269580e+22]\n",
      " [2.81176870e+23]\n",
      " [2.94705170e+24]\n",
      " [3.08884360e+25]\n",
      " [3.23745754e+26]\n",
      " [3.39322177e+27]\n",
      " [3.55648031e+28]\n",
      " [3.72759372e+29]\n",
      " [3.90693994e+30]\n",
      " [4.09491506e+31]\n",
      " [4.29193426e+32]\n",
      " [4.49843267e+33]\n",
      " [4.71486636e+34]\n",
      " [4.94171336e+35]\n",
      " [5.17947468e+36]\n",
      " [5.42867544e+37]\n",
      " [5.68986603e+38]\n",
      " [5.96362332e+39]\n",
      " [6.25055193e+40]\n",
      " [6.55128557e+41]\n",
      " [6.86648845e+42]\n",
      " [7.19685673e+43]\n",
      " [7.54312006e+44]\n",
      " [7.90604321e+45]\n",
      " [8.28642773e+46]\n",
      " [8.68511374e+47]\n",
      " [9.10298178e+48]\n",
      " [9.54095476e+49]\n",
      " [1.00000000e+51]]\n"
     ]
    }
   ],
   "source": [
    "import numpy as np\n",
    "\n",
    "a = np.logspace(1, 51).reshape(-1, 1)\n",
    "print(a)"
   ]
  }
 ],
 "metadata": {
  "kernelspec": {
   "display_name": "Python 3.10.5 64-bit",
   "language": "python",
   "name": "python3"
  },
  "language_info": {
   "codemirror_mode": {
    "name": "ipython",
    "version": 3
   },
   "file_extension": ".py",
   "mimetype": "text/x-python",
   "name": "python",
   "nbconvert_exporter": "python",
   "pygments_lexer": "ipython3",
   "version": "3.10.5"
  },
  "orig_nbformat": 4,
  "vscode": {
   "interpreter": {
    "hash": "9f0d103aebe82dfbb47ec724a2ca4fd3dcb0c9038207abb072b7913218171667"
   }
  }
 },
 "nbformat": 4,
 "nbformat_minor": 2
}
