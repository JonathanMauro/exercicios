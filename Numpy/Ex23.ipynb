{
 "cells": [
  {
   "cell_type": "markdown",
   "metadata": {},
   "source": [
    "Use a função np.unique() para obter um array com os elementos únicos do array abaixo. Para tanto, armazene o novo array em uma variável.\n",
    "\n",
    "\n",
    "\n",
    "A = np.array([\n",
    "\n",
    "[1, 3, 3, 4, 5],\n",
    "\n",
    "[4, 7, 11, 3, 5],\n",
    "\n",
    "[1, 11, 4, 4, 11]])"
   ]
  },
  {
   "cell_type": "code",
   "execution_count": 1,
   "metadata": {},
   "outputs": [
    {
     "name": "stdout",
     "output_type": "stream",
     "text": [
      "[ 1  3  4  5  7 11]\n"
     ]
    }
   ],
   "source": [
    "import numpy as np\n",
    "A = np.array([\n",
    "    [1, 3, 3, 4, 5],\n",
    "    [4, 7, 11, 3, 5],\n",
    "    [1, 11, 4, 4, 11]])\n",
    "\n",
    "one = np.unique(A)\n",
    "print(one)"
   ]
  }
 ],
 "metadata": {
  "kernelspec": {
   "display_name": "Python 3.10.5 64-bit",
   "language": "python",
   "name": "python3"
  },
  "language_info": {
   "codemirror_mode": {
    "name": "ipython",
    "version": 3
   },
   "file_extension": ".py",
   "mimetype": "text/x-python",
   "name": "python",
   "nbconvert_exporter": "python",
   "pygments_lexer": "ipython3",
   "version": "3.10.5"
  },
  "orig_nbformat": 4,
  "vscode": {
   "interpreter": {
    "hash": "9f0d103aebe82dfbb47ec724a2ca4fd3dcb0c9038207abb072b7913218171667"
   }
  }
 },
 "nbformat": 4,
 "nbformat_minor": 2
}
