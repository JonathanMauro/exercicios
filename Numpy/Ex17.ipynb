{
 "cells": [
  {
   "cell_type": "markdown",
   "metadata": {},
   "source": [
    "Exercício 17\n",
    "Crie uma função que receba uma matriz como entrada e calcule:\n",
    "\n",
    "    a) Valor máximo da matriz;\n",
    "\n",
    "    b) Valor máximo por coluna;\n",
    "\n",
    "    c) Valor máximo por linha;\n",
    "\n",
    "    d) Valor mínimo da matriz;\n",
    "\n",
    "    e) Valor mínimo por coluna;\n",
    "\n",
    "    f) Valor mínimo por linha.\n",
    "\n",
    "\n",
    "\n",
    "Exemplo de retorno para a matriz definida abaixo:\n",
    "\n",
    "   \n",
    "\n",
    "Input:\n",
    "\n",
    "matriz = np.random.randint(-1000,1000,50).reshape(10,5)\n",
    "info_matriz(matriz)\n",
    "Output:\n",
    "\n",
    "Valor máximo da matriz:  987\n",
    "Valor máximo por coluna:  [959 987 597 748 719]\n",
    "Valor máximo por linha:  [ 987  312  982  204  719  689  101  793 -460  959]\n",
    "Valor mínimo da matriz:  -969\n",
    "Valor mínimo por coluna:  [-878 -966 -969 -884 -881]\n",
    "Valor mínimo por linha:  [  30 -878 -335 -863  -40 -289 -660 -239 -969 -966]"
   ]
  },
  {
   "cell_type": "code",
   "execution_count": 4,
   "metadata": {},
   "outputs": [
    {
     "name": "stdout",
     "output_type": "stream",
     "text": [
      "Valor máximo da matriz:  974\n",
      "Valor máximo por coluna:  [946 974 871 728 829]\n",
      "Valor máximo por linha:  [946 882 974 677 829 602 871 430 745 790]\n",
      "Valor mínimo da matriz:  -986\n",
      "Valor mínimo por coluna:  [-429 -918 -670 -984 -986]\n",
      "Valor mínimo por linha:  [-647 -984 -326 -144 -659 -552 -723 -986 -685 -918]\n"
     ]
    }
   ],
   "source": [
    "import numpy as np\n",
    "\n",
    "def info_matrix(matrix):\n",
    "    \n",
    "    if isinstance(matrix,np.ndarray) and matrix.ndim == 2:\n",
    "        print(f'Valor máximo da matriz: ', matrix.max())\n",
    "        print(f'Valor máximo por coluna: ', matrix.max(axis = 0))\n",
    "        print(f'Valor máximo por linha: ', matrix.max(axis = 1))\n",
    "        print(f'Valor mínimo da matriz: ', matrix.min())\n",
    "        print(f'Valor mínimo por coluna: ', matrix.min(axis = 0))\n",
    "        print(f'Valor mínimo por linha: ', matrix.min(axis =1))\n",
    "    else:\n",
    "        return None\n",
    "    \n",
    "if __name__=='__main__':\n",
    "    matrix = np.random.randint(-1000,1000,50).reshape(10,5)\n",
    "    info_matrix(matrix)"
   ]
  }
 ],
 "metadata": {
  "kernelspec": {
   "display_name": "Python 3.10.5 64-bit",
   "language": "python",
   "name": "python3"
  },
  "language_info": {
   "codemirror_mode": {
    "name": "ipython",
    "version": 3
   },
   "file_extension": ".py",
   "mimetype": "text/x-python",
   "name": "python",
   "nbconvert_exporter": "python",
   "pygments_lexer": "ipython3",
   "version": "3.10.5"
  },
  "orig_nbformat": 4,
  "vscode": {
   "interpreter": {
    "hash": "9f0d103aebe82dfbb47ec724a2ca4fd3dcb0c9038207abb072b7913218171667"
   }
  }
 },
 "nbformat": 4,
 "nbformat_minor": 2
}
