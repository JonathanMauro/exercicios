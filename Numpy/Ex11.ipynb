{
 "cells": [
  {
   "cell_type": "markdown",
   "metadata": {},
   "source": [
    "Use a função np.diag() para construir o array a seguir:\n",
    "\n",
    "\n",
    "\n",
    "array([[ 5,  0,  0,  0,  0,  0],\n",
    "\n",
    "       [ 0, 10,  0,  0,  0,  0],\n",
    "\n",
    "       [ 0,  0, 15,  0,  0,  0],\n",
    "\n",
    "       [ 0,  0,  0, 20,  0,  0],\n",
    "\n",
    "       [ 0,  0,  0,  0, 25,  0],\n",
    "       \n",
    "       [ 0,  0,  0,  0,  0, 30]])"
   ]
  },
  {
   "cell_type": "code",
   "execution_count": 1,
   "metadata": {},
   "outputs": [
    {
     "name": "stdout",
     "output_type": "stream",
     "text": [
      "[[ 5  0  0  0  0  0]\n",
      " [ 0 10  0  0  0  0]\n",
      " [ 0  0 15  0  0  0]\n",
      " [ 0  0  0 20  0  0]\n",
      " [ 0  0  0  0 25  0]\n",
      " [ 0  0  0  0  0 30]]\n"
     ]
    }
   ],
   "source": [
    "import numpy as np\n",
    "\n",
    "a = np.diag(range(5,31,5))\n",
    "print(a)"
   ]
  }
 ],
 "metadata": {
  "kernelspec": {
   "display_name": "Python 3.10.5 64-bit",
   "language": "python",
   "name": "python3"
  },
  "language_info": {
   "codemirror_mode": {
    "name": "ipython",
    "version": 3
   },
   "file_extension": ".py",
   "mimetype": "text/x-python",
   "name": "python",
   "nbconvert_exporter": "python",
   "pygments_lexer": "ipython3",
   "version": "3.10.5"
  },
  "orig_nbformat": 4,
  "vscode": {
   "interpreter": {
    "hash": "9f0d103aebe82dfbb47ec724a2ca4fd3dcb0c9038207abb072b7913218171667"
   }
  }
 },
 "nbformat": 4,
 "nbformat_minor": 2
}
