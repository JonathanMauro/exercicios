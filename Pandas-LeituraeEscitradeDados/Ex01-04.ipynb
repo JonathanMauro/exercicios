{
 "cells": [
  {
   "cell_type": "markdown",
   "metadata": {},
   "source": [
    "O banco de dados possui informações sobre a distribuição de respiradores para tratamento da Covid-19 no Brasil. Com base neste dataset, faça:"
   ]
  },
  {
   "cell_type": "markdown",
   "metadata": {},
   "source": [
    "Leia o dataset com a função pd.read_csv() e armazene em uma variável df;"
   ]
  },
  {
   "cell_type": "code",
   "execution_count": 20,
   "metadata": {},
   "outputs": [],
   "source": [
    "import pandas as pd"
   ]
  },
  {
   "cell_type": "code",
   "execution_count": 21,
   "metadata": {},
   "outputs": [
    {
     "data": {
      "text/html": [
       "<div>\n",
       "<style scoped>\n",
       "    .dataframe tbody tr th:only-of-type {\n",
       "        vertical-align: middle;\n",
       "    }\n",
       "\n",
       "    .dataframe tbody tr th {\n",
       "        vertical-align: top;\n",
       "    }\n",
       "\n",
       "    .dataframe thead th {\n",
       "        text-align: right;\n",
       "    }\n",
       "</style>\n",
       "<table border=\"1\" class=\"dataframe\">\n",
       "  <thead>\n",
       "    <tr style=\"text-align: right;\">\n",
       "      <th></th>\n",
       "      <th>DATA</th>\n",
       "      <th>FORNECEDOR</th>\n",
       "      <th>DESTINO</th>\n",
       "      <th>ESTADO/MUNICIPIO</th>\n",
       "      <th>TIPO</th>\n",
       "      <th>QUANTIDADE</th>\n",
       "      <th>VALOR</th>\n",
       "      <th>DESTINATARIO</th>\n",
       "      <th>UF</th>\n",
       "    </tr>\n",
       "  </thead>\n",
       "  <tbody>\n",
       "    <tr>\n",
       "      <th>0</th>\n",
       "      <td>19/04/2020</td>\n",
       "      <td>VYAIRE</td>\n",
       "      <td>RIO DE JANEIRO</td>\n",
       "      <td>ESTADO</td>\n",
       "      <td>UTI</td>\n",
       "      <td>40</td>\n",
       "      <td>2400000</td>\n",
       "      <td>ALMOXARIFADO ESTADUAL DE MEDICAMENTOS - RIO DE...</td>\n",
       "      <td>RJ</td>\n",
       "    </tr>\n",
       "    <tr>\n",
       "      <th>1</th>\n",
       "      <td>22/04/2020</td>\n",
       "      <td>VYAIRE</td>\n",
       "      <td>RIO DE JANEIRO</td>\n",
       "      <td>ESTADO</td>\n",
       "      <td>UTI</td>\n",
       "      <td>20</td>\n",
       "      <td>1200000</td>\n",
       "      <td>LABORATÓRIO QUÍMICO FARMACÊUTICO DE AERONÁUTICA</td>\n",
       "      <td>RJ</td>\n",
       "    </tr>\n",
       "    <tr>\n",
       "      <th>2</th>\n",
       "      <td>08/05/2020</td>\n",
       "      <td>MAGNAMED</td>\n",
       "      <td>RIO DE JANEIRO</td>\n",
       "      <td>ESTADO</td>\n",
       "      <td>UTI</td>\n",
       "      <td>25</td>\n",
       "      <td>1500000</td>\n",
       "      <td>ALMOXARIFADO ESTADUAL DE MEDICAMENTOS - RIO DE...</td>\n",
       "      <td>RJ</td>\n",
       "    </tr>\n",
       "    <tr>\n",
       "      <th>3</th>\n",
       "      <td>08/05/2020</td>\n",
       "      <td>KTK</td>\n",
       "      <td>RIO DE JANEIRO</td>\n",
       "      <td>ESTADO</td>\n",
       "      <td>UTI</td>\n",
       "      <td>15</td>\n",
       "      <td>900000</td>\n",
       "      <td>ALMOXARIFADO ESTADUAL DE MEDICAMENTOS - RIO DE...</td>\n",
       "      <td>RJ</td>\n",
       "    </tr>\n",
       "    <tr>\n",
       "      <th>4</th>\n",
       "      <td>09/05/2020</td>\n",
       "      <td>LEISTUNG</td>\n",
       "      <td>RIO DE JANEIRO</td>\n",
       "      <td>ESTADO</td>\n",
       "      <td>UTI</td>\n",
       "      <td>6</td>\n",
       "      <td>360000</td>\n",
       "      <td>ALMOXARIFADO ESTADUAL DE MEDICAMENTOS - RIO DE...</td>\n",
       "      <td>RJ</td>\n",
       "    </tr>\n",
       "    <tr>\n",
       "      <th>...</th>\n",
       "      <td>...</td>\n",
       "      <td>...</td>\n",
       "      <td>...</td>\n",
       "      <td>...</td>\n",
       "      <td>...</td>\n",
       "      <td>...</td>\n",
       "      <td>...</td>\n",
       "      <td>...</td>\n",
       "      <td>...</td>\n",
       "    </tr>\n",
       "    <tr>\n",
       "      <th>1600</th>\n",
       "      <td>21/09/2020</td>\n",
       "      <td>LEISTUNG</td>\n",
       "      <td>PARANA</td>\n",
       "      <td>MUNICIPIO</td>\n",
       "      <td>UTI</td>\n",
       "      <td>5</td>\n",
       "      <td>300000</td>\n",
       "      <td>SMS de RIO NEGRO</td>\n",
       "      <td>PR</td>\n",
       "    </tr>\n",
       "    <tr>\n",
       "      <th>1601</th>\n",
       "      <td>21/09/2020</td>\n",
       "      <td>LEISTUNG</td>\n",
       "      <td>PARANA</td>\n",
       "      <td>MUNICIPIO</td>\n",
       "      <td>UTI</td>\n",
       "      <td>1</td>\n",
       "      <td>60000</td>\n",
       "      <td>SMS de IBIPORA</td>\n",
       "      <td>PR</td>\n",
       "    </tr>\n",
       "    <tr>\n",
       "      <th>1602</th>\n",
       "      <td>24/09/2020</td>\n",
       "      <td>KTK</td>\n",
       "      <td>PARANA</td>\n",
       "      <td>MUNICIPIO</td>\n",
       "      <td>UTI</td>\n",
       "      <td>2</td>\n",
       "      <td>120000</td>\n",
       "      <td>SMS de GUAIRA</td>\n",
       "      <td>PR</td>\n",
       "    </tr>\n",
       "    <tr>\n",
       "      <th>1603</th>\n",
       "      <td>24/09/2020</td>\n",
       "      <td>VYAIRE LTV 2200 USA</td>\n",
       "      <td>PARANA</td>\n",
       "      <td>MUNICIPIO</td>\n",
       "      <td>TRANSPORTE USA</td>\n",
       "      <td>1</td>\n",
       "      <td>63125</td>\n",
       "      <td>SMS de GUAIRA</td>\n",
       "      <td>PR</td>\n",
       "    </tr>\n",
       "    <tr>\n",
       "      <th>1604</th>\n",
       "      <td>07/08/2020</td>\n",
       "      <td>MAGNAMED</td>\n",
       "      <td>LIBANO</td>\n",
       "      <td>-</td>\n",
       "      <td>TRANSPORTE</td>\n",
       "      <td>300</td>\n",
       "      <td>14487000</td>\n",
       "      <td>MISSÃO FAB (Doação Destino ao Libano).</td>\n",
       "      <td>-</td>\n",
       "    </tr>\n",
       "  </tbody>\n",
       "</table>\n",
       "<p>1605 rows × 9 columns</p>\n",
       "</div>"
      ],
      "text/plain": [
       "            DATA           FORNECEDOR         DESTINO ESTADO/MUNICIPIO  \\\n",
       "0     19/04/2020               VYAIRE  RIO DE JANEIRO           ESTADO   \n",
       "1     22/04/2020               VYAIRE  RIO DE JANEIRO           ESTADO   \n",
       "2     08/05/2020             MAGNAMED  RIO DE JANEIRO           ESTADO   \n",
       "3     08/05/2020                  KTK  RIO DE JANEIRO           ESTADO   \n",
       "4     09/05/2020             LEISTUNG  RIO DE JANEIRO           ESTADO   \n",
       "...          ...                  ...             ...              ...   \n",
       "1600  21/09/2020             LEISTUNG          PARANA        MUNICIPIO   \n",
       "1601  21/09/2020             LEISTUNG          PARANA        MUNICIPIO   \n",
       "1602  24/09/2020                  KTK          PARANA        MUNICIPIO   \n",
       "1603  24/09/2020  VYAIRE LTV 2200 USA          PARANA        MUNICIPIO   \n",
       "1604  07/08/2020             MAGNAMED          LIBANO                -   \n",
       "\n",
       "                TIPO  QUANTIDADE     VALOR  \\\n",
       "0                UTI          40   2400000   \n",
       "1                UTI          20   1200000   \n",
       "2                UTI          25   1500000   \n",
       "3                UTI          15    900000   \n",
       "4                UTI           6    360000   \n",
       "...              ...         ...       ...   \n",
       "1600             UTI           5    300000   \n",
       "1601             UTI           1     60000   \n",
       "1602             UTI           2    120000   \n",
       "1603  TRANSPORTE USA           1     63125   \n",
       "1604      TRANSPORTE         300  14487000   \n",
       "\n",
       "                                           DESTINATARIO  UF  \n",
       "0     ALMOXARIFADO ESTADUAL DE MEDICAMENTOS - RIO DE...  RJ  \n",
       "1       LABORATÓRIO QUÍMICO FARMACÊUTICO DE AERONÁUTICA  RJ  \n",
       "2     ALMOXARIFADO ESTADUAL DE MEDICAMENTOS - RIO DE...  RJ  \n",
       "3     ALMOXARIFADO ESTADUAL DE MEDICAMENTOS - RIO DE...  RJ  \n",
       "4     ALMOXARIFADO ESTADUAL DE MEDICAMENTOS - RIO DE...  RJ  \n",
       "...                                                 ...  ..  \n",
       "1600                                   SMS de RIO NEGRO  PR  \n",
       "1601                                     SMS de IBIPORA  PR  \n",
       "1602                                      SMS de GUAIRA  PR  \n",
       "1603                                      SMS de GUAIRA  PR  \n",
       "1604             MISSÃO FAB (Doação Destino ao Libano).   -  \n",
       "\n",
       "[1605 rows x 9 columns]"
      ]
     },
     "execution_count": 21,
     "metadata": {},
     "output_type": "execute_result"
    }
   ],
   "source": [
    "df = pd.read_csv('distribuicao_respiradores_BR.csv', sep = ';')\n",
    "df"
   ]
  },
  {
   "cell_type": "markdown",
   "metadata": {},
   "source": [
    "Imprima as 10 primeiras linhas;"
   ]
  },
  {
   "cell_type": "code",
   "execution_count": 22,
   "metadata": {},
   "outputs": [
    {
     "data": {
      "text/html": [
       "<div>\n",
       "<style scoped>\n",
       "    .dataframe tbody tr th:only-of-type {\n",
       "        vertical-align: middle;\n",
       "    }\n",
       "\n",
       "    .dataframe tbody tr th {\n",
       "        vertical-align: top;\n",
       "    }\n",
       "\n",
       "    .dataframe thead th {\n",
       "        text-align: right;\n",
       "    }\n",
       "</style>\n",
       "<table border=\"1\" class=\"dataframe\">\n",
       "  <thead>\n",
       "    <tr style=\"text-align: right;\">\n",
       "      <th></th>\n",
       "      <th>DATA</th>\n",
       "      <th>FORNECEDOR</th>\n",
       "      <th>DESTINO</th>\n",
       "      <th>ESTADO/MUNICIPIO</th>\n",
       "      <th>TIPO</th>\n",
       "      <th>QUANTIDADE</th>\n",
       "      <th>VALOR</th>\n",
       "      <th>DESTINATARIO</th>\n",
       "      <th>UF</th>\n",
       "    </tr>\n",
       "  </thead>\n",
       "  <tbody>\n",
       "    <tr>\n",
       "      <th>0</th>\n",
       "      <td>19/04/2020</td>\n",
       "      <td>VYAIRE</td>\n",
       "      <td>RIO DE JANEIRO</td>\n",
       "      <td>ESTADO</td>\n",
       "      <td>UTI</td>\n",
       "      <td>40</td>\n",
       "      <td>2400000</td>\n",
       "      <td>ALMOXARIFADO ESTADUAL DE MEDICAMENTOS - RIO DE...</td>\n",
       "      <td>RJ</td>\n",
       "    </tr>\n",
       "    <tr>\n",
       "      <th>1</th>\n",
       "      <td>22/04/2020</td>\n",
       "      <td>VYAIRE</td>\n",
       "      <td>RIO DE JANEIRO</td>\n",
       "      <td>ESTADO</td>\n",
       "      <td>UTI</td>\n",
       "      <td>20</td>\n",
       "      <td>1200000</td>\n",
       "      <td>LABORATÓRIO QUÍMICO FARMACÊUTICO DE AERONÁUTICA</td>\n",
       "      <td>RJ</td>\n",
       "    </tr>\n",
       "    <tr>\n",
       "      <th>2</th>\n",
       "      <td>08/05/2020</td>\n",
       "      <td>MAGNAMED</td>\n",
       "      <td>RIO DE JANEIRO</td>\n",
       "      <td>ESTADO</td>\n",
       "      <td>UTI</td>\n",
       "      <td>25</td>\n",
       "      <td>1500000</td>\n",
       "      <td>ALMOXARIFADO ESTADUAL DE MEDICAMENTOS - RIO DE...</td>\n",
       "      <td>RJ</td>\n",
       "    </tr>\n",
       "    <tr>\n",
       "      <th>3</th>\n",
       "      <td>08/05/2020</td>\n",
       "      <td>KTK</td>\n",
       "      <td>RIO DE JANEIRO</td>\n",
       "      <td>ESTADO</td>\n",
       "      <td>UTI</td>\n",
       "      <td>15</td>\n",
       "      <td>900000</td>\n",
       "      <td>ALMOXARIFADO ESTADUAL DE MEDICAMENTOS - RIO DE...</td>\n",
       "      <td>RJ</td>\n",
       "    </tr>\n",
       "    <tr>\n",
       "      <th>4</th>\n",
       "      <td>09/05/2020</td>\n",
       "      <td>LEISTUNG</td>\n",
       "      <td>RIO DE JANEIRO</td>\n",
       "      <td>ESTADO</td>\n",
       "      <td>UTI</td>\n",
       "      <td>6</td>\n",
       "      <td>360000</td>\n",
       "      <td>ALMOXARIFADO ESTADUAL DE MEDICAMENTOS - RIO DE...</td>\n",
       "      <td>RJ</td>\n",
       "    </tr>\n",
       "    <tr>\n",
       "      <th>5</th>\n",
       "      <td>09/05/2020</td>\n",
       "      <td>VYAIRE</td>\n",
       "      <td>RIO DE JANEIRO</td>\n",
       "      <td>ESTADO</td>\n",
       "      <td>UTI</td>\n",
       "      <td>1</td>\n",
       "      <td>60000</td>\n",
       "      <td>ALMOXARIFADO ESTADUAL DE MEDICAMENTOS - RIO DE...</td>\n",
       "      <td>RJ</td>\n",
       "    </tr>\n",
       "    <tr>\n",
       "      <th>6</th>\n",
       "      <td>09/05/2020</td>\n",
       "      <td>VYAIRE</td>\n",
       "      <td>RIO DE JANEIRO</td>\n",
       "      <td>ESTADO</td>\n",
       "      <td>UTI</td>\n",
       "      <td>30</td>\n",
       "      <td>1800000</td>\n",
       "      <td>ALMOXARIFADO ESTADUAL DE MEDICAMENTOS - RIO DE...</td>\n",
       "      <td>RJ</td>\n",
       "    </tr>\n",
       "    <tr>\n",
       "      <th>7</th>\n",
       "      <td>09/05/2020</td>\n",
       "      <td>MAGNAMED</td>\n",
       "      <td>RIO DE JANEIRO</td>\n",
       "      <td>ESTADO</td>\n",
       "      <td>UTI</td>\n",
       "      <td>8</td>\n",
       "      <td>480000</td>\n",
       "      <td>ALMOXARIFADO ESTADUAL DE MEDICAMENTOS - RIO DE...</td>\n",
       "      <td>RJ</td>\n",
       "    </tr>\n",
       "    <tr>\n",
       "      <th>8</th>\n",
       "      <td>09/05/2020</td>\n",
       "      <td>MAGNAMED</td>\n",
       "      <td>RIO DE JANEIRO</td>\n",
       "      <td>ESTADO</td>\n",
       "      <td>TRANSPORTE</td>\n",
       "      <td>4</td>\n",
       "      <td>193160</td>\n",
       "      <td>ALMOXARIFADO ESTADUAL DE MEDICAMENTOS - RIO DE...</td>\n",
       "      <td>RJ</td>\n",
       "    </tr>\n",
       "    <tr>\n",
       "      <th>9</th>\n",
       "      <td>09/05/2020</td>\n",
       "      <td>MAGNAMED</td>\n",
       "      <td>RIO DE JANEIRO</td>\n",
       "      <td>ESTADO</td>\n",
       "      <td>UTI</td>\n",
       "      <td>1</td>\n",
       "      <td>60000</td>\n",
       "      <td>ALMOXARIFADO ESTADUAL DE MEDICAMENTOS - RIO DE...</td>\n",
       "      <td>RJ</td>\n",
       "    </tr>\n",
       "  </tbody>\n",
       "</table>\n",
       "</div>"
      ],
      "text/plain": [
       "         DATA FORNECEDOR         DESTINO ESTADO/MUNICIPIO        TIPO  \\\n",
       "0  19/04/2020     VYAIRE  RIO DE JANEIRO           ESTADO         UTI   \n",
       "1  22/04/2020     VYAIRE  RIO DE JANEIRO           ESTADO         UTI   \n",
       "2  08/05/2020   MAGNAMED  RIO DE JANEIRO           ESTADO         UTI   \n",
       "3  08/05/2020        KTK  RIO DE JANEIRO           ESTADO         UTI   \n",
       "4  09/05/2020   LEISTUNG  RIO DE JANEIRO           ESTADO         UTI   \n",
       "5  09/05/2020     VYAIRE  RIO DE JANEIRO           ESTADO         UTI   \n",
       "6  09/05/2020     VYAIRE  RIO DE JANEIRO           ESTADO         UTI   \n",
       "7  09/05/2020   MAGNAMED  RIO DE JANEIRO           ESTADO         UTI   \n",
       "8  09/05/2020   MAGNAMED  RIO DE JANEIRO           ESTADO  TRANSPORTE   \n",
       "9  09/05/2020   MAGNAMED  RIO DE JANEIRO           ESTADO         UTI   \n",
       "\n",
       "   QUANTIDADE    VALOR                                       DESTINATARIO  UF  \n",
       "0          40  2400000  ALMOXARIFADO ESTADUAL DE MEDICAMENTOS - RIO DE...  RJ  \n",
       "1          20  1200000    LABORATÓRIO QUÍMICO FARMACÊUTICO DE AERONÁUTICA  RJ  \n",
       "2          25  1500000  ALMOXARIFADO ESTADUAL DE MEDICAMENTOS - RIO DE...  RJ  \n",
       "3          15   900000  ALMOXARIFADO ESTADUAL DE MEDICAMENTOS - RIO DE...  RJ  \n",
       "4           6   360000  ALMOXARIFADO ESTADUAL DE MEDICAMENTOS - RIO DE...  RJ  \n",
       "5           1    60000  ALMOXARIFADO ESTADUAL DE MEDICAMENTOS - RIO DE...  RJ  \n",
       "6          30  1800000  ALMOXARIFADO ESTADUAL DE MEDICAMENTOS - RIO DE...  RJ  \n",
       "7           8   480000  ALMOXARIFADO ESTADUAL DE MEDICAMENTOS - RIO DE...  RJ  \n",
       "8           4   193160  ALMOXARIFADO ESTADUAL DE MEDICAMENTOS - RIO DE...  RJ  \n",
       "9           1    60000  ALMOXARIFADO ESTADUAL DE MEDICAMENTOS - RIO DE...  RJ  "
      ]
     },
     "execution_count": 22,
     "metadata": {},
     "output_type": "execute_result"
    }
   ],
   "source": [
    "df.head(10)"
   ]
  },
  {
   "cell_type": "markdown",
   "metadata": {},
   "source": [
    "Imprima as 3 últimas linhas;"
   ]
  },
  {
   "cell_type": "code",
   "execution_count": 23,
   "metadata": {},
   "outputs": [
    {
     "data": {
      "text/html": [
       "<div>\n",
       "<style scoped>\n",
       "    .dataframe tbody tr th:only-of-type {\n",
       "        vertical-align: middle;\n",
       "    }\n",
       "\n",
       "    .dataframe tbody tr th {\n",
       "        vertical-align: top;\n",
       "    }\n",
       "\n",
       "    .dataframe thead th {\n",
       "        text-align: right;\n",
       "    }\n",
       "</style>\n",
       "<table border=\"1\" class=\"dataframe\">\n",
       "  <thead>\n",
       "    <tr style=\"text-align: right;\">\n",
       "      <th></th>\n",
       "      <th>DATA</th>\n",
       "      <th>FORNECEDOR</th>\n",
       "      <th>DESTINO</th>\n",
       "      <th>ESTADO/MUNICIPIO</th>\n",
       "      <th>TIPO</th>\n",
       "      <th>QUANTIDADE</th>\n",
       "      <th>VALOR</th>\n",
       "      <th>DESTINATARIO</th>\n",
       "      <th>UF</th>\n",
       "    </tr>\n",
       "  </thead>\n",
       "  <tbody>\n",
       "    <tr>\n",
       "      <th>1602</th>\n",
       "      <td>24/09/2020</td>\n",
       "      <td>KTK</td>\n",
       "      <td>PARANA</td>\n",
       "      <td>MUNICIPIO</td>\n",
       "      <td>UTI</td>\n",
       "      <td>2</td>\n",
       "      <td>120000</td>\n",
       "      <td>SMS de GUAIRA</td>\n",
       "      <td>PR</td>\n",
       "    </tr>\n",
       "    <tr>\n",
       "      <th>1603</th>\n",
       "      <td>24/09/2020</td>\n",
       "      <td>VYAIRE LTV 2200 USA</td>\n",
       "      <td>PARANA</td>\n",
       "      <td>MUNICIPIO</td>\n",
       "      <td>TRANSPORTE USA</td>\n",
       "      <td>1</td>\n",
       "      <td>63125</td>\n",
       "      <td>SMS de GUAIRA</td>\n",
       "      <td>PR</td>\n",
       "    </tr>\n",
       "    <tr>\n",
       "      <th>1604</th>\n",
       "      <td>07/08/2020</td>\n",
       "      <td>MAGNAMED</td>\n",
       "      <td>LIBANO</td>\n",
       "      <td>-</td>\n",
       "      <td>TRANSPORTE</td>\n",
       "      <td>300</td>\n",
       "      <td>14487000</td>\n",
       "      <td>MISSÃO FAB (Doação Destino ao Libano).</td>\n",
       "      <td>-</td>\n",
       "    </tr>\n",
       "  </tbody>\n",
       "</table>\n",
       "</div>"
      ],
      "text/plain": [
       "            DATA           FORNECEDOR DESTINO ESTADO/MUNICIPIO  \\\n",
       "1602  24/09/2020                  KTK  PARANA        MUNICIPIO   \n",
       "1603  24/09/2020  VYAIRE LTV 2200 USA  PARANA        MUNICIPIO   \n",
       "1604  07/08/2020             MAGNAMED  LIBANO                -   \n",
       "\n",
       "                TIPO  QUANTIDADE     VALOR  \\\n",
       "1602             UTI           2    120000   \n",
       "1603  TRANSPORTE USA           1     63125   \n",
       "1604      TRANSPORTE         300  14487000   \n",
       "\n",
       "                                DESTINATARIO  UF  \n",
       "1602                           SMS de GUAIRA  PR  \n",
       "1603                           SMS de GUAIRA  PR  \n",
       "1604  MISSÃO FAB (Doação Destino ao Libano).   -  "
      ]
     },
     "execution_count": 23,
     "metadata": {},
     "output_type": "execute_result"
    }
   ],
   "source": [
    "df.tail(3)"
   ]
  },
  {
   "cell_type": "markdown",
   "metadata": {},
   "source": [
    "Imprima as colunas do dataset;"
   ]
  },
  {
   "cell_type": "code",
   "execution_count": 24,
   "metadata": {},
   "outputs": [
    {
     "data": {
      "text/plain": [
       "Index(['DATA', 'FORNECEDOR', 'DESTINO', 'ESTADO/MUNICIPIO', 'TIPO',\n",
       "       'QUANTIDADE', 'VALOR', 'DESTINATARIO', 'UF'],\n",
       "      dtype='object')"
      ]
     },
     "execution_count": 24,
     "metadata": {},
     "output_type": "execute_result"
    }
   ],
   "source": [
    "df.columns"
   ]
  },
  {
   "cell_type": "markdown",
   "metadata": {},
   "source": [
    "Mostre informações sobre o objeto df;"
   ]
  },
  {
   "cell_type": "code",
   "execution_count": 25,
   "metadata": {},
   "outputs": [
    {
     "name": "stdout",
     "output_type": "stream",
     "text": [
      "<class 'pandas.core.frame.DataFrame'>\n",
      "RangeIndex: 1605 entries, 0 to 1604\n",
      "Data columns (total 9 columns):\n",
      " #   Column            Non-Null Count  Dtype \n",
      "---  ------            --------------  ----- \n",
      " 0   DATA              1605 non-null   object\n",
      " 1   FORNECEDOR        1605 non-null   object\n",
      " 2   DESTINO           1605 non-null   object\n",
      " 3   ESTADO/MUNICIPIO  1605 non-null   object\n",
      " 4   TIPO              1605 non-null   object\n",
      " 5   QUANTIDADE        1605 non-null   int64 \n",
      " 6   VALOR             1605 non-null   int64 \n",
      " 7   DESTINATARIO      1605 non-null   object\n",
      " 8   UF                1605 non-null   object\n",
      "dtypes: int64(2), object(7)\n",
      "memory usage: 113.0+ KB\n"
     ]
    }
   ],
   "source": [
    "df.info()"
   ]
  },
  {
   "cell_type": "markdown",
   "metadata": {},
   "source": [
    "Mostre o tipo de dado de cada coluna;"
   ]
  },
  {
   "cell_type": "code",
   "execution_count": 26,
   "metadata": {},
   "outputs": [
    {
     "data": {
      "text/plain": [
       "DATA                object\n",
       "FORNECEDOR          object\n",
       "DESTINO             object\n",
       "ESTADO/MUNICIPIO    object\n",
       "TIPO                object\n",
       "QUANTIDADE           int64\n",
       "VALOR                int64\n",
       "DESTINATARIO        object\n",
       "UF                  object\n",
       "dtype: object"
      ]
     },
     "execution_count": 26,
     "metadata": {},
     "output_type": "execute_result"
    }
   ],
   "source": [
    "df.dtypes"
   ]
  },
  {
   "cell_type": "markdown",
   "metadata": {},
   "source": [
    "Mostre o número de linhas do objeto df;"
   ]
  },
  {
   "cell_type": "code",
   "execution_count": 27,
   "metadata": {},
   "outputs": [
    {
     "data": {
      "text/plain": [
       "(1605, 9)"
      ]
     },
     "execution_count": 27,
     "metadata": {},
     "output_type": "execute_result"
    }
   ],
   "source": [
    "df.shape"
   ]
  },
  {
   "cell_type": "markdown",
   "metadata": {},
   "source": [
    "Mostre a quantidade de missing em cada coluna do DataFrame."
   ]
  },
  {
   "cell_type": "code",
   "execution_count": 28,
   "metadata": {},
   "outputs": [
    {
     "data": {
      "text/plain": [
       "DATA                0\n",
       "FORNECEDOR          0\n",
       "DESTINO             0\n",
       "ESTADO/MUNICIPIO    0\n",
       "TIPO                0\n",
       "QUANTIDADE          0\n",
       "VALOR               0\n",
       "DESTINATARIO        0\n",
       "UF                  0\n",
       "dtype: int64"
      ]
     },
     "execution_count": 28,
     "metadata": {},
     "output_type": "execute_result"
    }
   ],
   "source": [
    "df.isna().sum()"
   ]
  },
  {
   "cell_type": "markdown",
   "metadata": {},
   "source": [
    "Ainda com o dataset anterior siga os passos abaixo:\n",
    "Converta a coluna DATA para datetime;"
   ]
  },
  {
   "cell_type": "code",
   "execution_count": 29,
   "metadata": {},
   "outputs": [
    {
     "name": "stderr",
     "output_type": "stream",
     "text": [
      "C:\\Users\\natha\\AppData\\Local\\Temp\\ipykernel_9856\\4260120593.py:1: UserWarning: Parsing dates in DD/MM/YYYY format when dayfirst=False (the default) was specified. This may lead to inconsistently parsed dates! Specify a format to ensure consistent parsing.\n",
      "  df['DATA'] = pd.to_datetime(df['DATA'])\n"
     ]
    }
   ],
   "source": [
    "df['DATA'] = pd.to_datetime(df['DATA'])"
   ]
  },
  {
   "cell_type": "markdown",
   "metadata": {},
   "source": [
    "Converta a coluna VALOR para float;"
   ]
  },
  {
   "cell_type": "code",
   "execution_count": 30,
   "metadata": {},
   "outputs": [],
   "source": [
    "df['VALOR'] = df['VALOR'].astype(float)"
   ]
  },
  {
   "cell_type": "markdown",
   "metadata": {},
   "source": [
    "Mostre os valores únicos da coluna FORNECEDOR;"
   ]
  },
  {
   "cell_type": "code",
   "execution_count": 31,
   "metadata": {},
   "outputs": [
    {
     "data": {
      "text/plain": [
       "array(['VYAIRE', 'MAGNAMED', 'KTK', 'LEISTUNG', 'LEISTUNG/VYAIRE',\n",
       "       'KTK/VAYIRE', 'WEG', 'VYAIRE LTV 2200 USA', 'UTI',\n",
       "       'VYAIRE LTV 1200 USA', 'MAGNAMED-REQUISIÇÃO',\n",
       "       'SUZANO/Zhongxun Medical', 'SUZANO/Resmed',\n",
       "       'L C DADDE COM AT INST MAT MEDICO EPP', 'MAGNAMED/REQUISIÇÃO',\n",
       "       'Leistung'], dtype=object)"
      ]
     },
     "execution_count": 31,
     "metadata": {},
     "output_type": "execute_result"
    }
   ],
   "source": [
    "df['FORNECEDOR'].unique()"
   ]
  },
  {
   "cell_type": "markdown",
   "metadata": {},
   "source": [
    "Mostre os valores únicos da coluna TIPO;"
   ]
  },
  {
   "cell_type": "code",
   "execution_count": 32,
   "metadata": {},
   "outputs": [
    {
     "data": {
      "text/plain": [
       "array(['UTI', 'TRANSPORTE', 'TRANSPORTE USA', 'Transporte'], dtype=object)"
      ]
     },
     "execution_count": 32,
     "metadata": {},
     "output_type": "execute_result"
    }
   ],
   "source": [
    "df['TIPO'].unique()"
   ]
  },
  {
   "cell_type": "markdown",
   "metadata": {},
   "source": [
    "Mostre a quantidade de destinatários únicos."
   ]
  },
  {
   "cell_type": "code",
   "execution_count": 33,
   "metadata": {},
   "outputs": [
    {
     "data": {
      "text/plain": [
       "944"
      ]
     },
     "execution_count": 33,
     "metadata": {},
     "output_type": "execute_result"
    }
   ],
   "source": [
    "df['DESTINATARIO'].unique().size"
   ]
  },
  {
   "cell_type": "code",
   "execution_count": 34,
   "metadata": {},
   "outputs": [
    {
     "data": {
      "text/plain": [
       "DATA                datetime64[ns]\n",
       "FORNECEDOR                  object\n",
       "DESTINO                     object\n",
       "ESTADO/MUNICIPIO            object\n",
       "TIPO                        object\n",
       "QUANTIDADE                   int64\n",
       "VALOR                      float64\n",
       "DESTINATARIO                object\n",
       "UF                          object\n",
       "dtype: object"
      ]
     },
     "execution_count": 34,
     "metadata": {},
     "output_type": "execute_result"
    }
   ],
   "source": [
    "df.dtypes"
   ]
  },
  {
   "cell_type": "markdown",
   "metadata": {},
   "source": [
    "Após as operações efetuadas nos exercícios 1 e 2, salve o banco de dados no formato CSV com o nome 'distribuicao_respiradores-modificado.csv'. Use ';' como separador."
   ]
  },
  {
   "cell_type": "code",
   "execution_count": 35,
   "metadata": {},
   "outputs": [],
   "source": [
    "df.to_csv('distribuicao_respiradores-modificado.csv', index = False, sep = ';')"
   ]
  },
  {
   "cell_type": "markdown",
   "metadata": {},
   "source": [
    "Após as operações efetuadas nos exercícios 1 e 2, converta o banco de dados para o formato Excel."
   ]
  },
  {
   "cell_type": "code",
   "execution_count": 36,
   "metadata": {},
   "outputs": [
    {
     "ename": "ModuleNotFoundError",
     "evalue": "No module named 'openpyxl'",
     "output_type": "error",
     "traceback": [
      "\u001b[1;31m---------------------------------------------------------------------------\u001b[0m",
      "\u001b[1;31mModuleNotFoundError\u001b[0m                       Traceback (most recent call last)",
      "Cell \u001b[1;32mIn [36], line 1\u001b[0m\n\u001b[1;32m----> 1\u001b[0m df\u001b[39m.\u001b[39;49mto_excel(\u001b[39m'\u001b[39;49m\u001b[39mdistribuicao_respiradores-modificado.xlsx\u001b[39;49m\u001b[39m'\u001b[39;49m)\n",
      "File \u001b[1;32mc:\\Users\\natha\\AppData\\Local\\Programs\\Python\\Python310\\lib\\site-packages\\pandas\\util\\_decorators.py:211\u001b[0m, in \u001b[0;36mdeprecate_kwarg.<locals>._deprecate_kwarg.<locals>.wrapper\u001b[1;34m(*args, **kwargs)\u001b[0m\n\u001b[0;32m    209\u001b[0m     \u001b[39melse\u001b[39;00m:\n\u001b[0;32m    210\u001b[0m         kwargs[new_arg_name] \u001b[39m=\u001b[39m new_arg_value\n\u001b[1;32m--> 211\u001b[0m \u001b[39mreturn\u001b[39;00m func(\u001b[39m*\u001b[39margs, \u001b[39m*\u001b[39m\u001b[39m*\u001b[39mkwargs)\n",
      "File \u001b[1;32mc:\\Users\\natha\\AppData\\Local\\Programs\\Python\\Python310\\lib\\site-packages\\pandas\\util\\_decorators.py:211\u001b[0m, in \u001b[0;36mdeprecate_kwarg.<locals>._deprecate_kwarg.<locals>.wrapper\u001b[1;34m(*args, **kwargs)\u001b[0m\n\u001b[0;32m    209\u001b[0m     \u001b[39melse\u001b[39;00m:\n\u001b[0;32m    210\u001b[0m         kwargs[new_arg_name] \u001b[39m=\u001b[39m new_arg_value\n\u001b[1;32m--> 211\u001b[0m \u001b[39mreturn\u001b[39;00m func(\u001b[39m*\u001b[39margs, \u001b[39m*\u001b[39m\u001b[39m*\u001b[39mkwargs)\n",
      "File \u001b[1;32mc:\\Users\\natha\\AppData\\Local\\Programs\\Python\\Python310\\lib\\site-packages\\pandas\\core\\generic.py:2374\u001b[0m, in \u001b[0;36mNDFrame.to_excel\u001b[1;34m(self, excel_writer, sheet_name, na_rep, float_format, columns, header, index, index_label, startrow, startcol, engine, merge_cells, encoding, inf_rep, verbose, freeze_panes, storage_options)\u001b[0m\n\u001b[0;32m   2361\u001b[0m \u001b[39mfrom\u001b[39;00m \u001b[39mpandas\u001b[39;00m\u001b[39m.\u001b[39;00m\u001b[39mio\u001b[39;00m\u001b[39m.\u001b[39;00m\u001b[39mformats\u001b[39;00m\u001b[39m.\u001b[39;00m\u001b[39mexcel\u001b[39;00m \u001b[39mimport\u001b[39;00m ExcelFormatter\n\u001b[0;32m   2363\u001b[0m formatter \u001b[39m=\u001b[39m ExcelFormatter(\n\u001b[0;32m   2364\u001b[0m     df,\n\u001b[0;32m   2365\u001b[0m     na_rep\u001b[39m=\u001b[39mna_rep,\n\u001b[1;32m   (...)\u001b[0m\n\u001b[0;32m   2372\u001b[0m     inf_rep\u001b[39m=\u001b[39minf_rep,\n\u001b[0;32m   2373\u001b[0m )\n\u001b[1;32m-> 2374\u001b[0m formatter\u001b[39m.\u001b[39;49mwrite(\n\u001b[0;32m   2375\u001b[0m     excel_writer,\n\u001b[0;32m   2376\u001b[0m     sheet_name\u001b[39m=\u001b[39;49msheet_name,\n\u001b[0;32m   2377\u001b[0m     startrow\u001b[39m=\u001b[39;49mstartrow,\n\u001b[0;32m   2378\u001b[0m     startcol\u001b[39m=\u001b[39;49mstartcol,\n\u001b[0;32m   2379\u001b[0m     freeze_panes\u001b[39m=\u001b[39;49mfreeze_panes,\n\u001b[0;32m   2380\u001b[0m     engine\u001b[39m=\u001b[39;49mengine,\n\u001b[0;32m   2381\u001b[0m     storage_options\u001b[39m=\u001b[39;49mstorage_options,\n\u001b[0;32m   2382\u001b[0m )\n",
      "File \u001b[1;32mc:\\Users\\natha\\AppData\\Local\\Programs\\Python\\Python310\\lib\\site-packages\\pandas\\io\\formats\\excel.py:910\u001b[0m, in \u001b[0;36mExcelFormatter.write\u001b[1;34m(self, writer, sheet_name, startrow, startcol, freeze_panes, engine, storage_options)\u001b[0m\n\u001b[0;32m    906\u001b[0m     need_save \u001b[39m=\u001b[39m \u001b[39mFalse\u001b[39;00m\n\u001b[0;32m    907\u001b[0m \u001b[39melse\u001b[39;00m:\n\u001b[0;32m    908\u001b[0m     \u001b[39m# error: Cannot instantiate abstract class 'ExcelWriter' with abstract\u001b[39;00m\n\u001b[0;32m    909\u001b[0m     \u001b[39m# attributes 'engine', 'save', 'supported_extensions' and 'write_cells'\u001b[39;00m\n\u001b[1;32m--> 910\u001b[0m     writer \u001b[39m=\u001b[39m ExcelWriter(  \u001b[39m# type: ignore[abstract]\u001b[39;49;00m\n\u001b[0;32m    911\u001b[0m         writer, engine\u001b[39m=\u001b[39;49mengine, storage_options\u001b[39m=\u001b[39;49mstorage_options\n\u001b[0;32m    912\u001b[0m     )\n\u001b[0;32m    913\u001b[0m     need_save \u001b[39m=\u001b[39m \u001b[39mTrue\u001b[39;00m\n\u001b[0;32m    915\u001b[0m \u001b[39mtry\u001b[39;00m:\n",
      "File \u001b[1;32mc:\\Users\\natha\\AppData\\Local\\Programs\\Python\\Python310\\lib\\site-packages\\pandas\\io\\excel\\_openpyxl.py:56\u001b[0m, in \u001b[0;36mOpenpyxlWriter.__init__\u001b[1;34m(self, path, engine, date_format, datetime_format, mode, storage_options, if_sheet_exists, engine_kwargs, **kwargs)\u001b[0m\n\u001b[0;32m     43\u001b[0m \u001b[39mdef\u001b[39;00m \u001b[39m__init__\u001b[39m(\n\u001b[0;32m     44\u001b[0m     \u001b[39mself\u001b[39m,\n\u001b[0;32m     45\u001b[0m     path: FilePath \u001b[39m|\u001b[39m WriteExcelBuffer \u001b[39m|\u001b[39m ExcelWriter,\n\u001b[1;32m   (...)\u001b[0m\n\u001b[0;32m     54\u001b[0m ) \u001b[39m-\u001b[39m\u001b[39m>\u001b[39m \u001b[39mNone\u001b[39;00m:\n\u001b[0;32m     55\u001b[0m     \u001b[39m# Use the openpyxl module as the Excel writer.\u001b[39;00m\n\u001b[1;32m---> 56\u001b[0m     \u001b[39mfrom\u001b[39;00m \u001b[39mopenpyxl\u001b[39;00m\u001b[39m.\u001b[39;00m\u001b[39mworkbook\u001b[39;00m \u001b[39mimport\u001b[39;00m Workbook\n\u001b[0;32m     58\u001b[0m     engine_kwargs \u001b[39m=\u001b[39m combine_kwargs(engine_kwargs, kwargs)\n\u001b[0;32m     60\u001b[0m     \u001b[39msuper\u001b[39m()\u001b[39m.\u001b[39m\u001b[39m__init__\u001b[39m(\n\u001b[0;32m     61\u001b[0m         path,\n\u001b[0;32m     62\u001b[0m         mode\u001b[39m=\u001b[39mmode,\n\u001b[1;32m   (...)\u001b[0m\n\u001b[0;32m     65\u001b[0m         engine_kwargs\u001b[39m=\u001b[39mengine_kwargs,\n\u001b[0;32m     66\u001b[0m     )\n",
      "\u001b[1;31mModuleNotFoundError\u001b[0m: No module named 'openpyxl'"
     ]
    }
   ],
   "source": [
    "df.to_excel('distribuicao_respiradores-modificado.xlsx')"
   ]
  }
 ],
 "metadata": {
  "kernelspec": {
   "display_name": "Python 3.10.5 64-bit",
   "language": "python",
   "name": "python3"
  },
  "language_info": {
   "codemirror_mode": {
    "name": "ipython",
    "version": 3
   },
   "file_extension": ".py",
   "mimetype": "text/x-python",
   "name": "python",
   "nbconvert_exporter": "python",
   "pygments_lexer": "ipython3",
   "version": "3.10.5"
  },
  "orig_nbformat": 4,
  "vscode": {
   "interpreter": {
    "hash": "9f0d103aebe82dfbb47ec724a2ca4fd3dcb0c9038207abb072b7913218171667"
   }
  }
 },
 "nbformat": 4,
 "nbformat_minor": 2
}
