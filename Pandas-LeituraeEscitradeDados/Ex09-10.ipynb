{
 "cells": [
  {
   "cell_type": "markdown",
   "metadata": {},
   "source": [
    "Baixe o dataset anexo nesta aula, que foi gerado a partir da base FAOSTAT e refere-se a dados de produção e produtividade de commodities selecionadas para alguns países, entre 2016-2018. Siga os passos abaixo:"
   ]
  },
  {
   "cell_type": "markdown",
   "metadata": {},
   "source": [
    "Leia o dataset e armazene em uma variável;"
   ]
  },
  {
   "cell_type": "code",
   "execution_count": 1,
   "metadata": {},
   "outputs": [],
   "source": [
    "import pandas as pd"
   ]
  },
  {
   "cell_type": "code",
   "execution_count": 2,
   "metadata": {},
   "outputs": [
    {
     "data": {
      "text/html": [
       "<div>\n",
       "<style scoped>\n",
       "    .dataframe tbody tr th:only-of-type {\n",
       "        vertical-align: middle;\n",
       "    }\n",
       "\n",
       "    .dataframe tbody tr th {\n",
       "        vertical-align: top;\n",
       "    }\n",
       "\n",
       "    .dataframe thead th {\n",
       "        text-align: right;\n",
       "    }\n",
       "</style>\n",
       "<table border=\"1\" class=\"dataframe\">\n",
       "  <thead>\n",
       "    <tr style=\"text-align: right;\">\n",
       "      <th></th>\n",
       "      <th>Domain Code</th>\n",
       "      <th>Domain</th>\n",
       "      <th>Area Code</th>\n",
       "      <th>Area</th>\n",
       "      <th>Element Code</th>\n",
       "      <th>Element</th>\n",
       "      <th>Item Code</th>\n",
       "      <th>Item</th>\n",
       "      <th>Year Code</th>\n",
       "      <th>Year</th>\n",
       "      <th>Unit</th>\n",
       "      <th>Value</th>\n",
       "      <th>Flag</th>\n",
       "      <th>Flag Description</th>\n",
       "    </tr>\n",
       "  </thead>\n",
       "  <tbody>\n",
       "    <tr>\n",
       "      <th>0</th>\n",
       "      <td>QC</td>\n",
       "      <td>Crops</td>\n",
       "      <td>9</td>\n",
       "      <td>Argentina</td>\n",
       "      <td>5419</td>\n",
       "      <td>Yield</td>\n",
       "      <td>515</td>\n",
       "      <td>Apples</td>\n",
       "      <td>2016</td>\n",
       "      <td>2016</td>\n",
       "      <td>hg/ha</td>\n",
       "      <td>223912</td>\n",
       "      <td>Fc</td>\n",
       "      <td>Calculated data</td>\n",
       "    </tr>\n",
       "    <tr>\n",
       "      <th>1</th>\n",
       "      <td>QC</td>\n",
       "      <td>Crops</td>\n",
       "      <td>9</td>\n",
       "      <td>Argentina</td>\n",
       "      <td>5419</td>\n",
       "      <td>Yield</td>\n",
       "      <td>515</td>\n",
       "      <td>Apples</td>\n",
       "      <td>2017</td>\n",
       "      <td>2017</td>\n",
       "      <td>hg/ha</td>\n",
       "      <td>235386</td>\n",
       "      <td>Fc</td>\n",
       "      <td>Calculated data</td>\n",
       "    </tr>\n",
       "    <tr>\n",
       "      <th>2</th>\n",
       "      <td>QC</td>\n",
       "      <td>Crops</td>\n",
       "      <td>9</td>\n",
       "      <td>Argentina</td>\n",
       "      <td>5419</td>\n",
       "      <td>Yield</td>\n",
       "      <td>515</td>\n",
       "      <td>Apples</td>\n",
       "      <td>2018</td>\n",
       "      <td>2018</td>\n",
       "      <td>hg/ha</td>\n",
       "      <td>213072</td>\n",
       "      <td>Fc</td>\n",
       "      <td>Calculated data</td>\n",
       "    </tr>\n",
       "    <tr>\n",
       "      <th>3</th>\n",
       "      <td>QC</td>\n",
       "      <td>Crops</td>\n",
       "      <td>9</td>\n",
       "      <td>Argentina</td>\n",
       "      <td>5510</td>\n",
       "      <td>Production</td>\n",
       "      <td>515</td>\n",
       "      <td>Apples</td>\n",
       "      <td>2016</td>\n",
       "      <td>2016</td>\n",
       "      <td>tonnes</td>\n",
       "      <td>458908</td>\n",
       "      <td>NaN</td>\n",
       "      <td>Official data</td>\n",
       "    </tr>\n",
       "    <tr>\n",
       "      <th>4</th>\n",
       "      <td>QC</td>\n",
       "      <td>Crops</td>\n",
       "      <td>9</td>\n",
       "      <td>Argentina</td>\n",
       "      <td>5510</td>\n",
       "      <td>Production</td>\n",
       "      <td>515</td>\n",
       "      <td>Apples</td>\n",
       "      <td>2017</td>\n",
       "      <td>2017</td>\n",
       "      <td>tonnes</td>\n",
       "      <td>458908</td>\n",
       "      <td>NaN</td>\n",
       "      <td>Official data</td>\n",
       "    </tr>\n",
       "    <tr>\n",
       "      <th>...</th>\n",
       "      <td>...</td>\n",
       "      <td>...</td>\n",
       "      <td>...</td>\n",
       "      <td>...</td>\n",
       "      <td>...</td>\n",
       "      <td>...</td>\n",
       "      <td>...</td>\n",
       "      <td>...</td>\n",
       "      <td>...</td>\n",
       "      <td>...</td>\n",
       "      <td>...</td>\n",
       "      <td>...</td>\n",
       "      <td>...</td>\n",
       "      <td>...</td>\n",
       "    </tr>\n",
       "    <tr>\n",
       "      <th>61</th>\n",
       "      <td>QC</td>\n",
       "      <td>Crops</td>\n",
       "      <td>231</td>\n",
       "      <td>United States of America</td>\n",
       "      <td>5419</td>\n",
       "      <td>Yield</td>\n",
       "      <td>388</td>\n",
       "      <td>Tomatoes</td>\n",
       "      <td>2017</td>\n",
       "      <td>2017</td>\n",
       "      <td>hg/ha</td>\n",
       "      <td>886625</td>\n",
       "      <td>Fc</td>\n",
       "      <td>Calculated data</td>\n",
       "    </tr>\n",
       "    <tr>\n",
       "      <th>62</th>\n",
       "      <td>QC</td>\n",
       "      <td>Crops</td>\n",
       "      <td>231</td>\n",
       "      <td>United States of America</td>\n",
       "      <td>5419</td>\n",
       "      <td>Yield</td>\n",
       "      <td>388</td>\n",
       "      <td>Tomatoes</td>\n",
       "      <td>2018</td>\n",
       "      <td>2018</td>\n",
       "      <td>hg/ha</td>\n",
       "      <td>968079</td>\n",
       "      <td>Fc</td>\n",
       "      <td>Calculated data</td>\n",
       "    </tr>\n",
       "    <tr>\n",
       "      <th>63</th>\n",
       "      <td>QC</td>\n",
       "      <td>Crops</td>\n",
       "      <td>231</td>\n",
       "      <td>United States of America</td>\n",
       "      <td>5510</td>\n",
       "      <td>Production</td>\n",
       "      <td>388</td>\n",
       "      <td>Tomatoes</td>\n",
       "      <td>2016</td>\n",
       "      <td>2016</td>\n",
       "      <td>tonnes</td>\n",
       "      <td>12877049</td>\n",
       "      <td>NaN</td>\n",
       "      <td>Official data</td>\n",
       "    </tr>\n",
       "    <tr>\n",
       "      <th>64</th>\n",
       "      <td>QC</td>\n",
       "      <td>Crops</td>\n",
       "      <td>231</td>\n",
       "      <td>United States of America</td>\n",
       "      <td>5510</td>\n",
       "      <td>Production</td>\n",
       "      <td>388</td>\n",
       "      <td>Tomatoes</td>\n",
       "      <td>2017</td>\n",
       "      <td>2017</td>\n",
       "      <td>tonnes</td>\n",
       "      <td>11141862</td>\n",
       "      <td>NaN</td>\n",
       "      <td>Official data</td>\n",
       "    </tr>\n",
       "    <tr>\n",
       "      <th>65</th>\n",
       "      <td>QC</td>\n",
       "      <td>Crops</td>\n",
       "      <td>231</td>\n",
       "      <td>United States of America</td>\n",
       "      <td>5510</td>\n",
       "      <td>Production</td>\n",
       "      <td>388</td>\n",
       "      <td>Tomatoes</td>\n",
       "      <td>2018</td>\n",
       "      <td>2018</td>\n",
       "      <td>tonnes</td>\n",
       "      <td>12612139</td>\n",
       "      <td>NaN</td>\n",
       "      <td>Official data</td>\n",
       "    </tr>\n",
       "  </tbody>\n",
       "</table>\n",
       "<p>66 rows × 14 columns</p>\n",
       "</div>"
      ],
      "text/plain": [
       "   Domain Code Domain  Area Code                      Area  Element Code  \\\n",
       "0           QC  Crops          9                 Argentina          5419   \n",
       "1           QC  Crops          9                 Argentina          5419   \n",
       "2           QC  Crops          9                 Argentina          5419   \n",
       "3           QC  Crops          9                 Argentina          5510   \n",
       "4           QC  Crops          9                 Argentina          5510   \n",
       "..         ...    ...        ...                       ...           ...   \n",
       "61          QC  Crops        231  United States of America          5419   \n",
       "62          QC  Crops        231  United States of America          5419   \n",
       "63          QC  Crops        231  United States of America          5510   \n",
       "64          QC  Crops        231  United States of America          5510   \n",
       "65          QC  Crops        231  United States of America          5510   \n",
       "\n",
       "       Element  Item Code      Item  Year Code  Year    Unit     Value Flag  \\\n",
       "0        Yield        515    Apples       2016  2016   hg/ha    223912   Fc   \n",
       "1        Yield        515    Apples       2017  2017   hg/ha    235386   Fc   \n",
       "2        Yield        515    Apples       2018  2018   hg/ha    213072   Fc   \n",
       "3   Production        515    Apples       2016  2016  tonnes    458908  NaN   \n",
       "4   Production        515    Apples       2017  2017  tonnes    458908  NaN   \n",
       "..         ...        ...       ...        ...   ...     ...       ...  ...   \n",
       "61       Yield        388  Tomatoes       2017  2017   hg/ha    886625   Fc   \n",
       "62       Yield        388  Tomatoes       2018  2018   hg/ha    968079   Fc   \n",
       "63  Production        388  Tomatoes       2016  2016  tonnes  12877049  NaN   \n",
       "64  Production        388  Tomatoes       2017  2017  tonnes  11141862  NaN   \n",
       "65  Production        388  Tomatoes       2018  2018  tonnes  12612139  NaN   \n",
       "\n",
       "   Flag Description  \n",
       "0   Calculated data  \n",
       "1   Calculated data  \n",
       "2   Calculated data  \n",
       "3     Official data  \n",
       "4     Official data  \n",
       "..              ...  \n",
       "61  Calculated data  \n",
       "62  Calculated data  \n",
       "63    Official data  \n",
       "64    Official data  \n",
       "65    Official data  \n",
       "\n",
       "[66 rows x 14 columns]"
      ]
     },
     "execution_count": 2,
     "metadata": {},
     "output_type": "execute_result"
    }
   ],
   "source": [
    "df = pd.read_csv('FAOSTAT_data_12-5-2020.csv')\n",
    "df"
   ]
  },
  {
   "cell_type": "markdown",
   "metadata": {},
   "source": [
    "Imprima o shape do dataset;"
   ]
  },
  {
   "cell_type": "code",
   "execution_count": 3,
   "metadata": {},
   "outputs": [
    {
     "data": {
      "text/plain": [
       "(66, 14)"
      ]
     },
     "execution_count": 3,
     "metadata": {},
     "output_type": "execute_result"
    }
   ],
   "source": [
    "df.shape"
   ]
  },
  {
   "cell_type": "markdown",
   "metadata": {},
   "source": [
    "Imprima informações do dataset;"
   ]
  },
  {
   "cell_type": "code",
   "execution_count": 4,
   "metadata": {},
   "outputs": [
    {
     "name": "stdout",
     "output_type": "stream",
     "text": [
      "<class 'pandas.core.frame.DataFrame'>\n",
      "RangeIndex: 66 entries, 0 to 65\n",
      "Data columns (total 14 columns):\n",
      " #   Column            Non-Null Count  Dtype \n",
      "---  ------            --------------  ----- \n",
      " 0   Domain Code       66 non-null     object\n",
      " 1   Domain            66 non-null     object\n",
      " 2   Area Code         66 non-null     int64 \n",
      " 3   Area              66 non-null     object\n",
      " 4   Element Code      66 non-null     int64 \n",
      " 5   Element           66 non-null     object\n",
      " 6   Item Code         66 non-null     int64 \n",
      " 7   Item              66 non-null     object\n",
      " 8   Year Code         66 non-null     int64 \n",
      " 9   Year              66 non-null     int64 \n",
      " 10  Unit              66 non-null     object\n",
      " 11  Value             66 non-null     int64 \n",
      " 12  Flag              43 non-null     object\n",
      " 13  Flag Description  66 non-null     object\n",
      "dtypes: int64(6), object(8)\n",
      "memory usage: 7.3+ KB\n"
     ]
    }
   ],
   "source": [
    "df.info()"
   ]
  },
  {
   "cell_type": "markdown",
   "metadata": {},
   "source": [
    "Imprima o tipo de dado de cada coluna;"
   ]
  },
  {
   "cell_type": "code",
   "execution_count": 5,
   "metadata": {},
   "outputs": [
    {
     "data": {
      "text/plain": [
       "Domain Code         object\n",
       "Domain              object\n",
       "Area Code            int64\n",
       "Area                object\n",
       "Element Code         int64\n",
       "Element             object\n",
       "Item Code            int64\n",
       "Item                object\n",
       "Year Code            int64\n",
       "Year                 int64\n",
       "Unit                object\n",
       "Value                int64\n",
       "Flag                object\n",
       "Flag Description    object\n",
       "dtype: object"
      ]
     },
     "execution_count": 5,
     "metadata": {},
     "output_type": "execute_result"
    }
   ],
   "source": [
    "df.dtypes"
   ]
  },
  {
   "cell_type": "markdown",
   "metadata": {},
   "source": [
    "Remova as colunas: 'Domain Code', 'Domain', 'Area Code', 'Element Code', 'Item Code', 'Year Code', 'Flag', 'Flag Description';"
   ]
  },
  {
   "cell_type": "code",
   "execution_count": 6,
   "metadata": {},
   "outputs": [],
   "source": [
    "col = ['Domain Code', 'Domain', 'Area Code', 'Element Code', 'Item Code', 'Year Code', 'Flag', 'Flag Description']\n",
    "df.drop(columns=col, axis = 1, inplace=  True)"
   ]
  },
  {
   "cell_type": "markdown",
   "metadata": {},
   "source": [
    "Converta o dtype da coluna Value para float."
   ]
  },
  {
   "cell_type": "code",
   "execution_count": 8,
   "metadata": {},
   "outputs": [],
   "source": [
    "df = df.astype({'Value':float})"
   ]
  },
  {
   "cell_type": "markdown",
   "metadata": {},
   "source": [
    "Após as operações realizadas no exercício 9, salve o dataset no formato CSV."
   ]
  },
  {
   "cell_type": "code",
   "execution_count": null,
   "metadata": {},
   "outputs": [],
   "source": [
    "df.to_csv('FAOSTAT-modificado.csv', index = False)"
   ]
  }
 ],
 "metadata": {
  "kernelspec": {
   "display_name": "Python 3.10.5 64-bit",
   "language": "python",
   "name": "python3"
  },
  "language_info": {
   "codemirror_mode": {
    "name": "ipython",
    "version": 3
   },
   "file_extension": ".py",
   "mimetype": "text/x-python",
   "name": "python",
   "nbconvert_exporter": "python",
   "pygments_lexer": "ipython3",
   "version": "3.10.5"
  },
  "orig_nbformat": 4,
  "vscode": {
   "interpreter": {
    "hash": "9f0d103aebe82dfbb47ec724a2ca4fd3dcb0c9038207abb072b7913218171667"
   }
  }
 },
 "nbformat": 4,
 "nbformat_minor": 2
}
