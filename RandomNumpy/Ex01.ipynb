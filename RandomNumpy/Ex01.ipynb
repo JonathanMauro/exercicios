{
 "cells": [
  {
   "cell_type": "markdown",
   "metadata": {},
   "source": [
    "Gere uma distribuição normal aleatória de ordem 4 x 5. Armazene o resultado em uma variável."
   ]
  },
  {
   "cell_type": "code",
   "execution_count": 4,
   "metadata": {},
   "outputs": [
    {
     "name": "stdout",
     "output_type": "stream",
     "text": [
      "[[-2.33288023 -2.24706831 -0.1895649   0.90299547 -0.32900052]\n",
      " [ 1.00696562 -0.84624519 -0.60566047  0.79034229 -2.45949566]\n",
      " [-0.02697255  1.41405772  0.11359908  1.02512226 -0.16489656]\n",
      " [-0.46638996  0.88705339 -0.31221497 -0.16867307  0.10569503]]\n"
     ]
    }
   ],
   "source": [
    "from numpy import random \n",
    "\n",
    "data = random.normal(size = (4,5))\n",
    "print(data)"
   ]
  }
 ],
 "metadata": {
  "kernelspec": {
   "display_name": "Python 3.10.5 64-bit",
   "language": "python",
   "name": "python3"
  },
  "language_info": {
   "codemirror_mode": {
    "name": "ipython",
    "version": 3
   },
   "file_extension": ".py",
   "mimetype": "text/x-python",
   "name": "python",
   "nbconvert_exporter": "python",
   "pygments_lexer": "ipython3",
   "version": "3.10.5"
  },
  "orig_nbformat": 4,
  "vscode": {
   "interpreter": {
    "hash": "9f0d103aebe82dfbb47ec724a2ca4fd3dcb0c9038207abb072b7913218171667"
   }
  }
 },
 "nbformat": 4,
 "nbformat_minor": 2
}
