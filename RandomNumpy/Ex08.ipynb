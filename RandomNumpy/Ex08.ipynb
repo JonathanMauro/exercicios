{
 "cells": [
  {
   "cell_type": "markdown",
   "metadata": {},
   "source": [
    "Gere um array com números aleatórios entre -1000 e 3000, de shape (30, 5).\n",
    "Dica: np.random.randint()."
   ]
  },
  {
   "cell_type": "code",
   "execution_count": 1,
   "metadata": {},
   "outputs": [],
   "source": [
    "import numpy as np\n"
   ]
  },
  {
   "cell_type": "code",
   "execution_count": 3,
   "metadata": {},
   "outputs": [
    {
     "data": {
      "text/plain": [
       "array([[-526, 1630, -610,  757, -983],\n",
       "       [ 951, 1938, 1944, -977, -431],\n",
       "       [-272, 1852, -583, 1389, 1624],\n",
       "       [2562, 1761, 2965, 1456, -842],\n",
       "       [1960,  687, -780, 1351, 2354],\n",
       "       [1029, -119, 2750, -707,  990],\n",
       "       [2075,  565,  663,  817, 1106],\n",
       "       [2410,  672, 2775,  975, 1485],\n",
       "       [1152, 1241,  456, 2908, -972],\n",
       "       [1077, 1079, 2616, 1847, -775],\n",
       "       [1730, 2722, 1031, 1465,  302],\n",
       "       [ 596, 1726, -812,  -86, -118],\n",
       "       [1634, -797, 2588, -294, 1584],\n",
       "       [2327,  872, -226,  938, -309],\n",
       "       [2059, 1712, 2587, 1659, 1262],\n",
       "       [-512, -910,   88, 1288,  546],\n",
       "       [2159, 1456, 1988, 1927, 2251],\n",
       "       [2520, 2509, -916,  426, 1993],\n",
       "       [2698, 1650, 1989, 1848, 2468],\n",
       "       [-601, 2328,  769, 2715, 1206],\n",
       "       [2076, 1497,  249, -911, 2102],\n",
       "       [1873, 1784, -564, 1447,  153],\n",
       "       [2234, 1138, 1917,  213, 1750],\n",
       "       [ 639, -805,  185,  203, 1707],\n",
       "       [1322, -647,  745, 2017, -702],\n",
       "       [ -95, 2513, 2940, 1826, 1792],\n",
       "       [-321,  496,  949, 1099, 2628],\n",
       "       [1718, -477,  432,  354, 1153],\n",
       "       [1217, 2621, -928, 1578,  400],\n",
       "       [-814, -943,  137,  218, 1940]])"
      ]
     },
     "execution_count": 3,
     "metadata": {},
     "output_type": "execute_result"
    }
   ],
   "source": [
    "data = np.random.randint(low = -1000,high = 3000, size = (30, 5))\n",
    "data"
   ]
  }
 ],
 "metadata": {
  "kernelspec": {
   "display_name": "Python 3.10.5 64-bit",
   "language": "python",
   "name": "python3"
  },
  "language_info": {
   "codemirror_mode": {
    "name": "ipython",
    "version": 3
   },
   "file_extension": ".py",
   "mimetype": "text/x-python",
   "name": "python",
   "nbconvert_exporter": "python",
   "pygments_lexer": "ipython3",
   "version": "3.10.5"
  },
  "orig_nbformat": 4,
  "vscode": {
   "interpreter": {
    "hash": "9f0d103aebe82dfbb47ec724a2ca4fd3dcb0c9038207abb072b7913218171667"
   }
  }
 },
 "nbformat": 4,
 "nbformat_minor": 2
}
