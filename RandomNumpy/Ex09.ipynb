{
 "cells": [
  {
   "cell_type": "markdown",
   "metadata": {},
   "source": [
    "Gere um array de shape 30 x 5 com números entre 0 e 4, inclusive."
   ]
  },
  {
   "cell_type": "code",
   "execution_count": 1,
   "metadata": {},
   "outputs": [],
   "source": [
    "import numpy as np\n"
   ]
  },
  {
   "cell_type": "code",
   "execution_count": 3,
   "metadata": {},
   "outputs": [
    {
     "data": {
      "text/plain": [
       "array([[3, 1, 2, 2, 0],\n",
       "       [1, 1, 2, 1, 3],\n",
       "       [3, 3, 3, 2, 3],\n",
       "       [0, 1, 3, 0, 0],\n",
       "       [3, 2, 3, 3, 4],\n",
       "       [4, 3, 1, 1, 4],\n",
       "       [1, 0, 2, 0, 4],\n",
       "       [4, 4, 0, 2, 1],\n",
       "       [0, 1, 3, 0, 4],\n",
       "       [4, 2, 0, 1, 3],\n",
       "       [1, 1, 2, 4, 0],\n",
       "       [2, 3, 0, 1, 3],\n",
       "       [1, 3, 2, 1, 0],\n",
       "       [3, 4, 3, 2, 0],\n",
       "       [4, 2, 0, 0, 3],\n",
       "       [1, 3, 1, 1, 2],\n",
       "       [2, 4, 0, 2, 2],\n",
       "       [1, 4, 1, 1, 2],\n",
       "       [3, 2, 2, 2, 2],\n",
       "       [1, 4, 1, 2, 0],\n",
       "       [1, 2, 1, 3, 1],\n",
       "       [3, 4, 3, 4, 0],\n",
       "       [4, 4, 3, 3, 4],\n",
       "       [0, 4, 3, 3, 4],\n",
       "       [1, 3, 1, 1, 2],\n",
       "       [2, 0, 2, 2, 0],\n",
       "       [1, 2, 1, 2, 2],\n",
       "       [3, 0, 0, 2, 2],\n",
       "       [1, 2, 4, 2, 2],\n",
       "       [2, 3, 0, 4, 3]])"
      ]
     },
     "execution_count": 3,
     "metadata": {},
     "output_type": "execute_result"
    }
   ],
   "source": [
    "data = np.random.randint(5, size = (30,5))\n",
    "data"
   ]
  }
 ],
 "metadata": {
  "kernelspec": {
   "display_name": "Python 3.10.5 64-bit",
   "language": "python",
   "name": "python3"
  },
  "language_info": {
   "codemirror_mode": {
    "name": "ipython",
    "version": 3
   },
   "file_extension": ".py",
   "mimetype": "text/x-python",
   "name": "python",
   "nbconvert_exporter": "python",
   "pygments_lexer": "ipython3",
   "version": "3.10.5"
  },
  "orig_nbformat": 4,
  "vscode": {
   "interpreter": {
    "hash": "9f0d103aebe82dfbb47ec724a2ca4fd3dcb0c9038207abb072b7913218171667"
   }
  }
 },
 "nbformat": 4,
 "nbformat_minor": 2
}
