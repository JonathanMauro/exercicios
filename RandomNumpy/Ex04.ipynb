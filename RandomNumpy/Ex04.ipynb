{
 "cells": [
  {
   "cell_type": "markdown",
   "metadata": {},
   "source": [
    "A distribuição binomial é uma distribuição discreta de probabilidade e descreve resultados binários, como sucesso e fracasso ou cara e coroa, por exemplo. Podemos criar dados aleatórios para esta distribuição com a função np.random.binomial().Sendo:\n",
    "\n",
    "n: número de tentativas;\n",
    "\n",
    "p: probabilidade de ocorrência de cada tentativa;\n",
    "\n",
    "size: tamanho do vetor retornado (shape).\n",
    "\n",
    "Com base nestas informações:\n",
    "\n",
    "Gere números aleatórios seguindo uma distribuição binomial, com 6 tentativas, em que a probabilidade de ocorrência de cada tentativa é 0.5, e tamanho 100. Armazene os dados em uma variável, 'data1'.\n",
    "\n",
    "Gere números aleatórios seguindo uma distribuição binomial, com 2 tentativas, em que a probabilidade de ocorrência de cada tentativa é 0.8, e tamanho 1000. Armazene os dados em uma variável, 'data2'."
   ]
  },
  {
   "cell_type": "code",
   "execution_count": 5,
   "metadata": {},
   "outputs": [],
   "source": [
    "from numpy import random"
   ]
  },
  {
   "cell_type": "code",
   "execution_count": 6,
   "metadata": {},
   "outputs": [
    {
     "data": {
      "text/plain": [
       "array([4, 2, 1, 2, 5, 4, 5, 3, 3, 4, 6, 4, 1, 5, 2, 3, 4, 2, 0, 4, 4, 2,\n",
       "       2, 4, 2, 1, 4, 2, 1, 4, 0, 2, 5, 4, 6, 3, 2, 1, 1, 3, 3, 3, 3, 1,\n",
       "       3, 2, 4, 3, 1, 3, 3, 2, 5, 5, 2, 2, 4, 4, 2, 3, 3, 3, 2, 3, 4, 2,\n",
       "       6, 3, 2, 4, 3, 3, 3, 3, 1, 3, 5, 1, 5, 4, 1, 2, 1, 2, 4, 4, 3, 3,\n",
       "       3, 4, 3, 4, 4, 2, 2, 4, 3, 2, 5, 3])"
      ]
     },
     "execution_count": 6,
     "metadata": {},
     "output_type": "execute_result"
    }
   ],
   "source": [
    "n1 = 6\n",
    "p1 = 0.5\n",
    "data1 = random.binomial(n1, p1, size = 100)\n",
    "data1"
   ]
  },
  {
   "cell_type": "code",
   "execution_count": 7,
   "metadata": {},
   "outputs": [
    {
     "data": {
      "text/plain": [
       "array([2, 0, 2, 1, 2, 2, 1, 1, 1, 2, 2, 2, 2, 2, 2, 2, 1, 1, 2, 2, 1, 1,\n",
       "       2, 2, 1, 2, 2, 2, 2, 1, 1, 2, 2, 1, 2, 2, 2, 2, 0, 2, 2, 2, 2, 2,\n",
       "       2, 2, 2, 2, 2, 2, 2, 2, 2, 2, 2, 2, 1, 2, 2, 2, 2, 2, 2, 1, 0, 2,\n",
       "       2, 2, 0, 2, 2, 2, 2, 1, 1, 2, 2, 2, 2, 2, 1, 1, 2, 2, 1, 1, 2, 2,\n",
       "       2, 1, 2, 2, 1, 2, 1, 2, 2, 1, 2, 2, 2, 2, 2, 2, 2, 2, 2, 2, 1, 1,\n",
       "       0, 1, 1, 2, 1, 2, 2, 2, 1, 2, 2, 2, 2, 2, 2, 2, 1, 1, 2, 2, 2, 0,\n",
       "       2, 2, 2, 2, 2, 2, 2, 2, 2, 2, 2, 2, 2, 2, 1, 1, 1, 2, 2, 2, 2, 2,\n",
       "       1, 1, 2, 2, 2, 2, 2, 2, 2, 2, 1, 2, 2, 1, 2, 1, 2, 2, 2, 1, 2, 2,\n",
       "       2, 1, 2, 2, 1, 1, 2, 0, 1, 2, 2, 2, 2, 2, 2, 1, 2, 1, 2, 2, 1, 0,\n",
       "       0, 1, 1, 2, 2, 1, 1, 2, 2, 2, 2, 2, 0, 2, 2, 1, 2, 2, 2, 2, 2, 2,\n",
       "       2, 1, 2, 1, 2, 2, 1, 2, 2, 1, 1, 2, 2, 2, 2, 2, 2, 2, 1, 2, 2, 1,\n",
       "       1, 1, 2, 2, 1, 2, 2, 2, 2, 2, 1, 2, 2, 2, 0, 1, 2, 2, 2, 0, 1, 1,\n",
       "       2, 2, 1, 2, 1, 2, 1, 2, 0, 2, 2, 2, 2, 1, 2, 2, 2, 0, 2, 1, 1, 1,\n",
       "       2, 1, 2, 2, 2, 2, 1, 2, 2, 1, 2, 1, 2, 2, 2, 2, 2, 2, 2, 2, 2, 2,\n",
       "       2, 2, 0, 2, 2, 2, 1, 2, 2, 2, 2, 2, 1, 2, 2, 2, 1, 2, 2, 1, 2, 2,\n",
       "       2, 2, 2, 2, 2, 1, 1, 2, 2, 2, 1, 1, 2, 2, 2, 1, 1, 2, 2, 1, 2, 2,\n",
       "       1, 1, 2, 1, 2, 2, 2, 1, 1, 2, 1, 2, 2, 2, 2, 2, 1, 2, 2, 2, 0, 2,\n",
       "       2, 2, 2, 2, 2, 2, 2, 2, 1, 2, 1, 1, 2, 2, 2, 2, 2, 2, 2, 1, 1, 1,\n",
       "       2, 2, 1, 0, 2, 2, 2, 1, 0, 2, 2, 2, 2, 1, 2, 2, 2, 0, 1, 2, 1, 2,\n",
       "       1, 2, 2, 2, 1, 1, 2, 2, 2, 2, 2, 1, 1, 2, 2, 2, 2, 1, 2, 2, 2, 2,\n",
       "       1, 2, 1, 2, 1, 1, 2, 2, 1, 1, 2, 2, 2, 2, 1, 2, 2, 2, 1, 2, 2, 1,\n",
       "       2, 1, 1, 0, 2, 1, 2, 2, 2, 2, 1, 1, 0, 2, 1, 0, 2, 2, 2, 1, 2, 2,\n",
       "       2, 1, 2, 1, 2, 2, 2, 1, 2, 2, 2, 2, 2, 1, 1, 0, 1, 2, 2, 0, 2, 2,\n",
       "       2, 1, 1, 2, 2, 2, 2, 1, 1, 2, 2, 2, 1, 2, 2, 2, 1, 2, 2, 2, 1, 2,\n",
       "       2, 2, 0, 2, 1, 2, 2, 2, 2, 2, 2, 2, 0, 1, 2, 1, 2, 1, 1, 2, 2, 2,\n",
       "       2, 2, 1, 2, 1, 1, 1, 1, 2, 2, 2, 2, 1, 2, 2, 2, 2, 2, 1, 2, 1, 2,\n",
       "       2, 1, 1, 2, 2, 2, 2, 1, 2, 2, 2, 2, 1, 2, 2, 2, 2, 2, 2, 2, 1, 1,\n",
       "       0, 1, 2, 2, 2, 2, 1, 2, 2, 2, 2, 2, 2, 2, 1, 1, 2, 2, 2, 2, 2, 2,\n",
       "       2, 1, 2, 2, 2, 1, 2, 2, 1, 2, 1, 2, 2, 1, 1, 2, 0, 2, 1, 1, 2, 1,\n",
       "       2, 2, 2, 2, 1, 2, 2, 1, 1, 2, 2, 1, 2, 2, 0, 1, 2, 1, 2, 2, 1, 2,\n",
       "       1, 2, 2, 0, 1, 1, 2, 2, 1, 1, 2, 2, 2, 2, 1, 2, 2, 2, 2, 2, 2, 1,\n",
       "       2, 2, 2, 2, 2, 1, 2, 1, 1, 2, 1, 2, 1, 2, 2, 2, 2, 2, 2, 2, 2, 1,\n",
       "       1, 2, 1, 1, 2, 0, 2, 2, 1, 2, 2, 1, 2, 2, 1, 1, 2, 2, 2, 2, 2, 2,\n",
       "       2, 2, 2, 0, 2, 2, 1, 2, 2, 2, 1, 1, 2, 2, 2, 2, 2, 2, 1, 1, 1, 2,\n",
       "       1, 2, 1, 2, 2, 0, 1, 1, 2, 2, 2, 1, 1, 2, 1, 1, 1, 2, 2, 2, 2, 2,\n",
       "       1, 0, 1, 2, 2, 2, 2, 2, 1, 1, 2, 1, 2, 1, 2, 1, 2, 0, 1, 2, 2, 2,\n",
       "       2, 2, 2, 2, 1, 2, 2, 2, 1, 1, 2, 1, 1, 1, 2, 2, 1, 1, 0, 2, 2, 2,\n",
       "       2, 1, 2, 2, 1, 1, 2, 2, 2, 2, 0, 0, 1, 1, 2, 2, 1, 2, 2, 2, 1, 2,\n",
       "       1, 1, 2, 1, 2, 1, 2, 2, 2, 1, 2, 2, 2, 1, 1, 2, 1, 2, 1, 1, 2, 1,\n",
       "       2, 2, 2, 1, 1, 1, 1, 0, 0, 1, 2, 1, 2, 2, 2, 1, 1, 2, 2, 1, 2, 2,\n",
       "       1, 2, 1, 2, 2, 2, 1, 2, 2, 2, 1, 1, 2, 1, 1, 2, 2, 2, 2, 2, 1, 2,\n",
       "       1, 2, 1, 1, 2, 2, 1, 2, 1, 2, 1, 2, 2, 2, 1, 1, 1, 2, 2, 2, 2, 1,\n",
       "       2, 2, 2, 2, 2, 2, 2, 1, 2, 2, 2, 2, 2, 2, 2, 2, 2, 0, 1, 2, 1, 2,\n",
       "       2, 1, 2, 2, 2, 2, 2, 2, 2, 2, 2, 1, 2, 2, 2, 2, 1, 1, 2, 1, 2, 2,\n",
       "       2, 1, 2, 2, 2, 2, 1, 1, 2, 2, 2, 0, 2, 2, 1, 2, 2, 2, 1, 1, 2, 0,\n",
       "       1, 2, 1, 2, 2, 2, 2, 2, 2, 2])"
      ]
     },
     "execution_count": 7,
     "metadata": {},
     "output_type": "execute_result"
    }
   ],
   "source": [
    "n2 = 2\n",
    "p2 = 0.8\n",
    "data2 = random.binomial(n2, p2, size= 1000)\n",
    "data2"
   ]
  }
 ],
 "metadata": {
  "kernelspec": {
   "display_name": "Python 3.10.5 64-bit",
   "language": "python",
   "name": "python3"
  },
  "language_info": {
   "codemirror_mode": {
    "name": "ipython",
    "version": 3
   },
   "file_extension": ".py",
   "mimetype": "text/x-python",
   "name": "python",
   "nbconvert_exporter": "python",
   "pygments_lexer": "ipython3",
   "version": "3.10.5"
  },
  "orig_nbformat": 4,
  "vscode": {
   "interpreter": {
    "hash": "9f0d103aebe82dfbb47ec724a2ca4fd3dcb0c9038207abb072b7913218171667"
   }
  }
 },
 "nbformat": 4,
 "nbformat_minor": 2
}
