{
 "cells": [
  {
   "cell_type": "markdown",
   "metadata": {},
   "source": [
    "Gere uma distribuição normal aleatória com de ordem 20 x 5, com média 10 e desvio padrão 3. Armazene o resultado em uma variável. Em seguida crie um DataFrame a partir dos dados criados."
   ]
  },
  {
   "cell_type": "code",
   "execution_count": null,
   "metadata": {},
   "outputs": [],
   "source": [
    "from numpy import random\n",
    "import pandas as pd\n",
    "\n",
    "media = 10\n",
    "desvio_padrao = 3\n",
    "data = random.normal(loc = media, scale = desvio_padrao, size = (20, 5))\n",
    "df = pd.DataFrame(data, columns = list('ABCDE'), index = range(1, data.shape[0]+1))\n",
    "\n",
    "print(df)"
   ]
  }
 ],
 "metadata": {
  "kernelspec": {
   "display_name": "Python 3.10.5 64-bit",
   "language": "python",
   "name": "python3"
  },
  "language_info": {
   "name": "python",
   "version": "3.10.5"
  },
  "orig_nbformat": 4,
  "vscode": {
   "interpreter": {
    "hash": "9f0d103aebe82dfbb47ec724a2ca4fd3dcb0c9038207abb072b7913218171667"
   }
  }
 },
 "nbformat": 4,
 "nbformat_minor": 2
}
