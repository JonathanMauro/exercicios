{
 "cells": [
  {
   "cell_type": "markdown",
   "metadata": {},
   "source": [
    "Utilize a função np.random.rand() para gerar um array 10 x 5. Lembre que esta função gera por padrão números aleatórios de acordo com uma distribuição uniforme no intervalo [0,1). Em seguida mostre na tela a média, desvio padrão e mediana do array gerado."
   ]
  },
  {
   "cell_type": "code",
   "execution_count": 4,
   "metadata": {},
   "outputs": [],
   "source": [
    "from numpy import random"
   ]
  },
  {
   "cell_type": "code",
   "execution_count": 5,
   "metadata": {},
   "outputs": [
    {
     "name": "stdout",
     "output_type": "stream",
     "text": [
      "Média: 0.46\n",
      "Desvio padrão: 0.25\n",
      "Mediana: 0.51\n"
     ]
    }
   ],
   "source": [
    "array = random.rand(10,5)\n",
    "media = array.mean().round(2)\n",
    "desvio_padrao = array.std().round(2)\n",
    "mediana = np.median(array).round(2)\n",
    "print(f'Média: {media}')\n",
    "print(f'Desvio padrão: {desvio_padrao}')\n",
    "print(f'Mediana: {mediana}')"
   ]
  }
 ],
 "metadata": {
  "kernelspec": {
   "display_name": "Python 3.10.5 64-bit",
   "language": "python",
   "name": "python3"
  },
  "language_info": {
   "codemirror_mode": {
    "name": "ipython",
    "version": 3
   },
   "file_extension": ".py",
   "mimetype": "text/x-python",
   "name": "python",
   "nbconvert_exporter": "python",
   "pygments_lexer": "ipython3",
   "version": "3.10.5"
  },
  "orig_nbformat": 4,
  "vscode": {
   "interpreter": {
    "hash": "9f0d103aebe82dfbb47ec724a2ca4fd3dcb0c9038207abb072b7913218171667"
   }
  }
 },
 "nbformat": 4,
 "nbformat_minor": 2
}
