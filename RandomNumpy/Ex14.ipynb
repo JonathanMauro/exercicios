{
 "cells": [
  {
   "cell_type": "markdown",
   "metadata": {},
   "source": [
    "A distribuição de Poisson é uma distribuição discreta de probabilidade. Esta distribuição descreve quantas vezes um determinado evento pode ocorrer em um tempo especificado. A biblioteca NumPy permite gerar números aleatórios desta distribuição com a função np.random.poisson(). Gere uma distribuição aleatória de shape 50 x 3, com número conhecido de ocorrências igual a 5."
   ]
  },
  {
   "cell_type": "code",
   "execution_count": 1,
   "metadata": {},
   "outputs": [],
   "source": [
    "import numpy as np"
   ]
  },
  {
   "cell_type": "code",
   "execution_count": 3,
   "metadata": {},
   "outputs": [
    {
     "data": {
      "text/plain": [
       "array([[ 4,  4,  6],\n",
       "       [ 7,  7,  8],\n",
       "       [ 3,  7, 11],\n",
       "       [ 6,  8,  7],\n",
       "       [ 7,  3,  4],\n",
       "       [ 6,  6,  5],\n",
       "       [ 3,  2, 11],\n",
       "       [ 1,  5,  7],\n",
       "       [ 4,  2,  6],\n",
       "       [ 6,  8,  6],\n",
       "       [ 1,  8,  6],\n",
       "       [ 7,  5,  3],\n",
       "       [ 2,  6,  5],\n",
       "       [ 4,  6,  2],\n",
       "       [ 6,  5,  0],\n",
       "       [ 5,  7,  7],\n",
       "       [ 2,  2,  7],\n",
       "       [10,  6,  9],\n",
       "       [ 7,  8,  2],\n",
       "       [ 6,  3,  9],\n",
       "       [ 2,  5,  6],\n",
       "       [ 2,  4,  1],\n",
       "       [ 8,  6,  3],\n",
       "       [ 2,  7,  1],\n",
       "       [ 5,  6,  3],\n",
       "       [11,  4,  5],\n",
       "       [ 4,  5,  6],\n",
       "       [ 5, 13,  5],\n",
       "       [ 5,  5,  4],\n",
       "       [ 8,  1,  2],\n",
       "       [ 2,  9,  5],\n",
       "       [ 4,  7,  7],\n",
       "       [ 8,  5,  4],\n",
       "       [ 4,  4,  5],\n",
       "       [ 4,  4,  6],\n",
       "       [ 5,  5,  7],\n",
       "       [ 1,  7,  1],\n",
       "       [ 4,  4,  2],\n",
       "       [ 5,  2,  7],\n",
       "       [ 8,  2, 13],\n",
       "       [ 4,  3,  4],\n",
       "       [ 5,  5,  2],\n",
       "       [ 7,  6,  4],\n",
       "       [ 5,  5,  4],\n",
       "       [ 6,  3,  3],\n",
       "       [ 4,  5,  5],\n",
       "       [ 8,  4,  3],\n",
       "       [ 6,  2,  6],\n",
       "       [ 8,  6,  3],\n",
       "       [ 9,  5,  2]])"
      ]
     },
     "execution_count": 3,
     "metadata": {},
     "output_type": "execute_result"
    }
   ],
   "source": [
    "array = np.random.poisson(lam = 5, size = (50,3))\n",
    "array"
   ]
  }
 ],
 "metadata": {
  "kernelspec": {
   "display_name": "Python 3.10.5 64-bit",
   "language": "python",
   "name": "python3"
  },
  "language_info": {
   "codemirror_mode": {
    "name": "ipython",
    "version": 3
   },
   "file_extension": ".py",
   "mimetype": "text/x-python",
   "name": "python",
   "nbconvert_exporter": "python",
   "pygments_lexer": "ipython3",
   "version": "3.10.5"
  },
  "orig_nbformat": 4,
  "vscode": {
   "interpreter": {
    "hash": "9f0d103aebe82dfbb47ec724a2ca4fd3dcb0c9038207abb072b7913218171667"
   }
  }
 },
 "nbformat": 4,
 "nbformat_minor": 2
}
