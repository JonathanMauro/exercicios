{
 "cells": [
  {
   "cell_type": "markdown",
   "metadata": {},
   "source": [
    "Resolva os sistemas lineares a seguir. Utilize o método np.linalg.solve().\n",
    "\n",
    "https://prnt.sc/YkPdze11ZWqo"
   ]
  },
  {
   "cell_type": "code",
   "execution_count": 2,
   "metadata": {},
   "outputs": [
    {
     "name": "stdout",
     "output_type": "stream",
     "text": [
      "[[ 6.]\n",
      " [-2.]]\n",
      "[[2.]\n",
      " [3.]]\n"
     ]
    }
   ],
   "source": [
    "import numpy as np\n",
    "#a)\n",
    "A = np.array([[2,3],[1,-1]])\n",
    "B = np.array([[6],[8]])\n",
    "solucao1 = np.linalg.solve(A,B)\n",
    "print(solucao1)\n",
    "#b)\n",
    " \n",
    "A = np.array([[3,1],[1,2]])\n",
    "B = np.array([[9],[8]])\n",
    "solucao2 = np.linalg.solve(A,B)\n",
    "print(solucao2)"
   ]
  }
 ],
 "metadata": {
  "kernelspec": {
   "display_name": "Python 3.10.5 64-bit",
   "language": "python",
   "name": "python3"
  },
  "language_info": {
   "codemirror_mode": {
    "name": "ipython",
    "version": 3
   },
   "file_extension": ".py",
   "mimetype": "text/x-python",
   "name": "python",
   "nbconvert_exporter": "python",
   "pygments_lexer": "ipython3",
   "version": "3.10.5"
  },
  "orig_nbformat": 4,
  "vscode": {
   "interpreter": {
    "hash": "9f0d103aebe82dfbb47ec724a2ca4fd3dcb0c9038207abb072b7913218171667"
   }
  }
 },
 "nbformat": 4,
 "nbformat_minor": 2
}
