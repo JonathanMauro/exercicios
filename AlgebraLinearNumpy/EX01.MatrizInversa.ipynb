{
 "cells": [
  {
   "cell_type": "markdown",
   "metadata": {},
   "source": [
    "Encontre a inversa das matrizes abaixo. Use o método np.linalg.inv().\n",
    "\n",
    "A = [[1 2]\n",
    " \n",
    " [3 4]]\n",
    "\n",
    "B =[[-1  3]\n",
    " \n",
    " [ 5  4]]"
   ]
  },
  {
   "cell_type": "code",
   "execution_count": 3,
   "metadata": {},
   "outputs": [
    {
     "name": "stdout",
     "output_type": "stream",
     "text": [
      "[[-2.   1. ]\n",
      " [ 1.5 -0.5]]\n",
      "[[-0.21052632  0.15789474]\n",
      " [ 0.26315789  0.05263158]]\n"
     ]
    }
   ],
   "source": [
    "import numpy as np\n",
    "\n",
    "A = np.array([[1, 2], [3, 4]])\n",
    "B = np.array([[-1, 3], [5, 4]])\n",
    "\n",
    "invA = np.linalg.inv(A)\n",
    "invB = np.linalg.inv(B)\n",
    "\n",
    "\n",
    "print(invA)\n",
    "print(invB)"
   ]
  }
 ],
 "metadata": {
  "kernelspec": {
   "display_name": "Python 3.10.5 64-bit",
   "language": "python",
   "name": "python3"
  },
  "language_info": {
   "codemirror_mode": {
    "name": "ipython",
    "version": 3
   },
   "file_extension": ".py",
   "mimetype": "text/x-python",
   "name": "python",
   "nbconvert_exporter": "python",
   "pygments_lexer": "ipython3",
   "version": "3.10.5"
  },
  "orig_nbformat": 4,
  "vscode": {
   "interpreter": {
    "hash": "9f0d103aebe82dfbb47ec724a2ca4fd3dcb0c9038207abb072b7913218171667"
   }
  }
 },
 "nbformat": 4,
 "nbformat_minor": 2
}
