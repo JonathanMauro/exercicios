{
 "cells": [
  {
   "cell_type": "markdown",
   "metadata": {},
   "source": [
    "Obtenha o posto (ou rank) da matriz K. Use o método np.linalg.matrix_rank().\n",
    "\n",
    "https://prnt.sc/UEyHjGtKjejV\n",
    "\n",
    "\n",
    "\n",
    "\n",
    "Para mais informações: https://pt.wikipedia.org/wiki/Posto_matricial.\n",
    "\n",
    "Este exercício é uma adaptção de BOLDRINI, J. et al. Álgebra Linear. São Paulo: Harbra, 1986."
   ]
  },
  {
   "cell_type": "code",
   "execution_count": null,
   "metadata": {},
   "outputs": [],
   "source": [
    "import numpy as np\n",
    "A = np.array([[2,-1,3],[1,4,2],[1,-5,1],[4,16,8]])\n",
    "A_posto = np.linalg.matrix_rank(A)\n",
    "print(A_posto)"
   ]
  }
 ],
 "metadata": {
  "kernelspec": {
   "display_name": "Python 3.10.5 64-bit",
   "language": "python",
   "name": "python3"
  },
  "language_info": {
   "name": "python",
   "version": "3.10.5"
  },
  "orig_nbformat": 4,
  "vscode": {
   "interpreter": {
    "hash": "9f0d103aebe82dfbb47ec724a2ca4fd3dcb0c9038207abb072b7913218171667"
   }
  }
 },
 "nbformat": 4,
 "nbformat_minor": 2
}
