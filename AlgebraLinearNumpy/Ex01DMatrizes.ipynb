{
 "cells": [
  {
   "cell_type": "markdown",
   "metadata": {},
   "source": [
    "Defina as matrizes abaixo utilizando o NumPy. Use o método np.array().\n",
    "\n",
    "\n",
    "A = [[ 1  2  3]\n",
    " [ 2  1 -1]]\n",
    "\n",
    " B =[[ 1 -2  0]\n",
    " [ 3  0  1]\n",
    " [ 4  5  6]]\n",
    "\n",
    " C =[[1 2 3]\n",
    " [4 5 6]\n",
    " [7 8 9]]\n",
    "\n",
    " D = [[ 1]\n",
    " [ 4]\n",
    " [-3]]"
   ]
  },
  {
   "cell_type": "code",
   "execution_count": 4,
   "metadata": {},
   "outputs": [
    {
     "name": "stdout",
     "output_type": "stream",
     "text": [
      "A = [[ 1  2  3]\n",
      " [ 2  1 -1]]\n",
      "B = [[ 1 -2  0]\n",
      " [ 3  0  1]\n",
      " [ 4  5  6]]\n",
      "C = [[1 2 3]\n",
      " [4 5 6]\n",
      " [7 8 9]]\n",
      "D = [[ 1]\n",
      " [ 4]\n",
      " [-3]]\n"
     ]
    }
   ],
   "source": [
    "import numpy as np\n",
    "A = np.array([[1,2,3],[2,1,-1]])\n",
    "B = np.array([[1,-2,0],[3,0,1],[4,5,6]])\n",
    "C = np.array(range(1,10)).reshape(3,3)\n",
    "D = np.array([[1],[4],[-3]])\n",
    "print('A = {}'.format(A))\n",
    "print('B = {}'.format(B))\n",
    "print('C = {}'.format(C))\n",
    "print('D = {}'.format(D))\n"
   ]
  }
 ],
 "metadata": {
  "kernelspec": {
   "display_name": "Python 3.10.5 64-bit",
   "language": "python",
   "name": "python3"
  },
  "language_info": {
   "codemirror_mode": {
    "name": "ipython",
    "version": 3
   },
   "file_extension": ".py",
   "mimetype": "text/x-python",
   "name": "python",
   "nbconvert_exporter": "python",
   "pygments_lexer": "ipython3",
   "version": "3.10.5"
  },
  "orig_nbformat": 4,
  "vscode": {
   "interpreter": {
    "hash": "9f0d103aebe82dfbb47ec724a2ca4fd3dcb0c9038207abb072b7913218171667"
   }
  }
 },
 "nbformat": 4,
 "nbformat_minor": 2
}
