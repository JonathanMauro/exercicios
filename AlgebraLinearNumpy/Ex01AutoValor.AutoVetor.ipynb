{
 "cells": [
  {
   "cell_type": "markdown",
   "metadata": {},
   "source": [
    "Calcule os autovalores associadoas a matriz A. Utilize o método np.linalg.eigvals().\n",
    "\n",
    "https://prnt.sc/Fe0yXpr4AQqC\n",
    "\n",
    "\n",
    "Adaptado de : STEINBRUCH, A.; WINTERLE, P. Álgebra Linear. São Paulo: McGraw-Hill, 1987."
   ]
  },
  {
   "cell_type": "code",
   "execution_count": null,
   "metadata": {},
   "outputs": [],
   "source": [
    "import numpy as np\n",
    "A = np.array([[1,3],[-1,5]])\n",
    "\n",
    "autovalores = np.linalg.eigvals(A)\n",
    "\n",
    "print(autovalores)"
   ]
  }
 ],
 "metadata": {
  "kernelspec": {
   "display_name": "Python 3.10.5 64-bit",
   "language": "python",
   "name": "python3"
  },
  "language_info": {
   "name": "python",
   "version": "3.10.5"
  },
  "orig_nbformat": 4,
  "vscode": {
   "interpreter": {
    "hash": "9f0d103aebe82dfbb47ec724a2ca4fd3dcb0c9038207abb072b7913218171667"
   }
  }
 },
 "nbformat": 4,
 "nbformat_minor": 2
}
