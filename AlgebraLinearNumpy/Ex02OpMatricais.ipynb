{
 "cells": [
  {
   "cell_type": "markdown",
   "metadata": {},
   "source": [
    "Para as matrizes a seguir,\n",
    "\n",
    "A = [[10 11]\n",
    "\n",
    " [ 5  1]\n",
    "\n",
    " [-2  4]]\n",
    "\n",
    "B =  [[  1  25]\n",
    " [  3   4]\n",
    " [  0 -10]]\n",
    "\n",
    "C = [[7 3]\n",
    " [6 1]\n",
    " [0 0]]\n",
    " \n",
    "Verifique as propriedades  da adição de matrizes:\n",
    "° A + B = B + A (comutatividade)\n",
    "\n",
    "° A + (B + C) = (A + B) + C (associatividade)\n",
    "\n",
    "° A + 0 = A, em que 0 denota a matriz nula de ordem mxn "
   ]
  },
  {
   "cell_type": "code",
   "execution_count": 9,
   "metadata": {},
   "outputs": [
    {
     "name": "stdout",
     "output_type": "stream",
     "text": [
      "A + B = B + A (comutatividade)\n",
      "[[ True  True]\n",
      " [ True  True]\n",
      " [ True  True]]\n",
      "\n",
      "A + (B + C) = (A + B) + C (associatividade)\n",
      "[[ True  True]\n",
      " [ True  True]\n",
      " [ True  True]]\n",
      "\n",
      "A + 0 = A, em que 0 denota a matriz nula de ordem mxn \n",
      "[[ True  True]\n",
      " [ True  True]\n",
      " [ True  True]]\n"
     ]
    }
   ],
   "source": [
    "import numpy as np\n",
    "\n",
    "A = np.array([[10,11],[5,1],[-2,4]])\n",
    "B = np.array([[1,25],[3,4],[0,-10]])\n",
    "C = np.array([[7,3],[6,1],[0,0]])\n",
    "zeros = np.zeros(shape=(3,2))\n",
    "\n",
    "print('A + B = B + A (comutatividade)')\n",
    "print(A + B == B + A)\n",
    "print()\n",
    "print('A + (B + C) = (A + B) + C (associatividade)')\n",
    "\n",
    "print((A+(B+C))==((A+B)+C))\n",
    "print()\n",
    "print('A + 0 = A, em que 0 denota a matriz nula de ordem mxn ')\n",
    "print(A+zeros==A)"
   ]
  }
 ],
 "metadata": {
  "kernelspec": {
   "display_name": "Python 3.10.5 64-bit",
   "language": "python",
   "name": "python3"
  },
  "language_info": {
   "codemirror_mode": {
    "name": "ipython",
    "version": 3
   },
   "file_extension": ".py",
   "mimetype": "text/x-python",
   "name": "python",
   "nbconvert_exporter": "python",
   "pygments_lexer": "ipython3",
   "version": "3.10.5"
  },
  "orig_nbformat": 4,
  "vscode": {
   "interpreter": {
    "hash": "9f0d103aebe82dfbb47ec724a2ca4fd3dcb0c9038207abb072b7913218171667"
   }
  }
 },
 "nbformat": 4,
 "nbformat_minor": 2
}
