{
 "cells": [
  {
   "cell_type": "markdown",
   "metadata": {},
   "source": [
    "Dadas as matrizes A e B, calcule:\n",
    "\n",
    "detA+detB\n",
    "\n",
    "det(A+B)\n",
    "\n",
    "A  = [[1 2]\n",
    "\n",
    " [1 0]]\n",
    "\n",
    "B = [[ 3 -1]\n",
    "\n",
    " [ 0  1]]\n",
    " \n",
    "Este exercício é uma adaptção de BOLDRINI, J. et al. Álgebra Linear. São Paulo: Harbra, 1986."
   ]
  },
  {
   "cell_type": "code",
   "execution_count": 4,
   "metadata": {},
   "outputs": [
    {
     "name": "stdout",
     "output_type": "stream",
     "text": [
      "detA + detB = 1.0\n",
      "det(A+B) = 3.0\n"
     ]
    }
   ],
   "source": [
    "import numpy as np\n",
    "\n",
    "A = np.array([[1, 2], [1, 0]])\n",
    "B = np.array([[3, -1], [0, 1]])\n",
    "#A)\n",
    "det_A = np.linalg.det(A).round()\n",
    "det_B = np.linalg.det(B).round()\n",
    "\n",
    "print('detA + detB = {}'.format(det_A + det_B))\n",
    "#B)\n",
    "soma = A + B\n",
    "det_soma = np.linalg.det(soma).round()\n",
    "\n",
    "print('det(A+B) = {}'.format(det_soma))"
   ]
  }
 ],
 "metadata": {
  "kernelspec": {
   "display_name": "Python 3.10.5 64-bit",
   "language": "python",
   "name": "python3"
  },
  "language_info": {
   "codemirror_mode": {
    "name": "ipython",
    "version": 3
   },
   "file_extension": ".py",
   "mimetype": "text/x-python",
   "name": "python",
   "nbconvert_exporter": "python",
   "pygments_lexer": "ipython3",
   "version": "3.10.5"
  },
  "orig_nbformat": 4,
  "vscode": {
   "interpreter": {
    "hash": "9f0d103aebe82dfbb47ec724a2ca4fd3dcb0c9038207abb072b7913218171667"
   }
  }
 },
 "nbformat": 4,
 "nbformat_minor": 2
}
