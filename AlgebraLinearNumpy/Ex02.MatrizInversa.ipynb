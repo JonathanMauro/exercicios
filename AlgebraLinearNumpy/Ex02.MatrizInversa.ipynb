{
 "cells": [
  {
   "cell_type": "markdown",
   "metadata": {},
   "source": [
    "Encontre a inversa da matriz A:\n",
    "\n",
    "A = [[ 4 -1  2 -2]\n",
    "\n",
    " [ 3 -1  0  0]\n",
    "\n",
    " [ 2  3  1  0]\n",
    " \n",
    " [ 0  7  1  1]]\n",
    "\n",
    "\n",
    "Este exercício é uma adaptção de BOLDRINI, J. et al. Álgebra Linear. São Paulo: Harbra, 1986."
   ]
  },
  {
   "cell_type": "code",
   "execution_count": 2,
   "metadata": {},
   "outputs": [
    {
     "name": "stdout",
     "output_type": "stream",
     "text": [
      "[[ -1.  -1.   4.  -2.]\n",
      " [ -3.  -4.  12.  -6.]\n",
      " [ 11.  14. -43.  22.]\n",
      " [ 10.  14. -41.  21.]]\n"
     ]
    }
   ],
   "source": [
    "import numpy as np\n",
    "A = np.array([[4,-1,2,-2],[3,-1,0,0],[2,3,1,0],[0,7,1,1]])\n",
    "\n",
    "invA = np.linalg.inv(A)\n",
    "print(invA)"
   ]
  }
 ],
 "metadata": {
  "kernelspec": {
   "display_name": "Python 3.10.5 64-bit",
   "language": "python",
   "name": "python3"
  },
  "language_info": {
   "codemirror_mode": {
    "name": "ipython",
    "version": 3
   },
   "file_extension": ".py",
   "mimetype": "text/x-python",
   "name": "python",
   "nbconvert_exporter": "python",
   "pygments_lexer": "ipython3",
   "version": "3.10.5"
  },
  "orig_nbformat": 4,
  "vscode": {
   "interpreter": {
    "hash": "9f0d103aebe82dfbb47ec724a2ca4fd3dcb0c9038207abb072b7913218171667"
   }
  }
 },
 "nbformat": 4,
 "nbformat_minor": 2
}
