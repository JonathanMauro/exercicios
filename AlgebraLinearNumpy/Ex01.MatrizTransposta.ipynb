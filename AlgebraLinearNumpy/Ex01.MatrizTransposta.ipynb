{
 "cells": [
  {
   "cell_type": "markdown",
   "metadata": {},
   "source": [
    "Podemos obter a transposta de uma matriz permutando as linhas pelas colunas de mesmo índice(ou seja, o que é linha se transforma em coluna e o que é coluna se transforma em linha). Obtenha a Matriz transposta das matrizes a seguir:\n",
    "\n",
    "A =[[ 1 -3  2]\n",
    " \n",
    " [ 2  1 -3]\n",
    " \n",
    " [ 4 -3 -1]]\n",
    "\n",
    "B =[[ 1  0  4]\n",
    " \n",
    " [-7  5  5]\n",
    " \n",
    " [25  9 11]]\n",
    "\n",
    "\n",
    "\n",
    "Exemplo: Seja a matriz A definida a seguir, podemos obter sua transposta da seguinte forma:\n",
    "\n",
    "A =[[ 1 -2]\n",
    "\n",
    " [ 7  4]\n",
    "\n",
    " [20 10]]\n",
    "\n",
    "A° =[[ 1  7 20]\n",
    " \n",
    " [-2  4 10]]\n",
    "\n"
   ]
  },
  {
   "cell_type": "code",
   "execution_count": 2,
   "metadata": {},
   "outputs": [
    {
     "name": "stdout",
     "output_type": "stream",
     "text": [
      "[[ 1  2  4]\n",
      " [-3  1 -3]\n",
      " [ 2 -3 -1]] Transposta de A\n",
      "[[ 1 -7 25]\n",
      " [ 0  5  9]\n",
      " [ 4  5 11]] Transposta de B\n"
     ]
    }
   ],
   "source": [
    "import numpy as np\n",
    "\n",
    "A = np.array([[1, -3 ,2], [2, 1, -3], [4, -3, -1]])\n",
    "B = np.array([[1, 0, 4], [-7, 5, 5], [25, 9, 11]])\n",
    "\n",
    "\n",
    "print(A.T,'Transposta de A')  #podemos ainda fazer: A.transpose()\n",
    "print(B.transpose(),'Transposta de B')      "
   ]
  }
 ],
 "metadata": {
  "kernelspec": {
   "display_name": "Python 3.10.5 64-bit",
   "language": "python",
   "name": "python3"
  },
  "language_info": {
   "codemirror_mode": {
    "name": "ipython",
    "version": 3
   },
   "file_extension": ".py",
   "mimetype": "text/x-python",
   "name": "python",
   "nbconvert_exporter": "python",
   "pygments_lexer": "ipython3",
   "version": "3.10.5"
  },
  "orig_nbformat": 4,
  "vscode": {
   "interpreter": {
    "hash": "9f0d103aebe82dfbb47ec724a2ca4fd3dcb0c9038207abb072b7913218171667"
   }
  }
 },
 "nbformat": 4,
 "nbformat_minor": 2
}
