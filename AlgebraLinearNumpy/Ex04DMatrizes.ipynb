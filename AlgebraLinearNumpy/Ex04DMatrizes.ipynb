{
 "cells": [
  {
   "cell_type": "markdown",
   "metadata": {},
   "source": [
    "Defina a matrizes triangulares abaixo utilizando o NumPy. Use os métodos np.triu() e np.tril().\n",
    "\n",
    "A = [[1 2 3]\n",
    "\n",
    " [0 5 6]\n",
    " \n",
    " [0 0 9]]\n",
    "\n",
    "B = [[1 0 0]\n",
    "\n",
    " [4 5 0]\n",
    "\n",
    " [7 8 9]]\n",
    "\n",
    "C = [[100 101 102 103 104]\n",
    "\n",
    " [  0 106 107 108 109]\n",
    "\n",
    " [  0   0 112 113 114]\n",
    "\n",
    " [  0   0   0 118 119]\n",
    "\n",
    " [  0   0   0   0 124]]"
   ]
  },
  {
   "cell_type": "code",
   "execution_count": 4,
   "metadata": {},
   "outputs": [
    {
     "name": "stdout",
     "output_type": "stream",
     "text": [
      "A = [[1 2 3]\n",
      " [0 5 6]\n",
      " [0 0 9]]\n",
      "\n",
      "B = [[1 0 0]\n",
      " [4 5 0]\n",
      " [7 8 9]]\n",
      "\n",
      "C = [[100 101 102 103 104]\n",
      " [  0 106 107 108 109]\n",
      " [  0   0 112 113 114]\n",
      " [  0   0   0 118 119]\n",
      " [  0   0   0   0 124]]\n"
     ]
    }
   ],
   "source": [
    "import numpy as np\n",
    "\n",
    "A = np.triu(np.arange(1,10).reshape(3,3),k=0)\n",
    "B = np.tril(np.arange(1,10).reshape(3,3),k=0)\n",
    "C = np.triu(np.arange(100,125).reshape(5,5))\n",
    "\n",
    "print('A = {}'.format(A))\n",
    "print()\n",
    "print('B = {}'.format(B))\n",
    "print()\n",
    "print('C = {}'.format(C))\n"
   ]
  }
 ],
 "metadata": {
  "kernelspec": {
   "display_name": "Python 3.10.5 64-bit",
   "language": "python",
   "name": "python3"
  },
  "language_info": {
   "codemirror_mode": {
    "name": "ipython",
    "version": 3
   },
   "file_extension": ".py",
   "mimetype": "text/x-python",
   "name": "python",
   "nbconvert_exporter": "python",
   "pygments_lexer": "ipython3",
   "version": "3.10.5"
  },
  "orig_nbformat": 4,
  "vscode": {
   "interpreter": {
    "hash": "9f0d103aebe82dfbb47ec724a2ca4fd3dcb0c9038207abb072b7913218171667"
   }
  }
 },
 "nbformat": 4,
 "nbformat_minor": 2
}
