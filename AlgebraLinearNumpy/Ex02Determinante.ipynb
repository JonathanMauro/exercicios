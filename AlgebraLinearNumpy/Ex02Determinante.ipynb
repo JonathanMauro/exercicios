{
 "cells": [
  {
   "cell_type": "markdown",
   "metadata": {},
   "source": [
    "Obtenha o determinante das matrizes a seguir. Utilize o método np.linalg.det().\n",
    "\n",
    "A = [[ 3  1  4]\n",
    "\n",
    " [10  7  5]\n",
    "\n",
    " [ 1  4  4]]\n",
    "\n",
    "B = [[1. 0. 0.]\n",
    "\n",
    " [0. 1. 0.]\n",
    " \n",
    " [0. 0. 1.]]\n",
    "\n",
    "C = [[ 5  0  0]\n",
    "\n",
    " [ 0 10  0]\n",
    "\n",
    " [ 0  0  2]]\n",
    "\n",
    "D = [[ 3  0  0  0]\n",
    "\n",
    " [ 0  7  0  0]\n",
    "\n",
    " [ 0  0 11  0]\n",
    "\n",
    " [ 0  0  0  2]]\n",
    "\n",
    "E = [[ 5  0 13 12]\n",
    "\n",
    " [ 1 -1 25  7]\n",
    "\n",
    " [ 6  2  1 20]\n",
    " \n",
    " [11  4  0 -9]]"
   ]
  },
  {
   "cell_type": "code",
   "execution_count": 7,
   "metadata": {},
   "outputs": [
    {
     "name": "stdout",
     "output_type": "stream",
     "text": [
      "121.0\n",
      "\n",
      "1.0\n",
      "\n",
      "100.0\n",
      "\n",
      "462.0\n",
      "\n",
      "7081.0\n"
     ]
    }
   ],
   "source": [
    "\n",
    "import numpy as np\n",
    "\n",
    "A = np.array([[3, 1, 4], [10, 7, 5], [1, 4, 4]])\n",
    "B = np.eye(3)\n",
    "C = np.diag([5,10,2])\n",
    "D = np.diag([3, 7, 11, 2])\n",
    "E = np.array([[5, 0, 13, 12], [1, -1, 25, 7], [6, 2, 1, 20], [11, 4, 0, -9]])\n",
    "\n",
    "det_A = np.linalg.det(A).round()\n",
    "det_B = np.linalg.det(B).round()\n",
    "det_C = np.linalg.det(C).round()\n",
    "det_D = np.linalg.det(D).round()\n",
    "det_E = np.linalg.det(E).round()\n",
    "\n",
    "print(det_A)\n",
    "print()\n",
    "print(det_B)\n",
    "print()\n",
    "print(det_C)\n",
    "print()\n",
    "print(det_D)\n",
    "print()\n",
    "print(det_E)"
   ]
  }
 ],
 "metadata": {
  "kernelspec": {
   "display_name": "Python 3.10.5 64-bit",
   "language": "python",
   "name": "python3"
  },
  "language_info": {
   "codemirror_mode": {
    "name": "ipython",
    "version": 3
   },
   "file_extension": ".py",
   "mimetype": "text/x-python",
   "name": "python",
   "nbconvert_exporter": "python",
   "pygments_lexer": "ipython3",
   "version": "3.10.5"
  },
  "orig_nbformat": 4,
  "vscode": {
   "interpreter": {
    "hash": "9f0d103aebe82dfbb47ec724a2ca4fd3dcb0c9038207abb072b7913218171667"
   }
  }
 },
 "nbformat": 4,
 "nbformat_minor": 2
}
