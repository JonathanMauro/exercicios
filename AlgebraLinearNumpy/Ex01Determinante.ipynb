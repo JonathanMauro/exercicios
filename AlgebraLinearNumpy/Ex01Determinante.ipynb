{
 "cells": [
  {
   "cell_type": "markdown",
   "metadata": {},
   "source": [
    "Obtenha o determinante das matrizes a seguir. Utilize o método np.linalg.det().\n",
    "\n",
    "A = [[5]]\n",
    "\n",
    "B = [[1 2]\n",
    "\n",
    " [3 4]]\n",
    "\n",
    " C = [[-3 -8]\n",
    "\n",
    " [-5 -8]]\n",
    "\n",
    " D = [[1. 0.]\n",
    " \n",
    " [0. 1.]]"
   ]
  },
  {
   "cell_type": "code",
   "execution_count": 8,
   "metadata": {},
   "outputs": [
    {
     "name": "stdout",
     "output_type": "stream",
     "text": [
      "5.0\n"
     ]
    }
   ],
   "source": [
    "import numpy as np\n",
    "\n",
    "A = np.array([[5]])\n",
    "B = np.array([[1, 2], [3, 4]])\n",
    "C = np.array([[-3, -8],[-5, -8]])\n",
    "D = np.eye(2)\n",
    "\n",
    "det_A = np.linalg.det(A).round()\n",
    "det_B = np.linalg.det(B).round()\n",
    "det_C = np.linalg.det(C).round()\n",
    "det_D = np.linalg.det(D).round()\n",
    "\n",
    "print(det_A)\n",
    "print(det_B)\n",
    "print(det_C)\n",
    "print(det_D)"
   ]
  }
 ],
 "metadata": {
  "kernelspec": {
   "display_name": "Python 3.10.5 64-bit",
   "language": "python",
   "name": "python3"
  },
  "language_info": {
   "codemirror_mode": {
    "name": "ipython",
    "version": 3
   },
   "file_extension": ".py",
   "mimetype": "text/x-python",
   "name": "python",
   "nbconvert_exporter": "python",
   "pygments_lexer": "ipython3",
   "version": "3.10.5"
  },
  "orig_nbformat": 4,
  "vscode": {
   "interpreter": {
    "hash": "9f0d103aebe82dfbb47ec724a2ca4fd3dcb0c9038207abb072b7913218171667"
   }
  }
 },
 "nbformat": 4,
 "nbformat_minor": 2
}
