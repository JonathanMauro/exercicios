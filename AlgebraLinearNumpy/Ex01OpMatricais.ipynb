{
 "cells": [
  {
   "cell_type": "markdown",
   "metadata": {},
   "source": [
    "Defina as matrizes A e B dadas a seguir e obtenha A+B.\n",
    "\n",
    "A = [[10 11]\n",
    "\n",
    " [ 5  1]\n",
    "\n",
    " [-2  4]]\n",
    "\n",
    "B = [[  1  25]\n",
    "\n",
    " [  3   4]\n",
    "\n",
    " [  0 -10]]"
   ]
  },
  {
   "cell_type": "code",
   "execution_count": 2,
   "metadata": {},
   "outputs": [
    {
     "name": "stdout",
     "output_type": "stream",
     "text": [
      "[[11 36]\n",
      " [ 8  5]\n",
      " [-2 -6]]\n"
     ]
    }
   ],
   "source": [
    "import numpy as np\n",
    "A = np.array([[10,11],[5,1],[-2,4]])\n",
    "B = np.array([[1,25],[3,4],[0,-10]])\n",
    "soma = A+B\n",
    "print(soma)\n"
   ]
  }
 ],
 "metadata": {
  "kernelspec": {
   "display_name": "Python 3.10.5 64-bit",
   "language": "python",
   "name": "python3"
  },
  "language_info": {
   "codemirror_mode": {
    "name": "ipython",
    "version": 3
   },
   "file_extension": ".py",
   "mimetype": "text/x-python",
   "name": "python",
   "nbconvert_exporter": "python",
   "pygments_lexer": "ipython3",
   "version": "3.10.5"
  },
  "orig_nbformat": 4,
  "vscode": {
   "interpreter": {
    "hash": "9f0d103aebe82dfbb47ec724a2ca4fd3dcb0c9038207abb072b7913218171667"
   }
  }
 },
 "nbformat": 4,
 "nbformat_minor": 2
}
