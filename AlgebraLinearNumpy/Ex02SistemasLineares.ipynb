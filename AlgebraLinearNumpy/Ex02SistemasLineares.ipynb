{
 "cells": [
  {
   "cell_type": "markdown",
   "metadata": {},
   "source": [
    "Resolva o sistema linear abaixo.\n",
    "\n",
    "https://prnt.sc/w3Cp1DlxGZMJ\n",
    "\n",
    "\n",
    "Adaptação de : STEINBRUCH, A.; WINTERLE, P. Álgebra Linear. São Paulo: McGraw-Hill, 1987."
   ]
  },
  {
   "cell_type": "code",
   "execution_count": 3,
   "metadata": {},
   "outputs": [
    {
     "name": "stdout",
     "output_type": "stream",
     "text": [
      "[[16.]\n",
      " [ 9.]\n",
      " [-8.]]\n"
     ]
    }
   ],
   "source": [
    "import numpy as np\n",
    "\n",
    "A = np.array([[1, 0, 3], [2, -4, 0], [3, 2, 5]])\n",
    "B = np.array([[-8], [-4], [26]])\n",
    "\n",
    "solucao = np.linalg.solve(A, B)\n",
    "print(solucao)"
   ]
  }
 ],
 "metadata": {
  "kernelspec": {
   "display_name": "Python 3.10.5 64-bit",
   "language": "python",
   "name": "python3"
  },
  "language_info": {
   "codemirror_mode": {
    "name": "ipython",
    "version": 3
   },
   "file_extension": ".py",
   "mimetype": "text/x-python",
   "name": "python",
   "nbconvert_exporter": "python",
   "pygments_lexer": "ipython3",
   "version": "3.10.5"
  },
  "orig_nbformat": 4,
  "vscode": {
   "interpreter": {
    "hash": "9f0d103aebe82dfbb47ec724a2ca4fd3dcb0c9038207abb072b7913218171667"
   }
  }
 },
 "nbformat": 4,
 "nbformat_minor": 2
}
