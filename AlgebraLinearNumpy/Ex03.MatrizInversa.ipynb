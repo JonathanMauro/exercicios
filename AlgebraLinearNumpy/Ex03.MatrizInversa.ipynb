{
 "cells": [
  {
   "cell_type": "markdown",
   "metadata": {},
   "source": [
    "Encontre a inversa da matriz A:\n",
    "\n",
    "A = [[ 7  0  0  0  0  0  0  0]\n",
    "\n",
    " [ 0  8  0  0  0  0  0  0]\n",
    "\n",
    " [ 0  0 11  0  0  0  0  0]\n",
    "\n",
    " [ 0  0  0  2  0  0  0  0]\n",
    "\n",
    " [ 0  0  0  0  4  0  0  0]\n",
    "\n",
    " [ 0  0  0  0  0  5  0  0]\n",
    "\n",
    " [ 0  0  0  0  0  0  1  0]\n",
    " \n",
    " [ 0  0  0  0  0  0  0  3]]"
   ]
  },
  {
   "cell_type": "code",
   "execution_count": 2,
   "metadata": {},
   "outputs": [
    {
     "name": "stdout",
     "output_type": "stream",
     "text": [
      "[[0.14285714 0.         0.         0.         0.         0.\n",
      "  0.         0.        ]\n",
      " [0.         0.125      0.         0.         0.         0.\n",
      "  0.         0.        ]\n",
      " [0.         0.         0.09090909 0.         0.         0.\n",
      "  0.         0.        ]\n",
      " [0.         0.         0.         0.5        0.         0.\n",
      "  0.         0.        ]\n",
      " [0.         0.         0.         0.         0.25       0.\n",
      "  0.         0.        ]\n",
      " [0.         0.         0.         0.         0.         0.2\n",
      "  0.         0.        ]\n",
      " [0.         0.         0.         0.         0.         0.\n",
      "  1.         0.        ]\n",
      " [0.         0.         0.         0.         0.         0.\n",
      "  0.         0.33333333]]\n"
     ]
    }
   ],
   "source": [
    "import numpy as np\n",
    "\n",
    "A = np.diag([7, 8, 11, 2, 4, 5, 1, 3])\n",
    "\n",
    "invA = np.linalg.inv(A)\n",
    "\n",
    "print(invA)"
   ]
  }
 ],
 "metadata": {
  "kernelspec": {
   "display_name": "Python 3.10.5 64-bit",
   "language": "python",
   "name": "python3"
  },
  "language_info": {
   "codemirror_mode": {
    "name": "ipython",
    "version": 3
   },
   "file_extension": ".py",
   "mimetype": "text/x-python",
   "name": "python",
   "nbconvert_exporter": "python",
   "pygments_lexer": "ipython3",
   "version": "3.10.5"
  },
  "orig_nbformat": 4,
  "vscode": {
   "interpreter": {
    "hash": "9f0d103aebe82dfbb47ec724a2ca4fd3dcb0c9038207abb072b7913218171667"
   }
  }
 },
 "nbformat": 4,
 "nbformat_minor": 2
}
