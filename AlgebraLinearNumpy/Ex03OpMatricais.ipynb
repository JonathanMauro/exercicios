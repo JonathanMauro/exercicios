{
 "cells": [
  {
   "cell_type": "markdown",
   "metadata": {},
   "source": [
    "Sejam as matrizes definidas a seguir, calculemos o que se pede na sequência.\n",
    "\n",
    "\n",
    "A =[[ 1  2  3]\n",
    " \n",
    " [ 2  1 -1]]\n",
    "\n",
    "B = [[-2  0  1]\n",
    " \n",
    " [ 3  0  1]]\n",
    "\n",
    "C =[[-1]\n",
    " \n",
    " [ 2]\n",
    " \n",
    " [ 4]]\n",
    "\n",
    "\n",
    "D = [ 2 -1]\n",
    "\n",
    "\n",
    "\n",
    "A+B\n",
    "\n",
    "A.C (multiplicação de matrizes)\n",
    "\n",
    "B.C\n",
    "\n",
    "C.D\n",
    "\n",
    "D.A\n",
    "\n",
    "D.B\n",
    "\n",
    "-A\n",
    "\n",
    "-D\n",
    "\n",
    "2A+3B\n",
    "\n",
    "Este exercício é uma adaptção de BOLDRINI, J. et al. Álgebra Linear. São Paulo: Harbra, 1986."
   ]
  },
  {
   "cell_type": "code",
   "execution_count": 6,
   "metadata": {},
   "outputs": [
    {
     "name": "stdout",
     "output_type": "stream",
     "text": [
      "A+B: [[-1  2  4]\n",
      " [ 5  1  0]]\n",
      "\n",
      "A.C [[15]\n",
      " [-4]]\n",
      "\n",
      "B.C [[6]\n",
      " [1]]\n",
      "\n",
      "C.D [[-2  1]\n",
      " [ 4 -2]\n",
      " [ 8 -4]]\n",
      "\n",
      "D.A [[0 3 7]]\n",
      "\n",
      "D.B [[-7  0  1]]\n",
      "\n",
      "-A [[-1 -2 -3]\n",
      " [-2 -1  1]]\n",
      "\n",
      "-D [[-2  1]]\n",
      "\n",
      "2A+3B: [[-4  4  9]\n",
      " [13  2  1]]\n",
      "\n"
     ]
    }
   ],
   "source": [
    "import numpy as np\n",
    "\n",
    "A = np.array([[1, 2, 3],[2, 1, -1]])\n",
    "B = np.array([[-2, 0, 1], [3, 0 ,1]])\n",
    "C = np.array([[-1], [2], [4]])\n",
    "D = np.array([[2, -1]])\n",
    "\n",
    "#1\n",
    "print('A+B:',A+B)\n",
    "print()\n",
    "#2\n",
    "print('A.C',A.dot(C))\n",
    "print()\n",
    "#3\n",
    "print('B.C',B.dot(C))\n",
    "print()\n",
    "#4\n",
    "print('C.D',C.dot(D))\n",
    "print()\n",
    "#5\n",
    "print('D.A',D.dot(A))\n",
    "print()\n",
    "#6\n",
    "print('D.B',D.dot(B))\n",
    "print()\n",
    "#7\n",
    "print('-A',(-1)*(A))\n",
    "print()\n",
    "#8\n",
    "print('-D',(-1)*D)\n",
    "print()\n",
    "#9\n",
    "print('2A+3B:',2*A+3*B)\n",
    "print()"
   ]
  }
 ],
 "metadata": {
  "kernelspec": {
   "display_name": "Python 3.10.5 64-bit",
   "language": "python",
   "name": "python3"
  },
  "language_info": {
   "codemirror_mode": {
    "name": "ipython",
    "version": 3
   },
   "file_extension": ".py",
   "mimetype": "text/x-python",
   "name": "python",
   "nbconvert_exporter": "python",
   "pygments_lexer": "ipython3",
   "version": "3.10.5"
  },
  "orig_nbformat": 4,
  "vscode": {
   "interpreter": {
    "hash": "9f0d103aebe82dfbb47ec724a2ca4fd3dcb0c9038207abb072b7913218171667"
   }
  }
 },
 "nbformat": 4,
 "nbformat_minor": 2
}
