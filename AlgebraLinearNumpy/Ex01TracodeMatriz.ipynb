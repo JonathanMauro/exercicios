{
 "cells": [
  {
   "cell_type": "markdown",
   "metadata": {},
   "source": [
    "Obtenha o traço das matrizes abaixo:\n",
    "\n",
    "\n",
    "\n",
    "https://prnt.sc/DS87Ic6PoLui\n",
    "\n",
    "\n",
    "Lembrete: o traço de uma matriz é definido como a soma dos elementos da sua diagonal principal. Desta forma, facilmente podemos dizer que o traço da matriz A é 5, da matriz B 16 e da matriz C 2. Use o método matrix.trace()."
   ]
  },
  {
   "cell_type": "code",
   "execution_count": 3,
   "metadata": {},
   "outputs": [
    {
     "name": "stdout",
     "output_type": "stream",
     "text": [
      "5\n",
      "16\n",
      "2\n"
     ]
    }
   ],
   "source": [
    "import numpy as np\n",
    "\n",
    "A = np.array([[1,2],[3,4]])\n",
    "B = np.array([[10,0,11],[-7,2,5],[45,78,4]])\n",
    "C = np.array([[4,2,11,14],[0,-9,1,3],[-3,4,5,8],[0,1,1,2]])\n",
    "\n",
    "A_trace = A.trace()\n",
    "B_trace = B.trace()\n",
    "C_trace = C.trace()\n",
    "\n",
    "print(A_trace)\n",
    "print(B_trace)\n",
    "print(C_trace)"
   ]
  }
 ],
 "metadata": {
  "kernelspec": {
   "display_name": "Python 3.10.5 64-bit",
   "language": "python",
   "name": "python3"
  },
  "language_info": {
   "codemirror_mode": {
    "name": "ipython",
    "version": 3
   },
   "file_extension": ".py",
   "mimetype": "text/x-python",
   "name": "python",
   "nbconvert_exporter": "python",
   "pygments_lexer": "ipython3",
   "version": "3.10.5"
  },
  "orig_nbformat": 4,
  "vscode": {
   "interpreter": {
    "hash": "9f0d103aebe82dfbb47ec724a2ca4fd3dcb0c9038207abb072b7913218171667"
   }
  }
 },
 "nbformat": 4,
 "nbformat_minor": 2
}
