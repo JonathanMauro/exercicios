{
 "cells": [
  {
   "cell_type": "markdown",
   "metadata": {},
   "source": [
    "Defina as matrizes abaixo utilizando o NumPy. Use os métodos np.diag() e np.array()."
   ]
  },
  {
   "cell_type": "code",
   "execution_count": 8,
   "metadata": {},
   "outputs": [
    {
     "name": "stdout",
     "output_type": "stream",
     "text": [
      "A = [[ 7  0  0]\n",
      " [ 0  1  0]\n",
      " [ 0  0 -1]]\n",
      "\n",
      "B = [[3 0 0 0]\n",
      " [0 3 0 0]\n",
      " [0 0 3 0]\n",
      " [0 0 0 3]]\n",
      "\n",
      "C = [[-5  0  0  0  0]\n",
      " [ 0 -4  0  0  0]\n",
      " [ 0  0 -3  0  0]\n",
      " [ 0  0  0 -2  0]\n",
      " [ 0  0  0  0 -1]]\n"
     ]
    }
   ],
   "source": [
    "import numpy as np\n",
    "\n",
    "A = np.diag([7, 1, -1])\n",
    "\n",
    "print('A = {}'.format(A))\n",
    "print()\n",
    "B = np.diag([3]*4)\n",
    "print('B = {}'.format(B))\n",
    "print()\n",
    "\n",
    "C = np.diag([-5, -4, -3, -2, -1])  #ou np.diag(range(-5, 0))\n",
    "print('C = {}'.format(C))"
   ]
  }
 ],
 "metadata": {
  "kernelspec": {
   "display_name": "Python 3.10.5 64-bit",
   "language": "python",
   "name": "python3"
  },
  "language_info": {
   "codemirror_mode": {
    "name": "ipython",
    "version": 3
   },
   "file_extension": ".py",
   "mimetype": "text/x-python",
   "name": "python",
   "nbconvert_exporter": "python",
   "pygments_lexer": "ipython3",
   "version": "3.10.5"
  },
  "orig_nbformat": 4,
  "vscode": {
   "interpreter": {
    "hash": "9f0d103aebe82dfbb47ec724a2ca4fd3dcb0c9038207abb072b7913218171667"
   }
  }
 },
 "nbformat": 4,
 "nbformat_minor": 2
}
