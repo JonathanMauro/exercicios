{
 "cells": [
  {
   "cell_type": "markdown",
   "metadata": {},
   "source": [
    "Os dados abaixo referem-se a quantidade produzida de lavouras permanentes no Brasil, entre 2017 e 2019. Construa o DataFrame abaixo e seguidamente faça:\n",
    "Fonte: https://sidra.ibge.gov.br/tabela/1613."
   ]
  },
  {
   "cell_type": "code",
   "execution_count": 1,
   "metadata": {},
   "outputs": [],
   "source": [
    "import pandas as pd"
   ]
  },
  {
   "cell_type": "code",
   "execution_count": 8,
   "metadata": {},
   "outputs": [
    {
     "data": {
      "text/html": [
       "<div>\n",
       "<style scoped>\n",
       "    .dataframe tbody tr th:only-of-type {\n",
       "        vertical-align: middle;\n",
       "    }\n",
       "\n",
       "    .dataframe tbody tr th {\n",
       "        vertical-align: top;\n",
       "    }\n",
       "\n",
       "    .dataframe thead th {\n",
       "        text-align: right;\n",
       "    }\n",
       "</style>\n",
       "<table border=\"1\" class=\"dataframe\">\n",
       "  <thead>\n",
       "    <tr style=\"text-align: right;\">\n",
       "      <th></th>\n",
       "      <th>Abacate</th>\n",
       "      <th>Açaí</th>\n",
       "      <th>Banana</th>\n",
       "      <th>Cacau</th>\n",
       "      <th>Laranja</th>\n",
       "      <th>Maçã</th>\n",
       "      <th>Mamão</th>\n",
       "      <th>Manga</th>\n",
       "    </tr>\n",
       "  </thead>\n",
       "  <tbody>\n",
       "    <tr>\n",
       "      <th>2017</th>\n",
       "      <td>212873</td>\n",
       "      <td>1335040</td>\n",
       "      <td>6584967</td>\n",
       "      <td>235809</td>\n",
       "      <td>17492882</td>\n",
       "      <td>1307642</td>\n",
       "      <td>1058487</td>\n",
       "      <td>1089882</td>\n",
       "    </tr>\n",
       "    <tr>\n",
       "      <th>2018</th>\n",
       "      <td>236177</td>\n",
       "      <td>1301472</td>\n",
       "      <td>6723590</td>\n",
       "      <td>239318</td>\n",
       "      <td>16841549</td>\n",
       "      <td>1203007</td>\n",
       "      <td>1065421</td>\n",
       "      <td>1320458</td>\n",
       "    </tr>\n",
       "    <tr>\n",
       "      <th>2019</th>\n",
       "      <td>242932</td>\n",
       "      <td>1398328</td>\n",
       "      <td>6812708</td>\n",
       "      <td>259425</td>\n",
       "      <td>17073593</td>\n",
       "      <td>1222970</td>\n",
       "      <td>1161808</td>\n",
       "      <td>1414338</td>\n",
       "    </tr>\n",
       "  </tbody>\n",
       "</table>\n",
       "</div>"
      ],
      "text/plain": [
       "      Abacate     Açaí   Banana   Cacau   Laranja     Maçã    Mamão    Manga\n",
       "2017   212873  1335040  6584967  235809  17492882  1307642  1058487  1089882\n",
       "2018   236177  1301472  6723590  239318  16841549  1203007  1065421  1320458\n",
       "2019   242932  1398328  6812708  259425  17073593  1222970  1161808  1414338"
      ]
     },
     "execution_count": 8,
     "metadata": {},
     "output_type": "execute_result"
    }
   ],
   "source": [
    "dados = {\n",
    "    'Abacate':{\n",
    "        2017: 212873,\n",
    "        2018: 236177,\n",
    "        2019: 242932\n",
    "    },\n",
    "    'Açaí':{\n",
    "        2017:1335040,\n",
    "        2018:1301472,\n",
    "        2019:1398328\n",
    "    },\n",
    "    'Banana':{\n",
    "        2017:6584967,\n",
    "        2018:6723590,\n",
    "        2019:6812708\n",
    "    },\n",
    "    'Cacau':{\n",
    "        2017:235809,\n",
    "        2018:239318,\n",
    "        2019:259425\n",
    "    },\n",
    "    'Laranja':{\n",
    "        2017:17492882,\n",
    "        2018:16841549,\n",
    "        2019:17073593\n",
    "    },\n",
    "    'Maçã':{\n",
    "        2017:1307642,\n",
    "        2018:1203007,\n",
    "        2019:1222970\n",
    "    },\n",
    "    'Mamão':{\n",
    "        2017:1058487,\n",
    "        2018:1065421,\n",
    "        2019:1161808\n",
    "    },\n",
    "    'Manga':{\n",
    "        2017:1089882,\n",
    "        2018:1320458,\n",
    "        2019:1414338\n",
    "    },\n",
    " \n",
    "}\n",
    "\n",
    "\n",
    "df = pd.DataFrame(dados)\n",
    "df"
   ]
  },
  {
   "cell_type": "markdown",
   "metadata": {},
   "source": [
    "a) obtenha a quantidade total produzida pelas lavouras em cada ano;\n",
    "\n",
    "b) obtenha a quantidade total produzida por cada lavoura ao longo do tempo;\n",
    "\n",
    "c) mostre um resumo das estatísticas descritivas;"
   ]
  },
  {
   "cell_type": "code",
   "execution_count": 3,
   "metadata": {},
   "outputs": [
    {
     "name": "stdout",
     "output_type": "stream",
     "text": [
      "                       Quantidade total produzida pelas lavouras em cada ano                        \n",
      "2017    29317582\n",
      "2018    28930992\n",
      "2019    29586102\n",
      "dtype: int64\n",
      "                    Quantidade total produzida por cada lavoura entre 2017-2019                     \n",
      "Abacate      691982\n",
      "Açaí        4034840\n",
      "Banana     20121265\n",
      "Cacau        734552\n",
      "Laranja    51408024\n",
      "Maçã        3733619\n",
      "Mamão       3285716\n",
      "Manga       3824678\n",
      "dtype: int64\n",
      "                                Estatísticas descritivas por lavoura                                \n",
      "             Abacate          Açaí        Banana          Cacau       Laranja  \\\n",
      "count       3.000000  3.000000e+00  3.000000e+00       3.000000  3.000000e+00   \n",
      "mean   230660.666667  1.344947e+06  6.707088e+06  244850.666667  1.713601e+07   \n",
      "std     15770.488906  4.918209e+04  1.147638e+05   12743.102618  3.301218e+05   \n",
      "min    212873.000000  1.301472e+06  6.584967e+06  235809.000000  1.684155e+07   \n",
      "25%    224525.000000  1.318256e+06  6.654278e+06  237563.500000  1.695757e+07   \n",
      "50%    236177.000000  1.335040e+06  6.723590e+06  239318.000000  1.707359e+07   \n",
      "75%    239554.500000  1.366684e+06  6.768149e+06  249371.500000  1.728324e+07   \n",
      "max    242932.000000  1.398328e+06  6.812708e+06  259425.000000  1.749288e+07   \n",
      "\n",
      "               Maçã         Mamão         Manga  \n",
      "count  3.000000e+00  3.000000e+00  3.000000e+00  \n",
      "mean   1.244540e+06  1.095239e+06  1.274893e+06  \n",
      "std    5.555231e+04  5.775489e+04  1.669583e+05  \n",
      "min    1.203007e+06  1.058487e+06  1.089882e+06  \n",
      "25%    1.212988e+06  1.061954e+06  1.205170e+06  \n",
      "50%    1.222970e+06  1.065421e+06  1.320458e+06  \n",
      "75%    1.265306e+06  1.113614e+06  1.367398e+06  \n",
      "max    1.307642e+06  1.161808e+06  1.414338e+06  \n"
     ]
    }
   ],
   "source": [
    "print('Quantidade total produzida pelas lavouras em cada ano'.center(100, ' '))\n",
    "print(df.sum(axis = 1))\n",
    "print('Quantidade total produzida por cada lavoura entre 2017-2019'.center(100, ' '))\n",
    "print(df.sum(axis = 0))\n",
    "print('Estatísticas descritivas por lavoura'.center(100, ' '))\n",
    "print(df.describe())"
   ]
  },
  {
   "cell_type": "markdown",
   "metadata": {},
   "source": [
    "d) converta o banco de dados para csv."
   ]
  },
  {
   "cell_type": "code",
   "execution_count": 4,
   "metadata": {},
   "outputs": [],
   "source": [
    "df.to_csv('DadosdeProducao.csv')"
   ]
  },
  {
   "cell_type": "markdown",
   "metadata": {},
   "source": [
    "Com base no dataset anterior obtenha:\n",
    "\n",
    "\n",
    "a) média da quantidade total produzida das respectivas lavouras em 2017, 2018 e 2019;"
   ]
  },
  {
   "cell_type": "code",
   "execution_count": 10,
   "metadata": {},
   "outputs": [
    {
     "data": {
      "text/plain": [
       "2017    3664697.75\n",
       "2018    3616374.00\n",
       "2019    3698262.75\n",
       "dtype: float64"
      ]
     },
     "execution_count": 10,
     "metadata": {},
     "output_type": "execute_result"
    }
   ],
   "source": [
    "df.mean(axis= 1).round(2)\n"
   ]
  },
  {
   "cell_type": "markdown",
   "metadata": {},
   "source": [
    "b) média da quantidade produzida de cada lavoura entre o período selecionado;"
   ]
  },
  {
   "cell_type": "code",
   "execution_count": 12,
   "metadata": {},
   "outputs": [
    {
     "data": {
      "text/plain": [
       "Abacate      230660.67\n",
       "Açaí        1344946.67\n",
       "Banana      6707088.33\n",
       "Cacau        244850.67\n",
       "Laranja    17136008.00\n",
       "Maçã        1244539.67\n",
       "Mamão       1095238.67\n",
       "Manga       1274892.67\n",
       "dtype: float64"
      ]
     },
     "execution_count": 12,
     "metadata": {},
     "output_type": "execute_result"
    }
   ],
   "source": [
    "df.mean().round(2)"
   ]
  },
  {
   "cell_type": "markdown",
   "metadata": {},
   "source": [
    "c) desvio padrão da quantidade total produzida das respectivas lavouras em 2017, 2018 e 2019;"
   ]
  },
  {
   "cell_type": "code",
   "execution_count": 13,
   "metadata": {},
   "outputs": [
    {
     "data": {
      "text/plain": [
       "2017    5950078.65\n",
       "2018    5736499.52\n",
       "2019    5799394.47\n",
       "dtype: float64"
      ]
     },
     "execution_count": 13,
     "metadata": {},
     "output_type": "execute_result"
    }
   ],
   "source": [
    "df.std(axis = 1).round(2)"
   ]
  },
  {
   "cell_type": "markdown",
   "metadata": {},
   "source": [
    "d) desvio padrão da quantidade produzida de cada lavoura entre o período selecionado;"
   ]
  },
  {
   "cell_type": "code",
   "execution_count": 15,
   "metadata": {},
   "outputs": [
    {
     "data": {
      "text/plain": [
       "Abacate     15770.49\n",
       "Açaí        49182.09\n",
       "Banana     114763.76\n",
       "Cacau       12743.10\n",
       "Laranja    330121.79\n",
       "Maçã        55552.31\n",
       "Mamão       57754.89\n",
       "Manga      166958.30\n",
       "dtype: float64"
      ]
     },
     "execution_count": 15,
     "metadata": {},
     "output_type": "execute_result"
    }
   ],
   "source": [
    "df.std().round(2)"
   ]
  },
  {
   "cell_type": "markdown",
   "metadata": {},
   "source": [
    "e) variância da quantidade total produzida das respectivas lavouras em 2017, 2018 e 2019;"
   ]
  },
  {
   "cell_type": "code",
   "execution_count": 19,
   "metadata": {},
   "outputs": [
    {
     "data": {
      "text/plain": [
       "2017    3.540344e+13\n",
       "2018    3.290743e+13\n",
       "2019    3.363298e+13\n",
       "dtype: float64"
      ]
     },
     "execution_count": 19,
     "metadata": {},
     "output_type": "execute_result"
    }
   ],
   "source": [
    "df.var(axis = 1).round(2)"
   ]
  },
  {
   "cell_type": "markdown",
   "metadata": {},
   "source": [
    "f) variância da quantidade produzida de cada lavoura entre o período selecionado."
   ]
  },
  {
   "cell_type": "code",
   "execution_count": 18,
   "metadata": {},
   "outputs": [
    {
     "data": {
      "text/plain": [
       "Abacate    2.487083e+08\n",
       "Açaí       2.418878e+09\n",
       "Banana     1.317072e+10\n",
       "Cacau      1.623867e+08\n",
       "Laranja    1.089804e+11\n",
       "Maçã       3.086059e+09\n",
       "Mamão      3.335627e+09\n",
       "Manga      2.787507e+10\n",
       "dtype: float64"
      ]
     },
     "execution_count": 18,
     "metadata": {},
     "output_type": "execute_result"
    }
   ],
   "source": [
    "df.var().round(2)"
   ]
  }
 ],
 "metadata": {
  "kernelspec": {
   "display_name": "Python 3.10.5 64-bit",
   "language": "python",
   "name": "python3"
  },
  "language_info": {
   "codemirror_mode": {
    "name": "ipython",
    "version": 3
   },
   "file_extension": ".py",
   "mimetype": "text/x-python",
   "name": "python",
   "nbconvert_exporter": "python",
   "pygments_lexer": "ipython3",
   "version": "3.10.5"
  },
  "orig_nbformat": 4,
  "vscode": {
   "interpreter": {
    "hash": "9f0d103aebe82dfbb47ec724a2ca4fd3dcb0c9038207abb072b7913218171667"
   }
  }
 },
 "nbformat": 4,
 "nbformat_minor": 2
}
